{
  "nbformat": 4,
  "nbformat_minor": 0,
  "metadata": {
    "colab": {
      "name": "Encrpyter_Decrypter_Net_V1_2_3.ipynb",
      "provenance": []
    },
    "kernelspec": {
      "name": "python3",
      "display_name": "Python 3"
    },
    "accelerator": "GPU"
  },
  "cells": [
    {
      "cell_type": "code",
      "metadata": {
        "colab_type": "code",
        "id": "hfntcH0W00ee",
        "outputId": "6fb0078c-afa4-4f47-cd1f-49b30942e532",
        "colab": {
          "base_uri": "https://localhost:8080/",
          "height": 36
        }
      },
      "source": [
        "from keras import Sequential\n",
        "from keras import layers\n",
        "from keras import optimizers\n",
        "\n",
        "from keras.callbacks import ModelCheckpoint\n",
        "from keras.callbacks import ReduceLROnPlateau"
      ],
      "execution_count": 0,
      "outputs": [
        {
          "output_type": "stream",
          "text": [
            "Using TensorFlow backend.\n"
          ],
          "name": "stderr"
        }
      ]
    },
    {
      "cell_type": "code",
      "metadata": {
        "id": "LQ21dR9P8gVv",
        "colab_type": "code",
        "colab": {}
      },
      "source": [
        "from keras.models import model_from_json"
      ],
      "execution_count": 0,
      "outputs": []
    },
    {
      "cell_type": "code",
      "metadata": {
        "id": "MlM85BbVUrv7",
        "colab_type": "code",
        "colab": {}
      },
      "source": [
        "from tqdm import tqdm_notebook"
      ],
      "execution_count": 0,
      "outputs": []
    },
    {
      "cell_type": "code",
      "metadata": {
        "colab_type": "code",
        "id": "o_XK9X5oPsL7",
        "colab": {}
      },
      "source": [
        "import warnings\n",
        "warnings.filterwarnings('ignore')"
      ],
      "execution_count": 0,
      "outputs": []
    },
    {
      "cell_type": "code",
      "metadata": {
        "colab_type": "code",
        "id": "La699KWSPsME",
        "colab": {}
      },
      "source": [
        "import numpy as np\n",
        "from sklearn.metrics import accuracy_score\n",
        "import string"
      ],
      "execution_count": 0,
      "outputs": []
    },
    {
      "cell_type": "code",
      "metadata": {
        "colab_type": "code",
        "id": "klol-OGDPsMK",
        "colab": {}
      },
      "source": [
        "def create_labels(paragraph, hashmap):\n",
        "    # paragraph = paragraph.lower()\n",
        "    output = []\n",
        "    for i in paragraph:\n",
        "        output.append(list(map(int,str(hashmap[i]))))\n",
        "    \n",
        "    return np.array(output)\n"
      ],
      "execution_count": 0,
      "outputs": []
    },
    {
      "cell_type": "code",
      "metadata": {
        "colab_type": "code",
        "id": "5DyLy5GF7lnD",
        "colab": {}
      },
      "source": [
        "import numpy as np\n",
        "from sklearn.metrics import accuracy_score\n",
        "import string"
      ],
      "execution_count": 0,
      "outputs": []
    },
    {
      "cell_type": "code",
      "metadata": {
        "colab_type": "code",
        "id": "GrY57mTsbIaw",
        "colab": {}
      },
      "source": [
        "def create_labels(paragraph, hashmap):\n",
        "    # paragraph = paragraph.lower()\n",
        "    output = []\n",
        "    for i in paragraph:\n",
        "        output.append(list(map(int,str(hashmap[i]))))\n",
        "    \n",
        "    return np.array(output)\n"
      ],
      "execution_count": 0,
      "outputs": []
    },
    {
      "cell_type": "code",
      "metadata": {
        "id": "itrWMHP4Um05",
        "colab_type": "code",
        "colab": {}
      },
      "source": [
        "hashmap = {\"'\": 10111011000011101101110111001001101100100100111011011110, 'G': 10001011010100101010111001101011000110011000000101011000, '/': 10111111101101010001111100100111101110010100010101111100, 'o': 11100001001101001010110011000001011101000110110101111110, 'I': 10101000100010011101111111100110110111000001000110000110, 'n': 11110001010010111001110100111011100011110101110110000010, 'X': 11010100010001101011001011101010110100000101010010101011, 'i': 10010110111011100111110001101111011111101000011111111010, ']': 10110010010011111000010101100110000110011011111000100001, 'b': 10100010010010100010010111001101000011000101000100101010, '6': 11001011100100011010001011100001011111100011010011000001, 'O': 10010101010001110010110000011101000010010100101010010010, '9': 11100110000001101111110000101100000001111011010001110110, '4': 11011111010001110011010100100010100100010010111010111101, 'm': 10110001101011110001111100111111001001100011110101110101, '*': 11010011011100011000111011101100111011110010011110001011, 'f': 10100110100010100100111000111000000000110101001110110111, 'S': 11100001001001010011011101010010011000010001011100100100, ',': 11100011001100101111001111101010101001000101101001000111, '`': 10101010010010001000011011001001010001111000111101110010, 'x': 10001101011110011100101100000000111011001111011010000110, 'e': 11011010100111111110100110011010110101110100101110110111, 'K': 10101000100100001100011011101010010010001111001011111010, 'Z': 10101100010101001010010011100000001100111101011101011001, 'W': 11010011100100101100010001100011111111000111000100010110, 'T': 11110011000111100100011100001000100110011100111001111110, ';': 11001000000011011011011101101011010000001100100001001100, '-': 11100110000011111000100011010000010110111011101001101110, 't': 11000010000001101101000100001010101000010111110110100000, 'R': 10001001011111101011101110001010011010001011000011111000, '^': 11010011100000100001100011111010010110110100001010100001, 'F': 11111010100101011010100101111100110100001010110101111100, 'D': 11100011101100000011010100101010110111101101010000011110, '@': 11010001110110101011000010100000000101010101101110101110, '&': 10110100001111110010001101001011001100011000011100100000, '%': 10011100101111110110111011010101110110100000010111010011, 'k': 11011110110110010100101100000000111011010000001110011100, 'd': 11101110101111011011111111000000101010100001010110111111, 'L': 11100000011100100100110100110110111001000011100111101110, '!': 10101110011000001001010111000011111101111110010001010010, '.': 10011001001101110011001111111110100000001101100110001001, '#': 10110101011011111110111100101101011111010001010011111010,\n",
        "           '3': 10001011000000011101110000001100110000010010101111001010, ')': 11101111010001100111011010101011010100101010110100111000, '$': 10110111110011001111110000001111000011111111111100110110, ' ': 11000000101101010001111000000011010010111101111011011100, '=': 11100000100010111111001001111111111011001101011111100111, '(': 10000011011001000101100010011100111100101111111010100111, 'H': 10111110101100001011101010010111110011111011011001111111, 'r': 10011000010011100010101000010000110000111101011111100011, 'N': 11110001001001111001000110110101011100000101000011000000, 'M': 10001101111001011001011100010001010011110010011000011010, 'u': 11101111110110000101010110101111101010001110100000111011, 'V': 10111101111010100011000100101011011100010101011100001100, 'p': 11101001100000011010111110110110110010100110010001010010, 'a': 10001011100100110000011110001101101101001010010100000011, '?': 11100111010110110000011000011100000101010000101011110100, 'v': 11111101000010100110001001101000010001000010111001011100, '[': 11001100000000100001111001011101001000011100011111010111, ':': 11100011110100010111001111011100110110011110111110010101, '_': 10010000010010101111110101100000110011111001011000110011, 'j': 11111000100110000010110101011111000101100100011001101110, 'l': 10111100001111101010011110101011000001000110000011111100, '1': 11001000100111111011011011100111000110101100101110010000, '+': 10000100111011111001010010101111010011100010110000100110,\n",
        "           '2': 10011010010011110000011110000011110110001000000001111001, 'w': 11111111101001111101001010001110101010100111001111100010, 'q': 11000010100010110000101000100100010011111100110011001111, 'U': 10111101100010001000100010011011000000001001111001100101, 'c': 11000001100110111101010001011001001011100010001100011101, '5': 10011111001110011101111101011011000010001001101100001101, '\\\\': 10111100010111011100001001000111000111110100101000111101, 'h': 10010101011110111101011100010100110010011111110101000110, '<': 10100010100000011001000100110011011001011111111000000111, 'C': 11000110011000100100101100001101101010011100011100100101, 'J': 11110010011111001001111010100000100010111101000110011000, 's': 10010000001010111010110101010001011100000101010011101110, 'P': 10011101111000111100100110000001111010111100000001011001, '8': 10101111101100100110111000001000111101111010101000001101, 'B': 11110011010011100011010111001011010000010111011110101010, 'g': 11101100000000110001100101101110100101110100110001011100, 'Y': 10111011111101101111000111100111011011111110001100111110, '\"': 10001000101011010010010011011110010001011011010011101110, 'E': 10001000110111111011001010111111010000011000001000001101, 'z': 11111011010100000010010010010011110010001000011111101000, 'Q': 11100110110010010010010011111010011110101111111010001110, '>': 11001011100110111000000110101000000001010000110101100010, 'y': 10000110110110110100100111000111000011101011110111010000, '0': 11001010101000011011100110001010001110000100110101001110, '7': 11111110110010111001010000001110101101010101000010111111, 'A': 10110011101111111010100000001000010000011000110101111110}"
      ],
      "execution_count": 0,
      "outputs": []
    },
    {
      "cell_type": "code",
      "metadata": {
        "id": "rXmRpG7-XzXE",
        "colab_type": "code",
        "outputId": "b0cdbead-2a81-4077-d4b3-3864d32ae7d0",
        "colab": {
          "base_uri": "https://localhost:8080/",
          "height": 36
        }
      },
      "source": [
        "print(len(hashmap))"
      ],
      "execution_count": 0,
      "outputs": [
        {
          "output_type": "stream",
          "text": [
            "91\n"
          ],
          "name": "stdout"
        }
      ]
    },
    {
      "cell_type": "code",
      "metadata": {
        "id": "k05ppUleX1Ag",
        "colab_type": "code",
        "outputId": "71087d58-dae0-4bb2-a1aa-d50327776bf3",
        "colab": {
          "base_uri": "https://localhost:8080/",
          "height": 56
        }
      },
      "source": [
        "l = []\n",
        "for i in hashmap.keys():\n",
        "    l.append(i)\n",
        "\n",
        "print(sorted(l))\n"
      ],
      "execution_count": 0,
      "outputs": [
        {
          "output_type": "stream",
          "text": [
            "[' ', '!', '\"', '#', '$', '%', '&', \"'\", '(', ')', '*', '+', ',', '-', '.', '/', '0', '1', '2', '3', '4', '5', '6', '7', '8', '9', ':', ';', '<', '=', '>', '?', '@', 'A', 'B', 'C', 'D', 'E', 'F', 'G', 'H', 'I', 'J', 'K', 'L', 'M', 'N', 'O', 'P', 'Q', 'R', 'S', 'T', 'U', 'V', 'W', 'X', 'Y', 'Z', '[', '\\\\', ']', '^', '_', '`', 'a', 'b', 'c', 'd', 'e', 'f', 'g', 'h', 'i', 'j', 'k', 'l', 'm', 'n', 'o', 'p', 'q', 'r', 's', 't', 'u', 'v', 'w', 'x', 'y', 'z']\n"
          ],
          "name": "stdout"
        }
      ]
    },
    {
      "cell_type": "code",
      "metadata": {
        "id": "8rW5-ALCYARj",
        "colab_type": "code",
        "colab": {}
      },
      "source": [
        "def create_input_array(word):\n",
        "    enc_l = []\n",
        "    for i in word:\n",
        "        arr = np.zeros(91)\n",
        "        enc = ord(i) - 32\n",
        "#         print(enc)\n",
        "        arr[enc] += 1\n",
        "        enc_l.append(arr)\n",
        "    return(np.array(enc_l))"
      ],
      "execution_count": 0,
      "outputs": []
    },
    {
      "cell_type": "code",
      "metadata": {
        "colab_type": "code",
        "id": "LIzJTfqpaize",
        "colab": {}
      },
      "source": [
        "X_train_string = '''b'Kp]I! S t\"ayQ<w )8tfwP 178 ]R?Dop gBv )1 mJE#@N79-= f+ b*=z @<z`-e>mg$ `5Uv8)j*= fyVUjtBI1^ /+ktvxSF[ 6n*VJj9Pu 5[3>0 L9# *6;X k/y[ \\'OSQ2,RCF 5.razd4T `HW;#=84rs _ fX[;+ z?!m0V P1inV7C.kF \\'k5,bO ziyek H3.TAG\\\\1 w?cf652J PYg-x1 .oqv bm ] $VCIi^Hnu WDHb az6d<Q7L% vi)6]J8 7X Leb 2N4 3EUe: wUsr $;v #gp i1 Sd b7e@C:.I^< 64t$UdmiC b1 y3u=2*$h 6K3ex\" 2y%?c z *(SK[C -96\\\\ Vx%zq2 Z N!;BKSh ]d[t;4< u/aF7;R* B6@iq\\'d& PT \\' eJw6vz@4g/ NH@) 9L6o%b_v#! 4w6.f f]rp%2\"b\\'q 1 IAB[Z\\\\vl=0 VA v*^L<f r=vm\"gS9 JXj.W$ B<bw5L7zk a`*9;s[# /v-+\"Q n.GPh ,KmgE;Mfk& bV9?Zo XArG_  Go*nD,U .@\"!2xhaz` Eyx 4W;r>N17\"l .!m/YDU9 @x>\\\\th8   r 49 ]cN_`gWM .^+lDGc Xu^-+ Py8?J:xv\" (2/ aX!t<>  $aR we3)bHT u2#>B@o)d SsAbV bOL?] b1G%;+L4C2 kY(*zJ TPzfk 8[Imd` CK [`a;vtK 1.X=!4<ut ` Ym%xF-J ,Z5zEa\\\\uj Swn= W=8J.aSys  6# w.\"o/x2tM y8 )Y-$ r.V$gTh1= Tu @T LPX . Bl2UQM5 rFyk\"_Lv o0MV ,I.m\\\\)?n 1o4s2pqQ<n mU5iB`FG +$x6LyIo0  hEWB] V$F8+iR q:Nz LA\"sm pmvA y)be>=8/q \" \"e,RiT!a `*:GiUu,a vwd$\\\\J &8\\\\ ad -Ll%)0U  zSWQ?s [-D a.o( D`/LVy ,Nc\\\\R_hXU Ap)_5Nur HF5?TqK ,t8? QD [v&0/g] c2xW;3# Y O^/9#xupg Y <ndO m G)Y`W=H\\' ]@w T3=l28\\'K< qr+ mt/Pw5nE; ]P3I5+Q*. 4 r$R\\\\8 Gh -W>V$Q^ #94gwd c-C\\'T4D]i^ $!# +M=L\\'< J8]2 kCQZid&<: q#1d.L4/ B[A qKNuS<Fo 7 &a$ rxL.6 ^>m\\\\icO ljuZ?63r4H e=JREx+ R*#WgF2KBu , DQESp \"Lu ^buw $V>P7 +9=8S 3?I,jw U- E>[$ uUQcG 0d ;]SC eb*_\"+ jM\\'VYFk &T ulRH,ti D@Z<H 6:m;z hBc_gk q <0*W47\\\\v os Mq2\\'ixuj QX;u#R/ j I4\"D 4Yb N- *X.! X&J?B\"O S0_Yxi1bB uL9x7q @ 0K^N d,U;vRm @\\' GXRq=\\\\]x9 nA&JkvH( Rw, `\":3 sg pD,Mb # i?r=:% N$\"e XVKUs  8mXW)+1x =?>.B0 #!rW(y@c/ )1IX,\\' HLhn82 $Q i,$Ld. \\'Dj3 za If&@g+MS_e pM\\'C; -2w#e6n0!I Yu@<M n,U-KybB TmQW 206N]t &H>*/TCiy 6z`20 PA?9  [Ge)2 !CM_e :KPlH5e\\' .]F=z ZC (dVD#6e pw?a=:P EydjZYGRpV nz_Rs !hN.9C\"x JbRm $6<I n^N/u\\\\,[-x %+ > /Pc\\'6 t \\\\#:7jkfh 1=^b:`\" a; q ?= MI_oY[7xf Lf<qUC6pb? >/U\\\\VbE87 #> \\\\)Co xmGB3zP4Fj \" _w-*jc`K `_5wDMP^! /ZN0 #1* ,HX y*Y&R\" dPfyk\\\\`JmE < D9cC=L7;([ tlsiuK /1 Yb7g2dHx3  4*Th26%rA Xl+vqKhw zF-<Km(B :z(%gfoqt mN\"^I08Qo > w.o] N a EyC T6<O= %< v&k_ h_C,7o AKV,C8]JBr OB&S iSc\\' 5&J>CX #f `3#mv\\\\ ZfMNxO V[G&\\' g4lU9$ W? i>R efZ\\\\I ?  &fW-253Kp i t3.,YE EV8# T_l QfA , XBlCu 5,\":A[O7Y Z]a,.Do &q,cn-C> WQb<\\\\` >pR6<5XWvb >o2d[3Fs W`\" ;T\\'Bz\",jE S ^t, (6Iy2)nZ j;LKY^S PLXNC =QUWq 8-Ze^l y\\\\cYS^%<n 1:qHwyjE r*V/1 MSjN AhuQN2\"Z_w U zvGf64h<yd nis1o7NaV T]C(Aqm? JSyT+xznO  NP]^#2qIiU iU^h*L PBWvyue1^ Yz2 `2^ 7\\'xn> ?Wv[rH,Fa H.d:-G ([ JxmjAwe.Q ]8Nx0ZM3@< xvP5eou xhIM cqp/(C\\'Jw) \\'H= oAPm:\"v@ $!Gx=-\\\\P aKWo .f4Wpw\\\\)Tx kv> wWt Xnq;!^0 N . FCK h5c3s=EITX ?v o1 Z9Ev[8=yI CHAMQdSjh WiX9q] m&L<s ku]5c<&, qhSI7M?*u PdSAesLM6 .u1J\\\\iA! 1 Z5M:fp %[9GH:RC RuxY `G=:,7> [;2NB c`/Ud9E - W:_ i#]VR2: 6: jo!* EMt w o% S^n6CY7 mJ p-A,r/gK SH7w842 =DU&eMtw %9$an ?\\'xf9 zaGr5-vu! FQCG^H=Pp 6hTz_L,[ fV %^J hE/i%b ;b5<y:r!VY %Zp@ ) qnMHc /7vS : O>s1yWbNPS \\\\kCnXL ]z`\\'nX+ _-YM2A 7^5: ]wOm CIU%FQ?1 ( ] O\" 2uFva0LZ# YTpafE(*19 w = l<O#8jm p4  /p) %Fn<- 0 \\',fH OdU(sZ 9 bS.v q6F!\\\\y !F2[O 2\\'],` ceZRX\\'UNa asK?-\"S CJqD td +>v#0_f\\\\F u(o2qk=jx\" \"4t yG= OF&Qd8 &G K Zo>zjFp\"h] G<= vFomWTq0Y% :!3 U S`Qc ]YE.C\\'r( [.v\\\\ EhWRH /nE<3`Q  c ;1X,)8aem Ks(nSWU 7? vHPKL6Ex c . _*(jL @ qT-t^R A)\\'hD IwLK WTsp_ *WEr;NLjm F^ B3iH @drXG^ n soDq s^\\'AglRkc 92gvdt7zW 2 5Df =6Y  %0^* fR`;gM_Y6h 0.8FUE;t lZx R\"D1Y]dX V8eRtG(Kb, f9 Vdiy>SL/O2 .W 73Z*$`6^ B$xO iC,:a0fq;2 + 6vui : [\\'MUj tcp#rB\\'A Y#q )yno l?/bz]N& V7MN$Pthm N o>8Z+i?; @\"Y> J7] i= cFv RevgrJD d0@W5  931&ym : @Qm5sI+L^ HRw i]RoA2#y) 8FuEP= t>oK \\\\ ]>zrR# q0\\\\*^ jma ;e.ux _ Y7+w0 C[RBU -D la3 CP^ 1`XDw:9t 9yhT N\"=!69R&d* > Rjh2Ss,: 6F5@\"b q)iZze`bM &6R\\'1 BMA_ *Md` N0kez:., meo&Y; \\'L6 Ca p 0mb.`:s& [ W@xj.T= 8k!_R , ^F G= wZif OHF8lEwd27 6 O ; #L\\\\,Q(+>7 &f1dQ8!O N -k@ FZ\\'LUYiwf & sB57@yQ- 5cjWrt%ai< tHsjL! oMv Rgn >s 5i2\\\\ \"6W\\\\Ik kW GIR9?N&qK gY! H=! N.jgoh+ QS mYxba n2cB=6, C)4 =@!qB 9;d E^M1BywqJ` )yFsQ 4_*ts 2G+L \\\\2m x aRk7U Ghp*ADqo l i 0]A`at x \\\\D12- LS \"q@Dyrn .dqgOi]W o\\\\<v.KOxA umYJP? he\\\\Ci^z sW VU4v `. cYA2  S EzU %4 uC\\\\m4 PK38rB , mj\\'_+kUz T93! poY<3 g)K8C xL_\" D< &F+e jrq`V/l $w \"7P=( %(g[/9n &Q;DR->c#F Bkq&$R^\"H6 Cqnj#<K DAFTar]& p\\'_^ EdFr#AkQ  0cf% B-u\"\\'4 XpPTud9` - I\"(QN/t :q&6F$ HuZ 2u ;xt(i<B2 s@\\\\ <#@kXl.V` >3J5d d *yD-k9\\\\ i4CfES-j 4\\',EX.Bjby M2G.I:bliu /2.7mPjAJ\\\\ ]8)Z1 )-wgsfI[a/  Mo=H8z\" qA\\\\ ?eD8zHx;p \".1=WN c:8q  A8a$\"jb g a)\\'s ^`D q\"vRC2 Bc b;T dXz&fJt! ^2 \\\\C1 - []B*w6rHkU TvU0 es-g/uM IqVp$)6Mv =#\"S: x0Ya,j4T 8I(H KD$,   O+\\'F y : #cbG tI1As V]M6=e )N3 *Mi;&!Oc) 1MQ 7Ke3 oR`k-z !3=S Xoa <9?1n0:^`* o>\"Qz pDM]R0 ]-/`8aoU=* bWR jcDtrq 9 zUEZX!t t.g\\'a X(2!70z+k [nbo [zRHlJp\"+ rZE5.T_l EIn^(z; Ee.giY8rA, CFxq6v(V B$an1])5 \" Xx\\\\1vr+EGk TZN7g 93*wj! <%96 x^h#fI$ .oN0xOn=5: 5V?L)F!M qw?Lf zfF URVE=$5d  =An0?`wo E$`K8n 8=`3Qa1 iG1r GZygw. JX@DKx7 %!+ x*\"8m _] QvN\\\\ qM (R.A2 j\\\\Ty[m9 861^\"i@yfS HK Gf =dW etcJ\\'w0 aD@S t pF! 7-g(6)/ i] #j 5n;uY1rg Ug7Kn9oVA !\"#  Elno9 wKBvukR V*=@1O \\'\\\\@<R qun $wuQ[O jsyR\"8eUC6 \\'*s Q e12,Sv)>&` *24r/!<co\" W3 WE,F2] rb 1/_H9O \\\\Zv EH=Vc2 %\\'X?k GR F.Z m ,P0\" \\\\ jM;NA<v> 1iE3h;Gr) j *UF3zZg2r_ F[h;Hk3 @H)Cni, u:< gB(c2 z @F5T*$iv ]Ao \\'@j1_?\\\\d#v .L \\\\9/\\'8 GDJF9KqeM s9r\\\\Aa _$(J`Qt #jK $p? y=G BamA&8cK?g kqVMpdem), 0yIx;` Fh g=ZlVemp9T Sb v;*L-m9Eo !;O #ny6oY\" _=K 4h>n /z!f ^FG7 #m/L!\\\\ %mt3+ noSIt1`h OG i +[9d &0y.)]8 )w.*,6 ps Z+Q=[ XZgCT#mPfB  >&w wm[MStu iy/H0Tl^C M u\"Ea9>L?F N!QL cC\"ya2+7 l:n W=3.V9aT\\\\ [35V   8[K#ejb PTZz+W \\']3dCv lW1(H2&$q WaRI3C :T6-(`<Bo W(o58 v /> NeR8 twzd!O#+ ;-?>l 4Lp:>TfQ/h KI1-R&3W8_ xOSA`XY(? Y_ k]9@-^ .;(>/ T0y R &-Zxn R^ /$tIw7\\'Bd i`F3Jy#9T0 z)MWjy ]yu TGF4v\\\\ .LQ 685E v yM =zSt\\'(+ jA( I Bo(=vM!f\\\\C `3#DZ0]b K# @2 P l E4 cG1>#Td  _s534WY2 A^ =6ieA1Q bm5cwn gq+es@f ;5Fb= $7 0s+ #m+0 $YsLj@w6 ! qEG Wgq;` 6K\\\\4a(\\'- -6$f=&qVP\" K$x)g\\'6L7q >! ; zZSOLwG T-bcM&is (u*7H0:M tI>+OP6 ZuA8g C_h8 =MX(Z\\\\q $o y7/ q!y4=) nQj*+P^JMd 8L!i_ 3 b@_L]q. # Q(4S _X9!v v #xy_ &- TOjF! I4[ineR]Jq Fcd@7s[D4 X&8qD@gJS wVWx .ozjqJM PYfs?g \\'4LW; O&cJz,9*6 0qn.<- c &w 1UKw)uH Rz_iqx]Uvt ieu.2 J 9-`521 8,D 7\\\\%BFz#s/ 2B z5ZQI 94 aI# >(Ny0ef$ : Lc zwA\" *=.Y6HBI8 ZW0?\\'\"> l\\'_h l fG@7!e wVJ#H4D yrR\"vs k sM[G G+9>b`LBR E UvHxj 8$2+- Cus-!AjNG< gytl) ltMK@Zj vzA[73W8 m`c K6m\"/f\\\\ O ^w m C6bm 0 <_=)Q fE[C gy m : /u D `0+ NX cnitB>=I?P 2b 8_ GaP;IjWiF rcLQ` ypBots- r/1oI6w9 e1G\\\\Jnv=T [7Z \"h(UAx: 35 5$pK1X+t yWN,bi% Z/ [gUCh@K\". O ,yxM7EzA(p & n(!w NyO -HKT =2&K pM 7Q1vn K V14vSkHWab :d3XlJz#mr L&_=c /9#^ q8,N!Ed/w mET;pM\"Fu L W L6 wD jTE&i )Uq!ZF LUG4dP. [C,S ] Y0 !y Hwb/ 3uk1 Sgxcp;OA U F!9 ;Fb\\'vh]C$G MecnUA   _*Sl b]5>k0  $bl`wI_t hz0U 7*yB=hx +/]-!_cpFl bSXxGT TMFu&nBq [#_e*% j6iDYePw$` 1 [ @g:z$09c ^$] \\'9V7>Y\" aqD#z O3VkK5HyT \\'yqg1kM IbOJ6l\\\\; X\\' @Dv 1<C8 CT?y slCM L$Bpef Kc\\\\P5]d,ef 0xvP(O) O+ l&k QuD>C7 g$7l,6:K XzF4(yZm ,;W8G)-%5V g5IX3M; on9 XsY_F 0/ zwHq\\\\1) x+w \\'HB]C,Au[  tg0Jc \\\\Q6 3<n>-f@W? 6FYP7>S!= /BRbOf<Ms@  y?-=N/0]4 Wna0STv*\\' nJqH0%Y1D sZ)yu %=)cA *W\" 3fdELH<J p GHTvfhN/e +v \\'][J h %.C6sjUo I@EU f9[> 8$ sr+1BG`- S\\\\3.9 `@ f1H>\"v \\'So R Yg+b[x\"@#? x H /If 2.c@xzm Tyo*L VTfr8P1B )hJS 3l<$. S\"!F(& se\"(^XKR Fzt4 tN0.\\'oG1[ &0K7Tq  vSdw\"B@[` \"[6Uy.Iz]` J $!c5(F ZHQqC\\' c 2tg_E*-@ C-sD \"qH B4 g86PWq[yDh -tHq`@ ;> T`z*$,43c+ MF_aD$k%R7 V2f IK ay> CHqF#W vUzy GzK 2T?\"knx>% ?H`;vq -m[=H(\\\\Yy` L \\'zA#[:.  ^D<@-K\\\\M9 .\\\\,mfR1y2k :v@ 5T_[ON moW eS`CH6_ %;(c :bAq$? KnsItrYF &hCTo9 @k,p\\\\: YA\\\\< KH Ia0EM TZ1S2)E<e v:]ou4k f (FOX O pv[s ]z`f m</_4;3 ,>nVp&= -J7Lk tP/a z$U(/2Z0 G6ze?a$BL zl7\"-/BM t7Qm:N !=k4uiD %A$8[t %V#qa>$,kY nk/GJ ac.kBJ 4_Ke Ii nJS.q(^#e) Fx3b uU6: $pIFR(L\" Xs/2S r&bZCOR 9hb sgRwV /Put l\"\\\\PQq9T`@ i HN W vFj?E fP9RJn .6 2t! 8 Fp=]BG !@I F)_C dO$7Q#N4B5 kA M z-3N1>T Pl<% /AY-qW&v z>Km iO0#\\' rAVYKP9 ()Yl *Ug p 0o1 niAUZRm n9a(s@L! afze(@q 3kAi> RgB ;j%Hc F1o*gA S,*8 ktPUDL46b j1 P-i$aZ`8p[ DC(@s.M 1whM dT!.1,^jV? G!YPbx:j6 v i6 i7sx`_(ge = T`>3fJ9d C=w FPYC\\\\rbBx &%MQ Rj`;L *6+X`Kk Q[R \\'osg_8<4 SCg+$5X9 *i)w!b]` n <#[bi +c ?w9=^R 306*]9!U dZ-\\'5)\"Yu Bx:\\\\Jt \"S R Fy*YH9 daln7hr F/m6=P v B.#hoiz mw2+X0  @y!YJ O@ 8K !V+7N>cv  7?biOKSv *#z`I E -zTs\\\\8B N uH !1Jv u/x7]hz$ ;]\\'ojb_ i p*_ ?#<A&T`VRz -t0cf$8 b GF2>Xp]6J8 hRNv3 #f0m@[ w!F<D8H%1 y05Rw 2P1 >IvK Mnu`Br3\" )97+s#!F6` 2vNtEoU98 Z 7)ja 9\\\\i<* :hxE>#wW bYp15 Eq F$\\\\](&LaK[ REfS( p,wBosr pU bp)w?=x]t( JE Io u(7@G4bns deR6\\\\j_ jWc)t,v3 ^ hl[x A >f6*:(3r?e u h/;xnPc3 e%,&  rq?vhyTg '''"
      ],
      "execution_count": 0,
      "outputs": []
    },
    {
      "cell_type": "code",
      "metadata": {
        "id": "lwfSAJNQnB3R",
        "colab_type": "code",
        "colab": {}
      },
      "source": [
        "X_Alice = ''' abcdefghigjklmnopqrstuvx ysx d go abcdef hidsog '''"
      ],
      "execution_count": 0,
      "outputs": []
    },
    {
      "cell_type": "code",
      "metadata": {
        "id": "8E31b6IKkDLI",
        "colab_type": "code",
        "colab": {}
      },
      "source": [
        "for i in X_train_string:\n",
        "    if(ord(i)<32 or ord(i) > 122):\n",
        "        print(i, ord(i), chr(ord(i)), X_train_string.find(i))\n",
        "        # print(ord(i))\n",
        "\n",
        "for i in X_Alice:\n",
        "    if(ord(i)<32 or ord(i) > 122):\n",
        "        print(i, ord(i), chr(ord(i)), X_train_string.find(i))\n",
        "        # print(ord(i)"
      ],
      "execution_count": 0,
      "outputs": []
    },
    {
      "cell_type": "code",
      "metadata": {
        "id": "S8h1d79VmO1K",
        "colab_type": "code",
        "outputId": "e73be23b-62c2-479d-dda8-b318cf7c06d1",
        "colab": {
          "base_uri": "https://localhost:8080/",
          "height": 36
        }
      },
      "source": [
        "X_train = create_input_array(X_train_string)\n",
        "print(X_train.shape)"
      ],
      "execution_count": 0,
      "outputs": [
        {
          "output_type": "stream",
          "text": [
            "(8076, 91)\n"
          ],
          "name": "stdout"
        }
      ]
    },
    {
      "cell_type": "code",
      "metadata": {
        "id": "vKKHsbbsnNgd",
        "colab_type": "code",
        "outputId": "84b55af0-2259-451f-e05e-16565d05fc16",
        "colab": {
          "base_uri": "https://localhost:8080/",
          "height": 36
        }
      },
      "source": [
        "X_test = create_input_array(X_Alice)\n",
        "print(X_test.shape)"
      ],
      "execution_count": 0,
      "outputs": [
        {
          "output_type": "stream",
          "text": [
            "(49, 91)\n"
          ],
          "name": "stdout"
        }
      ]
    },
    {
      "cell_type": "code",
      "metadata": {
        "colab_type": "code",
        "id": "k5OYt_3K4WTr",
        "outputId": "5b616424-e411-47fa-8283-dfd0ef6d7a0b",
        "colab": {
          "base_uri": "https://localhost:8080/",
          "height": 91
        }
      },
      "source": [
        "print(X_train[0])"
      ],
      "execution_count": 0,
      "outputs": [
        {
          "output_type": "stream",
          "text": [
            "[0. 0. 0. 0. 0. 0. 0. 0. 0. 0. 0. 0. 0. 0. 0. 0. 0. 0. 0. 0. 0. 0. 0. 0.\n",
            " 0. 0. 0. 0. 0. 0. 0. 0. 0. 0. 0. 0. 0. 0. 0. 0. 0. 0. 0. 0. 0. 0. 0. 0.\n",
            " 0. 0. 0. 0. 0. 0. 0. 0. 0. 0. 0. 0. 0. 0. 0. 0. 0. 0. 1. 0. 0. 0. 0. 0.\n",
            " 0. 0. 0. 0. 0. 0. 0. 0. 0. 0. 0. 0. 0. 0. 0. 0. 0. 0. 0.]\n"
          ],
          "name": "stdout"
        }
      ]
    },
    {
      "cell_type": "code",
      "metadata": {
        "colab_type": "code",
        "id": "-ZZ0DyyIayLU",
        "outputId": "e862aa7b-c7c5-42e0-98a3-a883bf65145a",
        "colab": {
          "base_uri": "https://localhost:8080/",
          "height": 36
        }
      },
      "source": [
        "Y_train = create_labels(X_train_string, hashmap)\n",
        "print(Y_train.shape)"
      ],
      "execution_count": 0,
      "outputs": [
        {
          "output_type": "stream",
          "text": [
            "(8076, 56)\n"
          ],
          "name": "stdout"
        }
      ]
    },
    {
      "cell_type": "code",
      "metadata": {
        "id": "UWmmrprqnWHW",
        "colab_type": "code",
        "outputId": "e722b3cb-5ab3-4928-d0b6-6dca01e69c0c",
        "colab": {
          "base_uri": "https://localhost:8080/",
          "height": 36
        }
      },
      "source": [
        "Y_test = create_labels(X_Alice, hashmap)\n",
        "print(Y_test.shape)"
      ],
      "execution_count": 0,
      "outputs": [
        {
          "output_type": "stream",
          "text": [
            "(49, 56)\n"
          ],
          "name": "stdout"
        }
      ]
    },
    {
      "cell_type": "code",
      "metadata": {
        "colab_type": "code",
        "id": "5U9bNfTN4Yqy",
        "outputId": "0b7da6b9-8de2-4fb2-bc8b-51c6d08acdd9",
        "colab": {
          "base_uri": "https://localhost:8080/",
          "height": 36
        }
      },
      "source": [
        "# print(Y_train)\n",
        "print(Y_train.shape)"
      ],
      "execution_count": 0,
      "outputs": [
        {
          "output_type": "stream",
          "text": [
            "(8076, 56)\n"
          ],
          "name": "stdout"
        }
      ]
    },
    {
      "cell_type": "code",
      "metadata": {
        "id": "agtO0Q-RnriE",
        "colab_type": "code",
        "outputId": "761f4a44-6433-4bbc-8f2e-fad37a78ae99",
        "colab": {
          "base_uri": "https://localhost:8080/",
          "height": 36
        }
      },
      "source": [
        "# print(Y_test)\n",
        "print(Y_test.shape)"
      ],
      "execution_count": 0,
      "outputs": [
        {
          "output_type": "stream",
          "text": [
            "(49, 56)\n"
          ],
          "name": "stdout"
        }
      ]
    },
    {
      "cell_type": "code",
      "metadata": {
        "colab_type": "code",
        "id": "u-dwRyza2IQJ",
        "colab": {}
      },
      "source": [
        "model = Sequential()\n",
        "model.add(layers.Dense(91, input_shape = (91,)))\n",
        "model.add(layers.LeakyReLU())\n",
        "\n",
        "model.add(layers.Dense(82))\n",
        "model.add(layers.LeakyReLU())\n",
        "\n",
        "model.add(layers.Dense(74))\n",
        "model.add(layers.LeakyReLU())\n",
        "\n",
        "model.add(layers.Dense(68))\n",
        "model.add(layers.LeakyReLU())\n",
        "\n",
        "model.add(layers.Dense(64))\n",
        "model.add(layers.LeakyReLU())\n",
        "\n",
        "model.add(layers.Dense(56))\n",
        "model.add(layers.LeakyReLU())\n",
        "\n",
        "model.add(layers.Dense(56))\n",
        "model.add(layers.LeakyReLU())"
      ],
      "execution_count": 0,
      "outputs": []
    },
    {
      "cell_type": "code",
      "metadata": {
        "colab_type": "code",
        "id": "dPG761brDYw_",
        "colab": {}
      },
      "source": [
        "learning_rate = 0.0015\n",
        "epochs = 50\n",
        "batch_size = None"
      ],
      "execution_count": 0,
      "outputs": []
    },
    {
      "cell_type": "code",
      "metadata": {
        "colab_type": "code",
        "id": "I_KR8dgN9YCT",
        "colab": {}
      },
      "source": [
        "optim = optimizers.Adam(lr = learning_rate) "
      ],
      "execution_count": 0,
      "outputs": []
    },
    {
      "cell_type": "code",
      "metadata": {
        "colab_type": "code",
        "id": "VEN17qsk-VG5",
        "colab": {}
      },
      "source": [
        "checkpoint = ModelCheckpoint('/content/encrypt_1.2.1.h5', monitor = 'val_loss', verbose = 1, save_best_only = True, save_weights_only = True)\n",
        "reducelr = ReduceLROnPlateau(monitor = 'val_loss', verbose = 1, patience = 5,factor = 0.05, min_lr = 0.003)"
      ],
      "execution_count": 0,
      "outputs": []
    },
    {
      "cell_type": "code",
      "metadata": {
        "colab_type": "code",
        "id": "wd49fo9K-_pZ",
        "colab": {}
      },
      "source": [
        "model.compile(optimizer = optim, loss = 'mean_squared_error', metrics = ['acc'])"
      ],
      "execution_count": 0,
      "outputs": []
    },
    {
      "cell_type": "code",
      "metadata": {
        "colab_type": "code",
        "id": "7YrLUGHzraBA",
        "outputId": "9b3bf68f-c13f-47db-fcec-baf013c3448d",
        "colab": {
          "base_uri": "https://localhost:8080/",
          "height": 685
        }
      },
      "source": [
        "model.summary()"
      ],
      "execution_count": 0,
      "outputs": [
        {
          "output_type": "stream",
          "text": [
            "Model: \"sequential_1\"\n",
            "_________________________________________________________________\n",
            "Layer (type)                 Output Shape              Param #   \n",
            "=================================================================\n",
            "dense_1 (Dense)              (None, 91)                8372      \n",
            "_________________________________________________________________\n",
            "leaky_re_lu_1 (LeakyReLU)    (None, 91)                0         \n",
            "_________________________________________________________________\n",
            "dense_2 (Dense)              (None, 82)                7544      \n",
            "_________________________________________________________________\n",
            "leaky_re_lu_2 (LeakyReLU)    (None, 82)                0         \n",
            "_________________________________________________________________\n",
            "dense_3 (Dense)              (None, 74)                6142      \n",
            "_________________________________________________________________\n",
            "leaky_re_lu_3 (LeakyReLU)    (None, 74)                0         \n",
            "_________________________________________________________________\n",
            "dense_4 (Dense)              (None, 68)                5100      \n",
            "_________________________________________________________________\n",
            "leaky_re_lu_4 (LeakyReLU)    (None, 68)                0         \n",
            "_________________________________________________________________\n",
            "dense_5 (Dense)              (None, 64)                4416      \n",
            "_________________________________________________________________\n",
            "leaky_re_lu_5 (LeakyReLU)    (None, 64)                0         \n",
            "_________________________________________________________________\n",
            "dense_6 (Dense)              (None, 56)                3640      \n",
            "_________________________________________________________________\n",
            "leaky_re_lu_6 (LeakyReLU)    (None, 56)                0         \n",
            "_________________________________________________________________\n",
            "dense_7 (Dense)              (None, 56)                3192      \n",
            "_________________________________________________________________\n",
            "leaky_re_lu_7 (LeakyReLU)    (None, 56)                0         \n",
            "=================================================================\n",
            "Total params: 38,406\n",
            "Trainable params: 38,406\n",
            "Non-trainable params: 0\n",
            "_________________________________________________________________\n"
          ],
          "name": "stdout"
        }
      ]
    },
    {
      "cell_type": "code",
      "metadata": {
        "colab_type": "code",
        "id": "KDuzHnbE_ryn",
        "outputId": "536468f7-b55b-448c-c332-448d3e8b2f41",
        "colab": {
          "base_uri": "https://localhost:8080/",
          "height": 1000
        }
      },
      "source": [
        "history = model.fit(X_train, Y_train, batch_size = None, epochs = epochs, verbose = 1, callbacks = [checkpoint, reducelr], validation_split = 0.1)"
      ],
      "execution_count": 0,
      "outputs": [
        {
          "output_type": "stream",
          "text": [
            "Train on 7268 samples, validate on 808 samples\n",
            "Epoch 1/50\n",
            "7268/7268 [==============================] - 3s 354us/step - loss: 0.1792 - acc: 0.5188 - val_loss: 0.0931 - val_acc: 0.0285\n",
            "\n",
            "Epoch 00001: val_loss improved from inf to 0.09311, saving model to /content/encrypt_1.2.1.h5\n",
            "Epoch 2/50\n",
            "7268/7268 [==============================] - 1s 115us/step - loss: 0.0570 - acc: 0.0116 - val_loss: 0.0329 - val_acc: 0.0000e+00\n",
            "\n",
            "Epoch 00002: val_loss improved from 0.09311 to 0.03295, saving model to /content/encrypt_1.2.1.h5\n",
            "Epoch 3/50\n",
            "7268/7268 [==============================] - 1s 115us/step - loss: 0.0217 - acc: 0.0176 - val_loss: 0.0141 - val_acc: 0.0186\n",
            "\n",
            "Epoch 00003: val_loss improved from 0.03295 to 0.01415, saving model to /content/encrypt_1.2.1.h5\n",
            "Epoch 4/50\n",
            "7268/7268 [==============================] - 1s 113us/step - loss: 0.0098 - acc: 0.0409 - val_loss: 0.0081 - val_acc: 0.0210\n",
            "\n",
            "Epoch 00004: val_loss improved from 0.01415 to 0.00808, saving model to /content/encrypt_1.2.1.h5\n",
            "Epoch 5/50\n",
            "7268/7268 [==============================] - 1s 114us/step - loss: 0.0061 - acc: 0.0689 - val_loss: 0.0074 - val_acc: 0.0334\n",
            "\n",
            "Epoch 00005: val_loss improved from 0.00808 to 0.00736, saving model to /content/encrypt_1.2.1.h5\n",
            "Epoch 6/50\n",
            "7268/7268 [==============================] - 1s 113us/step - loss: 0.0046 - acc: 0.0794 - val_loss: 0.0034 - val_acc: 0.0804\n",
            "\n",
            "Epoch 00006: val_loss improved from 0.00736 to 0.00335, saving model to /content/encrypt_1.2.1.h5\n",
            "Epoch 7/50\n",
            "7268/7268 [==============================] - 1s 114us/step - loss: 0.0028 - acc: 0.1127 - val_loss: 0.0025 - val_acc: 0.0582\n",
            "\n",
            "Epoch 00007: val_loss improved from 0.00335 to 0.00247, saving model to /content/encrypt_1.2.1.h5\n",
            "Epoch 8/50\n",
            "7268/7268 [==============================] - 1s 116us/step - loss: 0.0027 - acc: 0.0703 - val_loss: 0.0029 - val_acc: 0.0421\n",
            "\n",
            "Epoch 00008: val_loss did not improve from 0.00247\n",
            "Epoch 9/50\n",
            "7268/7268 [==============================] - 1s 113us/step - loss: 0.0021 - acc: 0.0759 - val_loss: 0.0021 - val_acc: 0.0755\n",
            "\n",
            "Epoch 00009: val_loss improved from 0.00247 to 0.00209, saving model to /content/encrypt_1.2.1.h5\n",
            "Epoch 10/50\n",
            "7268/7268 [==============================] - 1s 114us/step - loss: 0.0018 - acc: 0.0658 - val_loss: 0.0021 - val_acc: 0.0198\n",
            "\n",
            "Epoch 00010: val_loss did not improve from 0.00209\n",
            "Epoch 11/50\n",
            "7268/7268 [==============================] - 1s 109us/step - loss: 0.0016 - acc: 0.0619 - val_loss: 0.0014 - val_acc: 0.0978\n",
            "\n",
            "Epoch 00011: val_loss improved from 0.00209 to 0.00137, saving model to /content/encrypt_1.2.1.h5\n",
            "Epoch 12/50\n",
            "7268/7268 [==============================] - 1s 119us/step - loss: 0.0015 - acc: 0.0495 - val_loss: 0.0016 - val_acc: 0.0631\n",
            "\n",
            "Epoch 00012: val_loss did not improve from 0.00137\n",
            "Epoch 13/50\n",
            "7268/7268 [==============================] - 1s 115us/step - loss: 0.0013 - acc: 0.0633 - val_loss: 0.0016 - val_acc: 0.0260\n",
            "\n",
            "Epoch 00013: val_loss did not improve from 0.00137\n",
            "Epoch 14/50\n",
            "7268/7268 [==============================] - 1s 115us/step - loss: 0.0015 - acc: 0.0506 - val_loss: 0.0011 - val_acc: 0.0433\n",
            "\n",
            "Epoch 00014: val_loss improved from 0.00137 to 0.00106, saving model to /content/encrypt_1.2.1.h5\n",
            "Epoch 15/50\n",
            "7268/7268 [==============================] - 1s 115us/step - loss: 9.2073e-04 - acc: 0.0823 - val_loss: 0.0011 - val_acc: 0.0396\n",
            "\n",
            "Epoch 00015: val_loss improved from 0.00106 to 0.00105, saving model to /content/encrypt_1.2.1.h5\n",
            "Epoch 16/50\n",
            "7268/7268 [==============================] - 1s 113us/step - loss: 0.0012 - acc: 0.0461 - val_loss: 0.0016 - val_acc: 0.0371\n",
            "\n",
            "Epoch 00016: val_loss did not improve from 0.00105\n",
            "Epoch 17/50\n",
            "7268/7268 [==============================] - 1s 111us/step - loss: 0.0014 - acc: 0.0304 - val_loss: 0.0013 - val_acc: 0.0136\n",
            "\n",
            "Epoch 00017: val_loss did not improve from 0.00105\n",
            "Epoch 18/50\n",
            "7268/7268 [==============================] - 1s 114us/step - loss: 0.0015 - acc: 0.0261 - val_loss: 8.9819e-04 - val_acc: 0.1114\n",
            "\n",
            "Epoch 00018: val_loss improved from 0.00105 to 0.00090, saving model to /content/encrypt_1.2.1.h5\n",
            "Epoch 19/50\n",
            "7268/7268 [==============================] - 1s 117us/step - loss: 7.1135e-04 - acc: 0.0711 - val_loss: 0.0012 - val_acc: 0.0111\n",
            "\n",
            "Epoch 00019: val_loss did not improve from 0.00090\n",
            "Epoch 20/50\n",
            "7268/7268 [==============================] - 1s 115us/step - loss: 5.4924e-04 - acc: 0.1106 - val_loss: 3.1705e-04 - val_acc: 0.0804\n",
            "\n",
            "Epoch 00020: val_loss improved from 0.00090 to 0.00032, saving model to /content/encrypt_1.2.1.h5\n",
            "Epoch 21/50\n",
            "7268/7268 [==============================] - 1s 116us/step - loss: 4.9872e-04 - acc: 0.0963 - val_loss: 0.0019 - val_acc: 0.0000e+00\n",
            "\n",
            "Epoch 00021: val_loss did not improve from 0.00032\n",
            "Epoch 22/50\n",
            "7268/7268 [==============================] - 1s 115us/step - loss: 0.0014 - acc: 0.0100 - val_loss: 0.0026 - val_acc: 0.0000e+00\n",
            "\n",
            "Epoch 00022: val_loss did not improve from 0.00032\n",
            "Epoch 23/50\n",
            "7268/7268 [==============================] - 1s 114us/step - loss: 0.0012 - acc: 0.0259 - val_loss: 4.0146e-04 - val_acc: 0.0074\n",
            "\n",
            "Epoch 00023: val_loss did not improve from 0.00032\n",
            "Epoch 24/50\n",
            "7268/7268 [==============================] - 1s 115us/step - loss: 3.6497e-04 - acc: 0.0596 - val_loss: 4.7251e-04 - val_acc: 0.0074\n",
            "\n",
            "Epoch 00024: val_loss did not improve from 0.00032\n",
            "Epoch 25/50\n",
            "7268/7268 [==============================] - 1s 113us/step - loss: 8.6504e-04 - acc: 0.0122 - val_loss: 0.0012 - val_acc: 0.0000e+00\n",
            "\n",
            "Epoch 00025: val_loss did not improve from 0.00032\n",
            "Epoch 26/50\n",
            "7268/7268 [==============================] - 1s 116us/step - loss: 5.8202e-04 - acc: 0.0125 - val_loss: 6.8566e-04 - val_acc: 0.0000e+00\n",
            "\n",
            "Epoch 00026: val_loss did not improve from 0.00032\n",
            "Epoch 27/50\n",
            "7268/7268 [==============================] - 1s 114us/step - loss: 0.0011 - acc: 0.0015 - val_loss: 0.0011 - val_acc: 0.0000e+00\n",
            "\n",
            "Epoch 00027: val_loss did not improve from 0.00032\n",
            "Epoch 28/50\n",
            "7268/7268 [==============================] - 1s 112us/step - loss: 7.4812e-04 - acc: 0.0028 - val_loss: 4.6663e-04 - val_acc: 0.0074\n",
            "\n",
            "Epoch 00028: val_loss did not improve from 0.00032\n",
            "Epoch 29/50\n",
            "7268/7268 [==============================] - 1s 115us/step - loss: 4.1043e-04 - acc: 0.0017 - val_loss: 3.6591e-04 - val_acc: 0.0000e+00\n",
            "\n",
            "Epoch 00029: val_loss did not improve from 0.00032\n",
            "Epoch 30/50\n",
            "7268/7268 [==============================] - 1s 113us/step - loss: 9.9573e-04 - acc: 1.3759e-04 - val_loss: 0.0016 - val_acc: 0.0000e+00\n",
            "\n",
            "Epoch 00030: val_loss did not improve from 0.00032\n",
            "Epoch 31/50\n",
            "7268/7268 [==============================] - 1s 114us/step - loss: 0.0011 - acc: 8.2554e-04 - val_loss: 3.3774e-04 - val_acc: 0.0000e+00\n",
            "\n",
            "Epoch 00031: val_loss did not improve from 0.00032\n",
            "Epoch 32/50\n",
            "7268/7268 [==============================] - 1s 113us/step - loss: 2.5550e-04 - acc: 0.0000e+00 - val_loss: 2.9872e-04 - val_acc: 0.0000e+00\n",
            "\n",
            "Epoch 00032: val_loss improved from 0.00032 to 0.00030, saving model to /content/encrypt_1.2.1.h5\n",
            "Epoch 33/50\n",
            "7268/7268 [==============================] - 1s 114us/step - loss: 3.9884e-04 - acc: 0.0000e+00 - val_loss: 9.8965e-04 - val_acc: 0.0000e+00\n",
            "\n",
            "Epoch 00033: val_loss did not improve from 0.00030\n",
            "Epoch 34/50\n",
            "7268/7268 [==============================] - 1s 113us/step - loss: 0.0011 - acc: 2.7518e-04 - val_loss: 5.2129e-04 - val_acc: 0.0000e+00\n",
            "\n",
            "Epoch 00034: val_loss did not improve from 0.00030\n",
            "Epoch 35/50\n",
            "7268/7268 [==============================] - 1s 116us/step - loss: 4.4687e-04 - acc: 0.0000e+00 - val_loss: 2.7467e-04 - val_acc: 0.0000e+00\n",
            "\n",
            "Epoch 00035: val_loss improved from 0.00030 to 0.00027, saving model to /content/encrypt_1.2.1.h5\n",
            "Epoch 36/50\n",
            "7268/7268 [==============================] - 1s 113us/step - loss: 3.8918e-04 - acc: 0.0000e+00 - val_loss: 4.3828e-04 - val_acc: 0.0000e+00\n",
            "\n",
            "Epoch 00036: val_loss did not improve from 0.00027\n",
            "Epoch 37/50\n",
            "7268/7268 [==============================] - 1s 117us/step - loss: 0.0010 - acc: 0.0021 - val_loss: 0.0011 - val_acc: 0.0000e+00\n",
            "\n",
            "Epoch 00037: val_loss did not improve from 0.00027\n",
            "Epoch 38/50\n",
            "7268/7268 [==============================] - 1s 115us/step - loss: 5.6479e-04 - acc: 8.2554e-04 - val_loss: 2.2994e-04 - val_acc: 0.0000e+00\n",
            "\n",
            "Epoch 00038: val_loss improved from 0.00027 to 0.00023, saving model to /content/encrypt_1.2.1.h5\n",
            "Epoch 39/50\n",
            "7268/7268 [==============================] - 1s 119us/step - loss: 1.6807e-04 - acc: 0.0011 - val_loss: 1.9272e-04 - val_acc: 0.0000e+00\n",
            "\n",
            "Epoch 00039: val_loss improved from 0.00023 to 0.00019, saving model to /content/encrypt_1.2.1.h5\n",
            "Epoch 40/50\n",
            "7268/7268 [==============================] - 1s 120us/step - loss: 5.3642e-04 - acc: 1.3759e-04 - val_loss: 0.0017 - val_acc: 0.0000e+00\n",
            "\n",
            "Epoch 00040: val_loss did not improve from 0.00019\n",
            "Epoch 41/50\n",
            "7268/7268 [==============================] - 1s 115us/step - loss: 0.0012 - acc: 6.8795e-04 - val_loss: 6.7121e-04 - val_acc: 0.0000e+00\n",
            "\n",
            "Epoch 00041: val_loss did not improve from 0.00019\n",
            "Epoch 42/50\n",
            "7268/7268 [==============================] - 1s 119us/step - loss: 4.0638e-04 - acc: 0.0012 - val_loss: 3.1760e-04 - val_acc: 0.0000e+00\n",
            "\n",
            "Epoch 00042: val_loss did not improve from 0.00019\n",
            "Epoch 43/50\n",
            "7268/7268 [==============================] - 1s 117us/step - loss: 6.0732e-04 - acc: 9.6313e-04 - val_loss: 4.3721e-04 - val_acc: 0.0000e+00\n",
            "\n",
            "Epoch 00043: val_loss did not improve from 0.00019\n",
            "Epoch 44/50\n",
            "7268/7268 [==============================] - 1s 118us/step - loss: 2.5144e-04 - acc: 4.1277e-04 - val_loss: 3.7180e-04 - val_acc: 0.0000e+00\n",
            "\n",
            "Epoch 00044: val_loss did not improve from 0.00019\n",
            "Epoch 45/50\n",
            "7268/7268 [==============================] - 1s 116us/step - loss: 5.6476e-04 - acc: 0.0000e+00 - val_loss: 0.0010 - val_acc: 0.0000e+00\n",
            "\n",
            "Epoch 00045: val_loss did not improve from 0.00019\n",
            "Epoch 46/50\n",
            "7268/7268 [==============================] - 1s 112us/step - loss: 9.9774e-04 - acc: 0.0000e+00 - val_loss: 8.7459e-04 - val_acc: 0.0000e+00\n",
            "\n",
            "Epoch 00046: val_loss did not improve from 0.00019\n",
            "Epoch 47/50\n",
            "7268/7268 [==============================] - 1s 115us/step - loss: 5.6028e-04 - acc: 1.3759e-04 - val_loss: 7.7124e-04 - val_acc: 0.0000e+00\n",
            "\n",
            "Epoch 00047: val_loss did not improve from 0.00019\n",
            "Epoch 48/50\n",
            "7268/7268 [==============================] - 1s 114us/step - loss: 6.0894e-04 - acc: 0.0000e+00 - val_loss: 1.8378e-04 - val_acc: 0.0062\n",
            "\n",
            "Epoch 00048: val_loss improved from 0.00019 to 0.00018, saving model to /content/encrypt_1.2.1.h5\n",
            "Epoch 49/50\n",
            "7268/7268 [==============================] - 1s 117us/step - loss: 1.3134e-04 - acc: 0.0040 - val_loss: 8.8733e-05 - val_acc: 0.0074\n",
            "\n",
            "Epoch 00049: val_loss improved from 0.00018 to 0.00009, saving model to /content/encrypt_1.2.1.h5\n",
            "Epoch 50/50\n",
            "7268/7268 [==============================] - 1s 116us/step - loss: 2.8723e-04 - acc: 6.8795e-04 - val_loss: 8.3584e-04 - val_acc: 0.0000e+00\n",
            "\n",
            "Epoch 00050: val_loss did not improve from 0.00009\n"
          ],
          "name": "stdout"
        }
      ]
    },
    {
      "cell_type": "code",
      "metadata": {
        "colab_type": "code",
        "id": "NG2n5wzubtRR",
        "colab": {}
      },
      "source": [
        "output = model.predict(X_train)"
      ],
      "execution_count": 0,
      "outputs": []
    },
    {
      "cell_type": "code",
      "metadata": {
        "colab_type": "code",
        "id": "cxfhJDgEjk1k",
        "outputId": "a4ce258e-1e65-4b5e-c5d6-ba3a66b675cd",
        "colab": {
          "base_uri": "https://localhost:8080/",
          "height": 277
        }
      },
      "source": [
        "print(output[0])"
      ],
      "execution_count": 0,
      "outputs": [
        {
          "output_type": "stream",
          "text": [
            "[ 1.00259411e+00 -8.64899252e-03  1.02210569e+00 -4.60141368e-04\n",
            " -1.33449519e-02 -2.02098116e-02  9.88035798e-01  1.51819475e-02\n",
            " -2.73796190e-02  9.35171962e-01  1.58023983e-02 -2.48881634e-02\n",
            "  9.47032750e-01 -5.54582477e-03  1.02745914e+00  5.18044531e-02\n",
            "  4.36781161e-03  2.81315930e-02  9.12829101e-01 -8.14710278e-03\n",
            " -2.81252875e-03  1.01786828e+00 -7.54837738e-03  1.02067924e+00\n",
            "  1.02070761e+00  1.06693375e+00 -1.73342321e-02  5.20038828e-02\n",
            "  9.60973620e-01  1.00817370e+00  2.17108354e-02  9.75652933e-01\n",
            "  4.02014852e-02  1.49549209e-02 -1.82450674e-02  6.80555180e-02\n",
            "  1.07413173e+00  9.63892281e-01 -2.10560337e-02 -4.30956893e-02\n",
            " -1.30339451e-02  1.01465189e+00 -1.39383590e-02  9.75948036e-01\n",
            " -1.49895262e-03  3.44952941e-03  1.18911266e-05  9.55658972e-01\n",
            " -4.85978508e-03  5.02638146e-02  9.96313870e-01 -1.43620288e-02\n",
            "  9.94958818e-01 -1.00219827e-02  1.06710184e+00  4.81706113e-03]\n"
          ],
          "name": "stdout"
        }
      ]
    },
    {
      "cell_type": "code",
      "metadata": {
        "colab_type": "code",
        "id": "i2EM52czjp3d",
        "outputId": "a9ca27a2-a32c-448c-da55-089d13b7cadd",
        "colab": {
          "base_uri": "https://localhost:8080/",
          "height": 54
        }
      },
      "source": [
        "print(Y_train[0])"
      ],
      "execution_count": 0,
      "outputs": [
        {
          "output_type": "stream",
          "text": [
            "[1 0 1 0 0 0 1 0 0 1 0 0 1 0 1 0 0 0 1 0 0 1 0 1 1 1 0 0 1 1 0 1 0 0 0 0 1\n",
            " 1 0 0 0 1 0 1 0 0 0 1 0 0 1 0 1 0 1 0]\n"
          ],
          "name": "stdout"
        }
      ]
    },
    {
      "cell_type": "code",
      "metadata": {
        "colab_type": "code",
        "id": "6udUI3uBQqY8",
        "outputId": "fc90a2b4-20d3-42f8-8416-2faf9440ec18",
        "colab": {
          "base_uri": "https://localhost:8080/",
          "height": 36
        }
      },
      "source": [
        "print(output.shape)"
      ],
      "execution_count": 0,
      "outputs": [
        {
          "output_type": "stream",
          "text": [
            "(8076, 56)\n"
          ],
          "name": "stdout"
        }
      ]
    },
    {
      "cell_type": "code",
      "metadata": {
        "colab_type": "code",
        "id": "42-FGlV9ezAb",
        "colab": {}
      },
      "source": [
        "def change_output(arr):\n",
        "    '''' Rounding off the confident outputs '''\n",
        "    row=arr.shape[0]\n",
        "    col=arr.shape[1]\n",
        "    for i in range(row):\n",
        "      for j in range(col):\n",
        "        if(arr[i][j]>0.5):\n",
        "          arr[i][j]=1\n",
        "        else:\n",
        "          arr[i][j]=0\n",
        "          \n",
        "    arr.astype('int')\n",
        "    return(arr)    "
      ],
      "execution_count": 0,
      "outputs": []
    },
    {
      "cell_type": "code",
      "metadata": {
        "colab_type": "code",
        "id": "KThKObMJQ9ZL",
        "colab": {}
      },
      "source": [
        "def accuracy(Y_pred, Y_train):\n",
        "    ''' Given the predicted array, it compares it with the hashmap and gives the accuracy score '''\n",
        "    Y_pred_int = change_output(Y_pred)\n",
        "    print(\"Accuracy for the given batch is :\", accuracy_score(Y_pred, Y_train) * 100 , \" % \")"
      ],
      "execution_count": 0,
      "outputs": []
    },
    {
      "cell_type": "code",
      "metadata": {
        "colab_type": "code",
        "id": "ddy_IWe2Apai",
        "outputId": "1a513558-a9e3-4fd4-c60b-f77ca620d3e9",
        "colab": {
          "base_uri": "https://localhost:8080/",
          "height": 36
        }
      },
      "source": [
        "Y_pred = model.predict(X_train)\n",
        "accuracy(Y_pred, Y_train)"
      ],
      "execution_count": 0,
      "outputs": [
        {
          "output_type": "stream",
          "text": [
            "Accuracy for the given batch is : 100.0  % \n"
          ],
          "name": "stdout"
        }
      ]
    },
    {
      "cell_type": "code",
      "metadata": {
        "colab_type": "code",
        "id": "3qA1Xn9ASVSF",
        "outputId": "41364763-9956-49fa-e941-2e5086ed00c3",
        "colab": {
          "base_uri": "https://localhost:8080/",
          "height": 36
        }
      },
      "source": [
        "print(Y_train.shape)"
      ],
      "execution_count": 0,
      "outputs": [
        {
          "output_type": "stream",
          "text": [
            "(8076, 56)\n"
          ],
          "name": "stdout"
        }
      ]
    },
    {
      "cell_type": "code",
      "metadata": {
        "id": "eLMc22jToFSe",
        "colab_type": "code",
        "outputId": "7d7b3980-a3d8-4430-b4fc-4b476bb0b712",
        "colab": {
          "base_uri": "https://localhost:8080/",
          "height": 36
        }
      },
      "source": [
        "Y_test_pred = model.predict(X_test)\n",
        "accuracy(Y_test_pred, Y_test)"
      ],
      "execution_count": 0,
      "outputs": [
        {
          "output_type": "stream",
          "text": [
            "Accuracy for the given batch is : 100.0  % \n"
          ],
          "name": "stdout"
        }
      ]
    },
    {
      "cell_type": "code",
      "metadata": {
        "id": "Se1VX1Nkwp3C",
        "colab_type": "code",
        "outputId": "7bf5116e-204e-4abf-b7b4-1036b6f68072",
        "colab": {
          "base_uri": "https://localhost:8080/",
          "height": 36
        }
      },
      "source": [
        "# serialize model to JSON\n",
        "model_json = model.to_json()\n",
        "with open(\"encrypter_v1_2_3.json\", \"w\") as json_file:\n",
        "    json_file.write(model_json)\n",
        "# serialize weights to HDF5\n",
        "model.save_weights(\"encrypter_v1_2_3.h5\")\n",
        "print(\"Saved model to disk\")"
      ],
      "execution_count": 0,
      "outputs": [
        {
          "output_type": "stream",
          "text": [
            "Saved model to disk\n"
          ],
          "name": "stdout"
        }
      ]
    },
    {
      "cell_type": "code",
      "metadata": {
        "id": "BIaRixvBAKgA",
        "colab_type": "code",
        "outputId": "f73f8fbf-2611-4a1d-cd0e-d0c1b6639633",
        "colab": {
          "base_uri": "https://localhost:8080/",
          "height": 36
        }
      },
      "source": [
        "# load json and create model\n",
        "json_file = open('/content/encrypter_v1_2_3.json', 'r')\n",
        "loaded_model_json = json_file.read()\n",
        "json_file.close()\n",
        "loaded_model = model_from_json(loaded_model_json)\n",
        "# load weights into new model\n",
        "loaded_model.load_weights(\"/content/encrypter_v1_2_3.h5\")\n",
        "print(\"Loaded model from disk\")"
      ],
      "execution_count": 0,
      "outputs": [
        {
          "output_type": "stream",
          "text": [
            "Loaded model from disk\n"
          ],
          "name": "stdout"
        }
      ]
    },
    {
      "cell_type": "code",
      "metadata": {
        "id": "IBvm_FHlAO8B",
        "colab_type": "code",
        "outputId": "e5cc675b-f89e-4cba-e0ab-7d3771d0d71a",
        "colab": {
          "base_uri": "https://localhost:8080/",
          "height": 36
        }
      },
      "source": [
        "print(\"Encrypter can be loaded and run\")"
      ],
      "execution_count": 0,
      "outputs": [
        {
          "output_type": "stream",
          "text": [
            "Encrypter can be loaded and run\n"
          ],
          "name": "stdout"
        }
      ]
    },
    {
      "cell_type": "code",
      "metadata": {
        "colab_type": "code",
        "id": "AjmBxjI6R2ek",
        "colab": {}
      },
      "source": [
        "decrypter = Sequential()\n",
        "\n",
        "decrypter.add(layers.Dense(56, input_shape = (56,)))\n",
        "decrypter.add(layers.LeakyReLU())\n",
        "\n",
        "decrypter.add(layers.Dense(64))\n",
        "decrypter.add(layers.LeakyReLU())\n",
        "\n",
        "decrypter.add(layers.Dense(72))\n",
        "decrypter.add(layers.LeakyReLU())\n",
        "\n",
        "decrypter.add(layers.Dense(80))\n",
        "decrypter.add(layers.LeakyReLU())\n",
        "\n",
        "decrypter.add(layers.Dense(85))\n",
        "decrypter.add(layers.LeakyReLU())\n",
        "\n",
        "decrypter.add(layers.Dense(88))\n",
        "decrypter.add(layers.LeakyReLU())\n",
        "\n",
        "decrypter.add(layers.Dense(91))\n",
        "decrypter.add(layers.LeakyReLU())\n",
        "\n",
        "decrypter.add(layers.Dense(91))\n",
        "decrypter.add(layers.LeakyReLU())\n"
      ],
      "execution_count": 0,
      "outputs": []
    },
    {
      "cell_type": "code",
      "metadata": {
        "colab_type": "code",
        "id": "vaLReXz2T295",
        "colab": {}
      },
      "source": [
        "learning_rate = 0.0015\n",
        "epochs = 100\n",
        "batch_size = None"
      ],
      "execution_count": 0,
      "outputs": []
    },
    {
      "cell_type": "code",
      "metadata": {
        "colab_type": "code",
        "id": "Vhs2BefhVXOh",
        "colab": {}
      },
      "source": [
        "decrypter_optimizer = optimizers.Adam(lr = learning_rate)"
      ],
      "execution_count": 0,
      "outputs": []
    },
    {
      "cell_type": "code",
      "metadata": {
        "colab_type": "code",
        "id": "-pkRbDzwVUEk",
        "colab": {}
      },
      "source": [
        "decrypter.compile(optimizer=decrypter_optimizer, loss = 'mean_squared_error', metrics = ['acc'])"
      ],
      "execution_count": 0,
      "outputs": []
    },
    {
      "cell_type": "code",
      "metadata": {
        "colab_type": "code",
        "id": "5KtULAzpVMnB",
        "colab": {}
      },
      "source": [
        "decrypter_X_train = Y_train\n",
        "decrypter_Y_train = X_train"
      ],
      "execution_count": 0,
      "outputs": []
    },
    {
      "cell_type": "code",
      "metadata": {
        "id": "ULve7e9hBMyz",
        "colab_type": "code",
        "colab": {}
      },
      "source": [
        "decrypter_X_test = Y_test_pred\n",
        "decrypter_Y_test = X_test"
      ],
      "execution_count": 0,
      "outputs": []
    },
    {
      "cell_type": "code",
      "metadata": {
        "colab_type": "code",
        "id": "eUvLtRt_WE2z",
        "outputId": "e1d5ec91-adb8-45bd-8251-c48f248d7ed6",
        "colab": {
          "base_uri": "https://localhost:8080/",
          "height": 54
        }
      },
      "source": [
        "print(decrypter_X_train.shape)\n",
        "print(decrypter_Y_train.shape)"
      ],
      "execution_count": 0,
      "outputs": [
        {
          "output_type": "stream",
          "text": [
            "(8076, 56)\n",
            "(8076, 91)\n"
          ],
          "name": "stdout"
        }
      ]
    },
    {
      "cell_type": "code",
      "metadata": {
        "id": "aQnr82iGBmXD",
        "colab_type": "code",
        "outputId": "a9f6f90f-067a-43b6-ccdb-ef10de8e8fa7",
        "colab": {
          "base_uri": "https://localhost:8080/",
          "height": 54
        }
      },
      "source": [
        "print(decrypter_X_test.shape)\n",
        "print(decrypter_Y_test.shape)"
      ],
      "execution_count": 0,
      "outputs": [
        {
          "output_type": "stream",
          "text": [
            "(49, 56)\n",
            "(49, 91)\n"
          ],
          "name": "stdout"
        }
      ]
    },
    {
      "cell_type": "code",
      "metadata": {
        "colab_type": "code",
        "id": "l24tT32UWJ_K",
        "colab": {}
      },
      "source": [
        "checkpoint = ModelCheckpoint('/content/denrypt_1.2.h5', monitor = 'val_loss', verbose = 1, save_best_only = True, save_weights_only = True)\n",
        "reducelr = ReduceLROnPlateau(monitor = 'val_loss', verbose = 1, patience = 5,factor = 0.05, min_lr = 0.003)"
      ],
      "execution_count": 0,
      "outputs": []
    },
    {
      "cell_type": "code",
      "metadata": {
        "colab_type": "code",
        "id": "Y2FyLCfgXuJM",
        "outputId": "212dcc0d-05e4-4c01-d93d-a498cdb3c9ce",
        "colab": {
          "base_uri": "https://localhost:8080/",
          "height": 1000
        }
      },
      "source": [
        "decrypter_history = decrypter.fit(decrypter_X_train, decrypter_Y_train,\n",
        "                              batch_size = None,\n",
        "                              epochs = epochs, verbose = 1,\n",
        "                              callbacks = [checkpoint, reducelr],\n",
        "                              validation_split = 0.1)"
      ],
      "execution_count": 0,
      "outputs": [
        {
          "output_type": "stream",
          "text": [
            "Train on 7268 samples, validate on 808 samples\n",
            "Epoch 1/100\n",
            "7268/7268 [==============================] - 1s 148us/step - loss: 0.0046 - acc: 0.8323 - val_loss: 0.0013 - val_acc: 1.0000\n",
            "\n",
            "Epoch 00001: val_loss improved from inf to 0.00130, saving model to /content/denrypt_1.2.h5\n",
            "Epoch 2/100\n",
            "7268/7268 [==============================] - 1s 123us/step - loss: 7.6659e-04 - acc: 1.0000 - val_loss: 4.9350e-04 - val_acc: 1.0000\n",
            "\n",
            "Epoch 00002: val_loss improved from 0.00130 to 0.00049, saving model to /content/denrypt_1.2.h5\n",
            "Epoch 3/100\n",
            "7268/7268 [==============================] - 1s 123us/step - loss: 3.6952e-04 - acc: 1.0000 - val_loss: 2.7391e-04 - val_acc: 1.0000\n",
            "\n",
            "Epoch 00003: val_loss improved from 0.00049 to 0.00027, saving model to /content/denrypt_1.2.h5\n",
            "Epoch 4/100\n",
            "7268/7268 [==============================] - 1s 125us/step - loss: 2.0914e-04 - acc: 1.0000 - val_loss: 1.5661e-04 - val_acc: 1.0000\n",
            "\n",
            "Epoch 00004: val_loss improved from 0.00027 to 0.00016, saving model to /content/denrypt_1.2.h5\n",
            "Epoch 5/100\n",
            "7268/7268 [==============================] - 1s 124us/step - loss: 1.2804e-04 - acc: 1.0000 - val_loss: 1.1794e-04 - val_acc: 1.0000\n",
            "\n",
            "Epoch 00005: val_loss improved from 0.00016 to 0.00012, saving model to /content/denrypt_1.2.h5\n",
            "Epoch 6/100\n",
            "7268/7268 [==============================] - 1s 123us/step - loss: 9.0627e-05 - acc: 1.0000 - val_loss: 9.6067e-05 - val_acc: 1.0000\n",
            "\n",
            "Epoch 00006: val_loss improved from 0.00012 to 0.00010, saving model to /content/denrypt_1.2.h5\n",
            "Epoch 7/100\n",
            "7268/7268 [==============================] - 1s 123us/step - loss: 5.6275e-05 - acc: 1.0000 - val_loss: 5.6738e-05 - val_acc: 1.0000\n",
            "\n",
            "Epoch 00007: val_loss improved from 0.00010 to 0.00006, saving model to /content/denrypt_1.2.h5\n",
            "Epoch 8/100\n",
            "7268/7268 [==============================] - 1s 122us/step - loss: 5.0248e-05 - acc: 1.0000 - val_loss: 1.8097e-05 - val_acc: 1.0000\n",
            "\n",
            "Epoch 00008: val_loss improved from 0.00006 to 0.00002, saving model to /content/denrypt_1.2.h5\n",
            "Epoch 9/100\n",
            "7268/7268 [==============================] - 1s 123us/step - loss: 1.6827e-05 - acc: 1.0000 - val_loss: 1.7722e-05 - val_acc: 1.0000\n",
            "\n",
            "Epoch 00009: val_loss improved from 0.00002 to 0.00002, saving model to /content/denrypt_1.2.h5\n",
            "Epoch 10/100\n",
            "7268/7268 [==============================] - 1s 123us/step - loss: 2.4459e-05 - acc: 1.0000 - val_loss: 2.0277e-05 - val_acc: 1.0000\n",
            "\n",
            "Epoch 00010: val_loss did not improve from 0.00002\n",
            "Epoch 11/100\n",
            "7268/7268 [==============================] - 1s 123us/step - loss: 3.5199e-05 - acc: 1.0000 - val_loss: 8.9615e-05 - val_acc: 1.0000\n",
            "\n",
            "Epoch 00011: val_loss did not improve from 0.00002\n",
            "Epoch 12/100\n",
            "7268/7268 [==============================] - 1s 124us/step - loss: 7.6003e-05 - acc: 1.0000 - val_loss: 2.2807e-05 - val_acc: 1.0000\n",
            "\n",
            "Epoch 00012: val_loss did not improve from 0.00002\n",
            "Epoch 13/100\n",
            "7268/7268 [==============================] - 1s 123us/step - loss: 1.5037e-05 - acc: 1.0000 - val_loss: 6.8732e-06 - val_acc: 1.0000\n",
            "\n",
            "Epoch 00013: val_loss improved from 0.00002 to 0.00001, saving model to /content/denrypt_1.2.h5\n",
            "Epoch 14/100\n",
            "7268/7268 [==============================] - 1s 122us/step - loss: 5.4862e-06 - acc: 1.0000 - val_loss: 5.9336e-06 - val_acc: 1.0000\n",
            "\n",
            "Epoch 00014: val_loss improved from 0.00001 to 0.00001, saving model to /content/denrypt_1.2.h5\n",
            "Epoch 15/100\n",
            "7268/7268 [==============================] - 1s 124us/step - loss: 2.6933e-05 - acc: 1.0000 - val_loss: 1.0220e-04 - val_acc: 1.0000\n",
            "\n",
            "Epoch 00015: val_loss did not improve from 0.00001\n",
            "Epoch 16/100\n",
            "7268/7268 [==============================] - 1s 124us/step - loss: 1.0953e-04 - acc: 1.0000 - val_loss: 4.9748e-05 - val_acc: 1.0000\n",
            "\n",
            "Epoch 00016: val_loss did not improve from 0.00001\n",
            "Epoch 17/100\n",
            "7268/7268 [==============================] - 1s 125us/step - loss: 9.3037e-06 - acc: 1.0000 - val_loss: 7.0137e-07 - val_acc: 1.0000\n",
            "\n",
            "Epoch 00017: val_loss improved from 0.00001 to 0.00000, saving model to /content/denrypt_1.2.h5\n",
            "Epoch 18/100\n",
            "7268/7268 [==============================] - 1s 126us/step - loss: 3.2676e-07 - acc: 1.0000 - val_loss: 3.3813e-07 - val_acc: 1.0000\n",
            "\n",
            "Epoch 00018: val_loss improved from 0.00000 to 0.00000, saving model to /content/denrypt_1.2.h5\n",
            "Epoch 19/100\n",
            "7268/7268 [==============================] - 1s 123us/step - loss: 1.4001e-06 - acc: 1.0000 - val_loss: 4.9271e-06 - val_acc: 1.0000\n",
            "\n",
            "Epoch 00019: val_loss did not improve from 0.00000\n",
            "Epoch 20/100\n",
            "7268/7268 [==============================] - 1s 120us/step - loss: 9.2822e-05 - acc: 1.0000 - val_loss: 2.2471e-04 - val_acc: 1.0000\n",
            "\n",
            "Epoch 00020: val_loss did not improve from 0.00000\n",
            "Epoch 21/100\n",
            "7268/7268 [==============================] - 1s 123us/step - loss: 6.8489e-05 - acc: 1.0000 - val_loss: 6.2906e-06 - val_acc: 1.0000\n",
            "\n",
            "Epoch 00021: val_loss did not improve from 0.00000\n",
            "Epoch 22/100\n",
            "7268/7268 [==============================] - 1s 122us/step - loss: 9.1485e-06 - acc: 1.0000 - val_loss: 1.1133e-06 - val_acc: 1.0000\n",
            "\n",
            "Epoch 00022: val_loss did not improve from 0.00000\n",
            "Epoch 23/100\n",
            "7268/7268 [==============================] - 1s 122us/step - loss: 1.3044e-06 - acc: 1.0000 - val_loss: 9.5082e-07 - val_acc: 1.0000\n",
            "\n",
            "Epoch 00023: val_loss did not improve from 0.00000\n",
            "Epoch 24/100\n",
            "7268/7268 [==============================] - 1s 123us/step - loss: 1.8754e-05 - acc: 1.0000 - val_loss: 8.4457e-05 - val_acc: 1.0000\n",
            "\n",
            "Epoch 00024: val_loss did not improve from 0.00000\n",
            "Epoch 25/100\n",
            "7268/7268 [==============================] - 1s 123us/step - loss: 1.5326e-04 - acc: 1.0000 - val_loss: 1.8948e-05 - val_acc: 1.0000\n",
            "\n",
            "Epoch 00025: val_loss did not improve from 0.00000\n",
            "Epoch 26/100\n",
            "7268/7268 [==============================] - 1s 124us/step - loss: 4.4254e-06 - acc: 1.0000 - val_loss: 3.3372e-07 - val_acc: 1.0000\n",
            "\n",
            "Epoch 00026: val_loss improved from 0.00000 to 0.00000, saving model to /content/denrypt_1.2.h5\n",
            "Epoch 27/100\n",
            "7268/7268 [==============================] - 1s 125us/step - loss: 5.3779e-07 - acc: 1.0000 - val_loss: 8.7349e-07 - val_acc: 1.0000\n",
            "\n",
            "Epoch 00027: val_loss did not improve from 0.00000\n",
            "Epoch 28/100\n",
            "7268/7268 [==============================] - 1s 120us/step - loss: 1.5807e-06 - acc: 1.0000 - val_loss: 4.2324e-06 - val_acc: 1.0000\n",
            "\n",
            "Epoch 00028: val_loss did not improve from 0.00000\n",
            "Epoch 29/100\n",
            "7268/7268 [==============================] - 1s 122us/step - loss: 3.2486e-05 - acc: 1.0000 - val_loss: 2.6876e-05 - val_acc: 1.0000\n",
            "\n",
            "Epoch 00029: val_loss did not improve from 0.00000\n",
            "Epoch 30/100\n",
            "7268/7268 [==============================] - 1s 121us/step - loss: 5.2796e-05 - acc: 1.0000 - val_loss: 1.1748e-04 - val_acc: 1.0000\n",
            "\n",
            "Epoch 00030: val_loss did not improve from 0.00000\n",
            "Epoch 31/100\n",
            "7268/7268 [==============================] - 1s 121us/step - loss: 6.0581e-05 - acc: 1.0000 - val_loss: 8.6992e-06 - val_acc: 1.0000\n",
            "\n",
            "Epoch 00031: val_loss did not improve from 0.00000\n",
            "Epoch 32/100\n",
            "7268/7268 [==============================] - 1s 122us/step - loss: 2.6896e-06 - acc: 1.0000 - val_loss: 1.1660e-06 - val_acc: 1.0000\n",
            "\n",
            "Epoch 00032: val_loss did not improve from 0.00000\n",
            "Epoch 33/100\n",
            "7268/7268 [==============================] - 1s 125us/step - loss: 1.1293e-06 - acc: 1.0000 - val_loss: 2.6105e-06 - val_acc: 1.0000\n",
            "\n",
            "Epoch 00033: val_loss did not improve from 0.00000\n",
            "Epoch 34/100\n",
            "7268/7268 [==============================] - 1s 123us/step - loss: 2.3371e-05 - acc: 1.0000 - val_loss: 4.6411e-05 - val_acc: 1.0000\n",
            "\n",
            "Epoch 00034: val_loss did not improve from 0.00000\n",
            "Epoch 35/100\n",
            "7268/7268 [==============================] - 1s 123us/step - loss: 4.7130e-05 - acc: 1.0000 - val_loss: 4.8936e-05 - val_acc: 1.0000\n",
            "\n",
            "Epoch 00035: val_loss did not improve from 0.00000\n",
            "Epoch 36/100\n",
            "7268/7268 [==============================] - 1s 120us/step - loss: 4.5274e-05 - acc: 1.0000 - val_loss: 1.9595e-05 - val_acc: 1.0000\n",
            "\n",
            "Epoch 00036: val_loss did not improve from 0.00000\n",
            "Epoch 37/100\n",
            "7268/7268 [==============================] - 1s 124us/step - loss: 1.7412e-05 - acc: 1.0000 - val_loss: 2.5117e-05 - val_acc: 1.0000\n",
            "\n",
            "Epoch 00037: val_loss did not improve from 0.00000\n",
            "Epoch 38/100\n",
            "7268/7268 [==============================] - 1s 126us/step - loss: 1.6165e-05 - acc: 1.0000 - val_loss: 4.1385e-05 - val_acc: 1.0000\n",
            "\n",
            "Epoch 00038: val_loss did not improve from 0.00000\n",
            "Epoch 39/100\n",
            "7268/7268 [==============================] - 1s 123us/step - loss: 5.9606e-05 - acc: 1.0000 - val_loss: 5.9870e-05 - val_acc: 1.0000\n",
            "\n",
            "Epoch 00039: val_loss did not improve from 0.00000\n",
            "Epoch 40/100\n",
            "7268/7268 [==============================] - 1s 125us/step - loss: 3.7499e-05 - acc: 1.0000 - val_loss: 3.0299e-06 - val_acc: 1.0000\n",
            "\n",
            "Epoch 00040: val_loss did not improve from 0.00000\n",
            "Epoch 41/100\n",
            "7268/7268 [==============================] - 1s 125us/step - loss: 2.8873e-06 - acc: 1.0000 - val_loss: 2.9292e-06 - val_acc: 1.0000\n",
            "\n",
            "Epoch 00041: val_loss did not improve from 0.00000\n",
            "Epoch 42/100\n",
            "7268/7268 [==============================] - 1s 125us/step - loss: 7.6721e-06 - acc: 1.0000 - val_loss: 1.3255e-05 - val_acc: 1.0000\n",
            "\n",
            "Epoch 00042: val_loss did not improve from 0.00000\n",
            "Epoch 43/100\n",
            "7268/7268 [==============================] - 1s 122us/step - loss: 2.4188e-05 - acc: 1.0000 - val_loss: 4.0612e-05 - val_acc: 1.0000\n",
            "\n",
            "Epoch 00043: val_loss did not improve from 0.00000\n",
            "Epoch 44/100\n",
            "7268/7268 [==============================] - 1s 125us/step - loss: 3.6279e-05 - acc: 1.0000 - val_loss: 2.8674e-05 - val_acc: 1.0000\n",
            "\n",
            "Epoch 00044: val_loss did not improve from 0.00000\n",
            "Epoch 45/100\n",
            "7268/7268 [==============================] - 1s 120us/step - loss: 2.6159e-05 - acc: 1.0000 - val_loss: 2.3636e-05 - val_acc: 1.0000\n",
            "\n",
            "Epoch 00045: val_loss did not improve from 0.00000\n",
            "Epoch 46/100\n",
            "7268/7268 [==============================] - 1s 122us/step - loss: 7.0173e-05 - acc: 1.0000 - val_loss: 1.9870e-05 - val_acc: 1.0000\n",
            "\n",
            "Epoch 00046: val_loss did not improve from 0.00000\n",
            "Epoch 47/100\n",
            "7268/7268 [==============================] - 1s 123us/step - loss: 1.9731e-05 - acc: 1.0000 - val_loss: 2.7624e-06 - val_acc: 1.0000\n",
            "\n",
            "Epoch 00047: val_loss did not improve from 0.00000\n",
            "Epoch 48/100\n",
            "7268/7268 [==============================] - 1s 128us/step - loss: 2.0317e-06 - acc: 1.0000 - val_loss: 2.6230e-06 - val_acc: 1.0000\n",
            "\n",
            "Epoch 00048: val_loss did not improve from 0.00000\n",
            "Epoch 49/100\n",
            "7268/7268 [==============================] - 1s 131us/step - loss: 3.6730e-06 - acc: 1.0000 - val_loss: 3.0653e-06 - val_acc: 1.0000\n",
            "\n",
            "Epoch 00049: val_loss did not improve from 0.00000\n",
            "Epoch 50/100\n",
            "7268/7268 [==============================] - 1s 130us/step - loss: 5.9820e-05 - acc: 1.0000 - val_loss: 6.4144e-05 - val_acc: 1.0000\n",
            "\n",
            "Epoch 00050: val_loss did not improve from 0.00000\n",
            "Epoch 51/100\n",
            "7268/7268 [==============================] - 1s 128us/step - loss: 3.5680e-05 - acc: 1.0000 - val_loss: 5.9162e-06 - val_acc: 1.0000\n",
            "\n",
            "Epoch 00051: val_loss did not improve from 0.00000\n",
            "Epoch 52/100\n",
            "7268/7268 [==============================] - 1s 131us/step - loss: 1.2766e-06 - acc: 1.0000 - val_loss: 3.1031e-06 - val_acc: 1.0000\n",
            "\n",
            "Epoch 00052: val_loss did not improve from 0.00000\n",
            "Epoch 53/100\n",
            "7268/7268 [==============================] - 1s 132us/step - loss: 8.9090e-06 - acc: 1.0000 - val_loss: 2.8783e-05 - val_acc: 1.0000\n",
            "\n",
            "Epoch 00053: val_loss did not improve from 0.00000\n",
            "Epoch 54/100\n",
            "7268/7268 [==============================] - 1s 131us/step - loss: 4.8791e-05 - acc: 1.0000 - val_loss: 3.0506e-05 - val_acc: 1.0000\n",
            "\n",
            "Epoch 00054: val_loss did not improve from 0.00000\n",
            "Epoch 55/100\n",
            "7268/7268 [==============================] - 1s 126us/step - loss: 5.3931e-05 - acc: 0.9994 - val_loss: 2.3840e-05 - val_acc: 1.0000\n",
            "\n",
            "Epoch 00055: val_loss did not improve from 0.00000\n",
            "Epoch 56/100\n",
            "7268/7268 [==============================] - 1s 133us/step - loss: 1.0155e-05 - acc: 1.0000 - val_loss: 8.5944e-07 - val_acc: 1.0000\n",
            "\n",
            "Epoch 00056: val_loss did not improve from 0.00000\n",
            "Epoch 57/100\n",
            "7268/7268 [==============================] - 1s 130us/step - loss: 5.4468e-07 - acc: 1.0000 - val_loss: 6.6145e-07 - val_acc: 1.0000\n",
            "\n",
            "Epoch 00057: val_loss did not improve from 0.00000\n",
            "Epoch 58/100\n",
            "7268/7268 [==============================] - 1s 129us/step - loss: 4.3876e-06 - acc: 1.0000 - val_loss: 1.6186e-05 - val_acc: 1.0000\n",
            "\n",
            "Epoch 00058: val_loss did not improve from 0.00000\n",
            "Epoch 59/100\n",
            "7268/7268 [==============================] - 1s 128us/step - loss: 2.1484e-05 - acc: 1.0000 - val_loss: 3.5296e-05 - val_acc: 1.0000\n",
            "\n",
            "Epoch 00059: val_loss did not improve from 0.00000\n",
            "Epoch 60/100\n",
            "7268/7268 [==============================] - 1s 120us/step - loss: 6.7920e-05 - acc: 1.0000 - val_loss: 1.1040e-05 - val_acc: 1.0000\n",
            "\n",
            "Epoch 00060: val_loss did not improve from 0.00000\n",
            "Epoch 61/100\n",
            "7268/7268 [==============================] - 1s 122us/step - loss: 1.4091e-05 - acc: 1.0000 - val_loss: 4.9231e-06 - val_acc: 1.0000\n",
            "\n",
            "Epoch 00061: val_loss did not improve from 0.00000\n",
            "Epoch 62/100\n",
            "7268/7268 [==============================] - 1s 123us/step - loss: 3.5747e-06 - acc: 1.0000 - val_loss: 3.0028e-06 - val_acc: 1.0000\n",
            "\n",
            "Epoch 00062: val_loss did not improve from 0.00000\n",
            "Epoch 63/100\n",
            "7268/7268 [==============================] - 1s 121us/step - loss: 6.3876e-06 - acc: 1.0000 - val_loss: 4.3791e-05 - val_acc: 1.0000\n",
            "\n",
            "Epoch 00063: val_loss did not improve from 0.00000\n",
            "Epoch 64/100\n",
            "7268/7268 [==============================] - 1s 122us/step - loss: 5.0171e-05 - acc: 1.0000 - val_loss: 2.5881e-05 - val_acc: 1.0000\n",
            "\n",
            "Epoch 00064: val_loss did not improve from 0.00000\n",
            "Epoch 65/100\n",
            "7268/7268 [==============================] - 1s 123us/step - loss: 1.4862e-05 - acc: 1.0000 - val_loss: 8.3766e-06 - val_acc: 1.0000\n",
            "\n",
            "Epoch 00065: val_loss did not improve from 0.00000\n",
            "Epoch 66/100\n",
            "7268/7268 [==============================] - 1s 120us/step - loss: 1.2198e-05 - acc: 1.0000 - val_loss: 6.2070e-06 - val_acc: 1.0000\n",
            "\n",
            "Epoch 00066: val_loss did not improve from 0.00000\n",
            "Epoch 67/100\n",
            "7268/7268 [==============================] - 1s 127us/step - loss: 4.0763e-05 - acc: 1.0000 - val_loss: 1.1225e-04 - val_acc: 1.0000\n",
            "\n",
            "Epoch 00067: val_loss did not improve from 0.00000\n",
            "Epoch 68/100\n",
            "7268/7268 [==============================] - 1s 125us/step - loss: 3.7166e-05 - acc: 1.0000 - val_loss: 4.9723e-06 - val_acc: 1.0000\n",
            "\n",
            "Epoch 00068: val_loss did not improve from 0.00000\n",
            "Epoch 69/100\n",
            "7268/7268 [==============================] - 1s 122us/step - loss: 3.9515e-06 - acc: 1.0000 - val_loss: 1.9003e-06 - val_acc: 1.0000\n",
            "\n",
            "Epoch 00069: val_loss did not improve from 0.00000\n",
            "Epoch 70/100\n",
            "7268/7268 [==============================] - 1s 123us/step - loss: 3.7820e-06 - acc: 1.0000 - val_loss: 1.6402e-05 - val_acc: 1.0000\n",
            "\n",
            "Epoch 00070: val_loss did not improve from 0.00000\n",
            "Epoch 71/100\n",
            "7268/7268 [==============================] - 1s 125us/step - loss: 2.5251e-05 - acc: 1.0000 - val_loss: 2.0047e-05 - val_acc: 1.0000\n",
            "\n",
            "Epoch 00071: val_loss did not improve from 0.00000\n",
            "Epoch 72/100\n",
            "7268/7268 [==============================] - 1s 122us/step - loss: 5.3173e-05 - acc: 1.0000 - val_loss: 4.4449e-05 - val_acc: 1.0000\n",
            "\n",
            "Epoch 00072: val_loss did not improve from 0.00000\n",
            "Epoch 73/100\n",
            "7268/7268 [==============================] - 1s 119us/step - loss: 1.5417e-05 - acc: 1.0000 - val_loss: 2.4160e-06 - val_acc: 1.0000\n",
            "\n",
            "Epoch 00073: val_loss did not improve from 0.00000\n",
            "Epoch 74/100\n",
            "7268/7268 [==============================] - 1s 122us/step - loss: 2.6040e-06 - acc: 1.0000 - val_loss: 1.6545e-06 - val_acc: 1.0000\n",
            "\n",
            "Epoch 00074: val_loss did not improve from 0.00000\n",
            "Epoch 75/100\n",
            "7268/7268 [==============================] - 1s 120us/step - loss: 2.9539e-06 - acc: 1.0000 - val_loss: 5.0711e-06 - val_acc: 1.0000\n",
            "\n",
            "Epoch 00075: val_loss did not improve from 0.00000\n",
            "Epoch 76/100\n",
            "7268/7268 [==============================] - 1s 124us/step - loss: 1.2477e-05 - acc: 1.0000 - val_loss: 2.7909e-05 - val_acc: 1.0000\n",
            "\n",
            "Epoch 00076: val_loss did not improve from 0.00000\n",
            "Epoch 77/100\n",
            "7268/7268 [==============================] - 1s 121us/step - loss: 4.7771e-05 - acc: 1.0000 - val_loss: 1.7224e-05 - val_acc: 1.0000\n",
            "\n",
            "Epoch 00077: val_loss did not improve from 0.00000\n",
            "Epoch 78/100\n",
            "7268/7268 [==============================] - 1s 125us/step - loss: 2.1012e-05 - acc: 1.0000 - val_loss: 5.4494e-06 - val_acc: 1.0000\n",
            "\n",
            "Epoch 00078: val_loss did not improve from 0.00000\n",
            "Epoch 79/100\n",
            "7268/7268 [==============================] - 1s 125us/step - loss: 2.4316e-06 - acc: 1.0000 - val_loss: 3.4013e-07 - val_acc: 1.0000\n",
            "\n",
            "Epoch 00079: val_loss did not improve from 0.00000\n",
            "Epoch 80/100\n",
            "7268/7268 [==============================] - 1s 120us/step - loss: 5.4672e-07 - acc: 1.0000 - val_loss: 8.3329e-07 - val_acc: 1.0000\n",
            "\n",
            "Epoch 00080: val_loss did not improve from 0.00000\n",
            "Epoch 81/100\n",
            "7268/7268 [==============================] - 1s 122us/step - loss: 4.1340e-05 - acc: 0.9999 - val_loss: 4.5995e-04 - val_acc: 1.0000\n",
            "\n",
            "Epoch 00081: val_loss did not improve from 0.00000\n",
            "Epoch 82/100\n",
            "7268/7268 [==============================] - 1s 124us/step - loss: 9.7279e-05 - acc: 1.0000 - val_loss: 1.4831e-06 - val_acc: 1.0000\n",
            "\n",
            "Epoch 00082: val_loss did not improve from 0.00000\n",
            "Epoch 83/100\n",
            "7268/7268 [==============================] - 1s 121us/step - loss: 3.7730e-07 - acc: 1.0000 - val_loss: 4.4514e-08 - val_acc: 1.0000\n",
            "\n",
            "Epoch 00083: val_loss improved from 0.00000 to 0.00000, saving model to /content/denrypt_1.2.h5\n",
            "Epoch 84/100\n",
            "7268/7268 [==============================] - 1s 120us/step - loss: 4.2281e-08 - acc: 1.0000 - val_loss: 5.4930e-08 - val_acc: 1.0000\n",
            "\n",
            "Epoch 00084: val_loss did not improve from 0.00000\n",
            "Epoch 85/100\n",
            "7268/7268 [==============================] - 1s 123us/step - loss: 1.6065e-07 - acc: 1.0000 - val_loss: 7.5247e-07 - val_acc: 1.0000\n",
            "\n",
            "Epoch 00085: val_loss did not improve from 0.00000\n",
            "Epoch 86/100\n",
            "7268/7268 [==============================] - 1s 121us/step - loss: 1.2288e-05 - acc: 1.0000 - val_loss: 2.5009e-05 - val_acc: 1.0000\n",
            "\n",
            "Epoch 00086: val_loss did not improve from 0.00000\n",
            "Epoch 87/100\n",
            "7268/7268 [==============================] - 1s 119us/step - loss: 2.4854e-05 - acc: 1.0000 - val_loss: 1.0242e-05 - val_acc: 1.0000\n",
            "\n",
            "Epoch 00087: val_loss did not improve from 0.00000\n",
            "Epoch 88/100\n",
            "7268/7268 [==============================] - 1s 122us/step - loss: 1.6341e-05 - acc: 1.0000 - val_loss: 1.2134e-05 - val_acc: 1.0000\n",
            "\n",
            "Epoch 00088: val_loss did not improve from 0.00000\n",
            "Epoch 89/100\n",
            "7268/7268 [==============================] - 1s 123us/step - loss: 2.1021e-05 - acc: 1.0000 - val_loss: 1.3706e-05 - val_acc: 1.0000\n",
            "\n",
            "Epoch 00089: val_loss did not improve from 0.00000\n",
            "Epoch 90/100\n",
            "7268/7268 [==============================] - 1s 122us/step - loss: 6.4279e-06 - acc: 1.0000 - val_loss: 5.0274e-06 - val_acc: 1.0000\n",
            "\n",
            "Epoch 00090: val_loss did not improve from 0.00000\n",
            "Epoch 91/100\n",
            "7268/7268 [==============================] - 1s 122us/step - loss: 6.7008e-06 - acc: 1.0000 - val_loss: 1.7751e-05 - val_acc: 1.0000\n",
            "\n",
            "Epoch 00091: val_loss did not improve from 0.00000\n",
            "Epoch 92/100\n",
            "7268/7268 [==============================] - 1s 123us/step - loss: 6.4141e-05 - acc: 0.9999 - val_loss: 5.1850e-05 - val_acc: 1.0000\n",
            "\n",
            "Epoch 00092: val_loss did not improve from 0.00000\n",
            "Epoch 93/100\n",
            "7268/7268 [==============================] - 1s 121us/step - loss: 1.0656e-05 - acc: 1.0000 - val_loss: 8.0272e-07 - val_acc: 1.0000\n",
            "\n",
            "Epoch 00093: val_loss did not improve from 0.00000\n",
            "Epoch 94/100\n",
            "7268/7268 [==============================] - 1s 118us/step - loss: 3.9955e-07 - acc: 1.0000 - val_loss: 2.3104e-07 - val_acc: 1.0000\n",
            "\n",
            "Epoch 00094: val_loss did not improve from 0.00000\n",
            "Epoch 95/100\n",
            "7268/7268 [==============================] - 1s 125us/step - loss: 3.7323e-07 - acc: 1.0000 - val_loss: 8.7381e-07 - val_acc: 1.0000\n",
            "\n",
            "Epoch 00095: val_loss did not improve from 0.00000\n",
            "Epoch 96/100\n",
            "7268/7268 [==============================] - 1s 122us/step - loss: 1.1132e-05 - acc: 1.0000 - val_loss: 3.4411e-05 - val_acc: 1.0000\n",
            "\n",
            "Epoch 00096: val_loss did not improve from 0.00000\n",
            "Epoch 97/100\n",
            "7268/7268 [==============================] - 1s 121us/step - loss: 2.8068e-05 - acc: 1.0000 - val_loss: 6.6095e-05 - val_acc: 1.0000\n",
            "\n",
            "Epoch 00097: val_loss did not improve from 0.00000\n",
            "Epoch 98/100\n",
            "7268/7268 [==============================] - 1s 127us/step - loss: 2.4641e-05 - acc: 1.0000 - val_loss: 2.2639e-05 - val_acc: 1.0000\n",
            "\n",
            "Epoch 00098: val_loss did not improve from 0.00000\n",
            "Epoch 99/100\n",
            "7268/7268 [==============================] - 1s 124us/step - loss: 8.9337e-06 - acc: 1.0000 - val_loss: 5.4650e-05 - val_acc: 1.0000\n",
            "\n",
            "Epoch 00099: val_loss did not improve from 0.00000\n",
            "Epoch 100/100\n",
            "7268/7268 [==============================] - 1s 123us/step - loss: 1.9858e-05 - acc: 1.0000 - val_loss: 1.0784e-05 - val_acc: 1.0000\n",
            "\n",
            "Epoch 00100: val_loss did not improve from 0.00000\n"
          ],
          "name": "stdout"
        }
      ]
    },
    {
      "cell_type": "code",
      "metadata": {
        "colab_type": "code",
        "id": "IF6YSSSHYmtx",
        "colab": {}
      },
      "source": [
        "decrypted_text = decrypter.predict(decrypter_X_train)"
      ],
      "execution_count": 0,
      "outputs": []
    },
    {
      "cell_type": "code",
      "metadata": {
        "colab_type": "code",
        "id": "7yVF08xCbtFJ",
        "colab": {}
      },
      "source": [
        "decrypted_int_text = change_output(decrypted_text)"
      ],
      "execution_count": 0,
      "outputs": []
    },
    {
      "cell_type": "code",
      "metadata": {
        "colab_type": "code",
        "id": "XZQgOIfDY6pp",
        "outputId": "f66bf517-8840-4c4a-fa59-1de5a8a6bf98",
        "colab": {
          "base_uri": "https://localhost:8080/",
          "height": 91
        }
      },
      "source": [
        "print(decrypted_text[0])"
      ],
      "execution_count": 0,
      "outputs": [
        {
          "output_type": "stream",
          "text": [
            "[0. 0. 0. 0. 0. 0. 0. 0. 0. 0. 0. 0. 0. 0. 0. 0. 0. 0. 0. 0. 0. 0. 0. 0.\n",
            " 0. 0. 0. 0. 0. 0. 0. 0. 0. 0. 0. 0. 0. 0. 0. 0. 0. 0. 0. 0. 0. 0. 0. 0.\n",
            " 0. 0. 0. 0. 0. 0. 0. 0. 0. 0. 0. 0. 0. 0. 0. 0. 0. 0. 1. 0. 0. 0. 0. 0.\n",
            " 0. 0. 0. 0. 0. 0. 0. 0. 0. 0. 0. 0. 0. 0. 0. 0. 0. 0. 0.]\n"
          ],
          "name": "stdout"
        }
      ]
    },
    {
      "cell_type": "code",
      "metadata": {
        "colab_type": "code",
        "id": "12YIpy4zhQds",
        "outputId": "57f3bd91-49c0-4031-b489-18d60657fe4b",
        "colab": {
          "base_uri": "https://localhost:8080/",
          "height": 91
        }
      },
      "source": [
        "print(decrypted_int_text[0])"
      ],
      "execution_count": 0,
      "outputs": [
        {
          "output_type": "stream",
          "text": [
            "[0. 0. 0. 0. 0. 0. 0. 0. 0. 0. 0. 0. 0. 0. 0. 0. 0. 0. 0. 0. 0. 0. 0. 0.\n",
            " 0. 0. 0. 0. 0. 0. 0. 0. 0. 0. 0. 0. 0. 0. 0. 0. 0. 0. 0. 0. 0. 0. 0. 0.\n",
            " 0. 0. 0. 0. 0. 0. 0. 0. 0. 0. 0. 0. 0. 0. 0. 0. 0. 0. 1. 0. 0. 0. 0. 0.\n",
            " 0. 0. 0. 0. 0. 0. 0. 0. 0. 0. 0. 0. 0. 0. 0. 0. 0. 0. 0.]\n"
          ],
          "name": "stdout"
        }
      ]
    },
    {
      "cell_type": "code",
      "metadata": {
        "colab_type": "code",
        "id": "3TagmGzNgf-A",
        "outputId": "6625c21b-3a25-40ab-a7f6-cc21f4829087",
        "colab": {
          "base_uri": "https://localhost:8080/",
          "height": 91
        }
      },
      "source": [
        "print(decrypter_Y_train[0])"
      ],
      "execution_count": 0,
      "outputs": [
        {
          "output_type": "stream",
          "text": [
            "[0. 0. 0. 0. 0. 0. 0. 0. 0. 0. 0. 0. 0. 0. 0. 0. 0. 0. 0. 0. 0. 0. 0. 0.\n",
            " 0. 0. 0. 0. 0. 0. 0. 0. 0. 0. 0. 0. 0. 0. 0. 0. 0. 0. 0. 0. 0. 0. 0. 0.\n",
            " 0. 0. 0. 0. 0. 0. 0. 0. 0. 0. 0. 0. 0. 0. 0. 0. 0. 0. 1. 0. 0. 0. 0. 0.\n",
            " 0. 0. 0. 0. 0. 0. 0. 0. 0. 0. 0. 0. 0. 0. 0. 0. 0. 0. 0.]\n"
          ],
          "name": "stdout"
        }
      ]
    },
    {
      "cell_type": "code",
      "metadata": {
        "colab_type": "code",
        "id": "PBGt8kz9cm-3",
        "outputId": "59a079e3-2ddb-4eea-dd05-2630ba912546",
        "colab": {
          "base_uri": "https://localhost:8080/",
          "height": 36
        }
      },
      "source": [
        "print(np.argmax(decrypted_text[0]))"
      ],
      "execution_count": 0,
      "outputs": [
        {
          "output_type": "stream",
          "text": [
            "66\n"
          ],
          "name": "stdout"
        }
      ]
    },
    {
      "cell_type": "code",
      "metadata": {
        "colab_type": "code",
        "id": "mOv3Lse_cqTF",
        "outputId": "abe3f93c-b0d2-4cb6-bcd5-d3b0653eef4b",
        "colab": {
          "base_uri": "https://localhost:8080/",
          "height": 36
        }
      },
      "source": [
        "print(np.argmax(decrypter_Y_train[0]))"
      ],
      "execution_count": 0,
      "outputs": [
        {
          "output_type": "stream",
          "text": [
            "66\n"
          ],
          "name": "stdout"
        }
      ]
    },
    {
      "cell_type": "code",
      "metadata": {
        "colab_type": "code",
        "id": "uUeBDUDqgxWK",
        "outputId": "e94ae813-cc0c-4a8f-ffea-7bd4bb631e14",
        "colab": {
          "base_uri": "https://localhost:8080/",
          "height": 91
        }
      },
      "source": [
        "print(decrypted_text[1])"
      ],
      "execution_count": 0,
      "outputs": [
        {
          "output_type": "stream",
          "text": [
            "[0. 0. 0. 0. 0. 0. 0. 1. 0. 0. 0. 0. 0. 0. 0. 0. 0. 0. 0. 0. 0. 0. 0. 0.\n",
            " 0. 0. 0. 0. 0. 0. 0. 0. 0. 0. 0. 0. 0. 0. 0. 0. 0. 0. 0. 0. 0. 0. 0. 0.\n",
            " 0. 0. 0. 0. 0. 0. 0. 0. 0. 0. 0. 0. 0. 0. 0. 0. 0. 0. 0. 0. 0. 0. 0. 0.\n",
            " 0. 0. 0. 0. 0. 0. 0. 0. 0. 0. 0. 0. 0. 0. 0. 0. 0. 0. 0.]\n"
          ],
          "name": "stdout"
        }
      ]
    },
    {
      "cell_type": "code",
      "metadata": {
        "colab_type": "code",
        "id": "hUtnWwnohYRd",
        "outputId": "ddb8e177-326d-461b-f79f-0bbb9c3b5070",
        "colab": {
          "base_uri": "https://localhost:8080/",
          "height": 91
        }
      },
      "source": [
        "print(decrypted_int_text[1])"
      ],
      "execution_count": 0,
      "outputs": [
        {
          "output_type": "stream",
          "text": [
            "[0. 0. 0. 0. 0. 0. 0. 1. 0. 0. 0. 0. 0. 0. 0. 0. 0. 0. 0. 0. 0. 0. 0. 0.\n",
            " 0. 0. 0. 0. 0. 0. 0. 0. 0. 0. 0. 0. 0. 0. 0. 0. 0. 0. 0. 0. 0. 0. 0. 0.\n",
            " 0. 0. 0. 0. 0. 0. 0. 0. 0. 0. 0. 0. 0. 0. 0. 0. 0. 0. 0. 0. 0. 0. 0. 0.\n",
            " 0. 0. 0. 0. 0. 0. 0. 0. 0. 0. 0. 0. 0. 0. 0. 0. 0. 0. 0.]\n"
          ],
          "name": "stdout"
        }
      ]
    },
    {
      "cell_type": "code",
      "metadata": {
        "colab_type": "code",
        "id": "XFO2H-Efgtd0",
        "outputId": "ef1b135c-192f-410b-bfbe-c2c38b7fd677",
        "colab": {
          "base_uri": "https://localhost:8080/",
          "height": 91
        }
      },
      "source": [
        "print(decrypter_Y_train[1])"
      ],
      "execution_count": 0,
      "outputs": [
        {
          "output_type": "stream",
          "text": [
            "[0. 0. 0. 0. 0. 0. 0. 1. 0. 0. 0. 0. 0. 0. 0. 0. 0. 0. 0. 0. 0. 0. 0. 0.\n",
            " 0. 0. 0. 0. 0. 0. 0. 0. 0. 0. 0. 0. 0. 0. 0. 0. 0. 0. 0. 0. 0. 0. 0. 0.\n",
            " 0. 0. 0. 0. 0. 0. 0. 0. 0. 0. 0. 0. 0. 0. 0. 0. 0. 0. 0. 0. 0. 0. 0. 0.\n",
            " 0. 0. 0. 0. 0. 0. 0. 0. 0. 0. 0. 0. 0. 0. 0. 0. 0. 0. 0.]\n"
          ],
          "name": "stdout"
        }
      ]
    },
    {
      "cell_type": "code",
      "metadata": {
        "colab_type": "code",
        "id": "DustfvvNZifM",
        "outputId": "21f19679-d966-45c5-9f65-175dbf45e09c",
        "colab": {
          "base_uri": "https://localhost:8080/",
          "height": 36
        }
      },
      "source": [
        "print(np.argmax(decrypted_text[1]))"
      ],
      "execution_count": 0,
      "outputs": [
        {
          "output_type": "stream",
          "text": [
            "7\n"
          ],
          "name": "stdout"
        }
      ]
    },
    {
      "cell_type": "code",
      "metadata": {
        "colab_type": "code",
        "id": "4XlIEAunaqp0",
        "outputId": "040bd422-b8b9-4bf9-94a1-5ff55a823f7b",
        "colab": {
          "base_uri": "https://localhost:8080/",
          "height": 36
        }
      },
      "source": [
        "print(np.argmax(decrypter_Y_train[1]))"
      ],
      "execution_count": 0,
      "outputs": [
        {
          "output_type": "stream",
          "text": [
            "7\n"
          ],
          "name": "stdout"
        }
      ]
    },
    {
      "cell_type": "code",
      "metadata": {
        "colab_type": "code",
        "id": "0hmG6OSvhMQ9",
        "outputId": "3b52c117-a6a0-4c6b-fe7e-cc1c9f235550",
        "colab": {
          "base_uri": "https://localhost:8080/",
          "height": 36
        }
      },
      "source": [
        "accuracy(decrypted_int_text, decrypter_Y_train)"
      ],
      "execution_count": 0,
      "outputs": [
        {
          "output_type": "stream",
          "text": [
            "Accuracy for the given batch is : 100.0  % \n"
          ],
          "name": "stdout"
        }
      ]
    },
    {
      "cell_type": "code",
      "metadata": {
        "colab_type": "code",
        "id": "fr20f-ilhj2x",
        "colab": {}
      },
      "source": [
        "decrypted_Y_test_pred = decrypter.predict(decrypter_X_test)"
      ],
      "execution_count": 0,
      "outputs": []
    },
    {
      "cell_type": "code",
      "metadata": {
        "id": "1jV1SYTaBH4-",
        "colab_type": "code",
        "colab": {}
      },
      "source": [
        "decrypted_Y_test_pred = change_output(decrypted_Y_test_pred)"
      ],
      "execution_count": 0,
      "outputs": []
    },
    {
      "cell_type": "code",
      "metadata": {
        "id": "Zo-1V_q7CA_H",
        "colab_type": "code",
        "outputId": "30da1ea0-60cd-4e55-bb2d-d4c290c83f0d",
        "colab": {
          "base_uri": "https://localhost:8080/",
          "height": 36
        }
      },
      "source": [
        "accuracy(decrypted_Y_test_pred, decrypter_Y_test)"
      ],
      "execution_count": 0,
      "outputs": [
        {
          "output_type": "stream",
          "text": [
            "Accuracy for the given batch is : 100.0  % \n"
          ],
          "name": "stdout"
        }
      ]
    },
    {
      "cell_type": "code",
      "metadata": {
        "id": "bEwrOfRJdTQh",
        "colab_type": "code",
        "outputId": "6d3fe746-ff92-4cff-d01f-bf161ce008c0",
        "colab": {
          "base_uri": "https://localhost:8080/",
          "height": 36
        }
      },
      "source": [
        "# serialize model to JSON\n",
        "model_json = decrypter.to_json()\n",
        "with open(\"decrypter_v1_2_3.json\", \"w\") as json_file:\n",
        "    json_file.write(model_json)\n",
        "# serialize weights to HDF5\n",
        "decrypter.save_weights(\"decrypter_v1_2_3.h5\")\n",
        "print(\"Saved model to disk\")"
      ],
      "execution_count": 0,
      "outputs": [
        {
          "output_type": "stream",
          "text": [
            "Saved model to disk\n"
          ],
          "name": "stdout"
        }
      ]
    },
    {
      "cell_type": "code",
      "metadata": {
        "id": "vlNDUCOPx2ch",
        "colab_type": "code",
        "outputId": "def121c4-d19f-466a-a331-3a21281689c8",
        "colab": {
          "base_uri": "https://localhost:8080/",
          "height": 36
        }
      },
      "source": [
        "# load json and create model\n",
        "json_file = open('/content/decrypter_v1_2_3.json', 'r')\n",
        "loaded_model_json = json_file.read()\n",
        "json_file.close()\n",
        "loaded_model = model_from_json(loaded_model_json)\n",
        "# load weights into new model\n",
        "loaded_model.load_weights(\"/content/decrypter_v1_2_3.h5\")\n",
        "print(\"Loaded model from disk\")"
      ],
      "execution_count": 0,
      "outputs": [
        {
          "output_type": "stream",
          "text": [
            "Loaded model from disk\n"
          ],
          "name": "stdout"
        }
      ]
    },
    {
      "cell_type": "code",
      "metadata": {
        "id": "u1ZcCpYY8h9w",
        "colab_type": "code",
        "outputId": "7b08711d-4e8c-438a-84a2-f19f3f3deb81",
        "colab": {
          "base_uri": "https://localhost:8080/",
          "height": 36
        }
      },
      "source": [
        "print(\"Decrypter can be loaded and run\")"
      ],
      "execution_count": 0,
      "outputs": [
        {
          "output_type": "stream",
          "text": [
            "Decrypter can be loaded and run\n"
          ],
          "name": "stdout"
        }
      ]
    },
    {
      "cell_type": "code",
      "metadata": {
        "id": "9hfpoM1zA9dR",
        "colab_type": "code",
        "colab": {}
      },
      "source": [
        ""
      ],
      "execution_count": 0,
      "outputs": []
    }
  ]
}