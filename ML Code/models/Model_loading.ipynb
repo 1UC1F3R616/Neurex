{
  "nbformat": 4,
  "nbformat_minor": 0,
  "metadata": {
    "colab": {
      "name": "Model_loading.ipynb",
      "provenance": []
    },
    "kernelspec": {
      "name": "python3",
      "display_name": "Python 3"
    }
  },
  "cells": [
    {
      "cell_type": "code",
      "metadata": {
        "id": "eDt9XO-ve02V",
        "colab_type": "code",
        "colab": {}
      },
      "source": [
        "from keras.models import load_model"
      ],
      "execution_count": 0,
      "outputs": []
    },
    {
      "cell_type": "code",
      "metadata": {
        "id": "_0IDlTxyfSpW",
        "colab_type": "code",
        "colab": {}
      },
      "source": [
        "# In case required to save\n",
        "# model.save('Encrypter_V1.2.1.h5')\n",
        "# decrypter.save('Decrypter_V1.2.1.h5')"
      ],
      "execution_count": 0,
      "outputs": []
    },
    {
      "cell_type": "code",
      "metadata": {
        "id": "p5Gj7yY_fI15",
        "colab_type": "code",
        "colab": {}
      },
      "source": [
        "model.load_model(\"/content/Encrypter_V1.2.1.h5\")"
      ],
      "execution_count": 0,
      "outputs": []
    },
    {
      "cell_type": "code",
      "metadata": {
        "id": "GwnQTivIe60p",
        "colab_type": "code",
        "colab": {}
      },
      "source": [
        "model.load_model(\"/content/Decrypter_V1.2.1.h5\")"
      ],
      "execution_count": 0,
      "outputs": []
    }
  ]
}