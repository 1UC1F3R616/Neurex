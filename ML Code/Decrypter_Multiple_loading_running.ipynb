{
  "nbformat": 4,
  "nbformat_minor": 0,
  "metadata": {
    "colab": {
      "name": "Decrypter_Multiple_loading_running.ipynb",
      "provenance": [],
      "collapsed_sections": []
    },
    "kernelspec": {
      "name": "python3",
      "display_name": "Python 3"
    },
    "accelerator": "GPU"
  },
  "cells": [
    {
      "cell_type": "code",
      "metadata": {
        "id": "_nitYIN6OgQm",
        "colab_type": "code",
        "outputId": "3e7d8844-75b7-428e-efcb-fe66f3b77171",
        "colab": {
          "base_uri": "https://localhost:8080/",
          "height": 36
        }
      },
      "source": [
        "from keras import Sequential\n",
        "from keras.models import load_model\n",
        "from keras.models import model_from_json\n",
        "import numpy as np"
      ],
      "execution_count": 0,
      "outputs": [
        {
          "output_type": "stream",
          "text": [
            "Using TensorFlow backend.\n"
          ],
          "name": "stderr"
        }
      ]
    },
    {
      "cell_type": "code",
      "metadata": {
        "id": "N86tyj266R3-",
        "colab_type": "code",
        "colab": {}
      },
      "source": [
        "import warnings\n",
        "warnings.filterwarnings('ignore')"
      ],
      "execution_count": 0,
      "outputs": []
    },
    {
      "cell_type": "code",
      "metadata": {
        "colab_type": "code",
        "id": "42-FGlV9ezAb",
        "colab": {}
      },
      "source": [
        "def change_output(arr):\n",
        "    '''' Rounding off the confident outputs '''\n",
        "    row=arr.shape[0]\n",
        "    col=arr.shape[1]\n",
        "    for i in range(row):\n",
        "      for j in range(col):\n",
        "        if(arr[i][j]>0.5):\n",
        "          arr[i][j]=1\n",
        "        else:\n",
        "          arr[i][j]=0\n",
        "          \n",
        "    arr.astype('int')\n",
        "    return(arr)    "
      ],
      "execution_count": 0,
      "outputs": []
    },
    {
      "cell_type": "code",
      "metadata": {
        "id": "4MEjaN2pO5z9",
        "colab_type": "code",
        "outputId": "769a00ea-2dac-4c3d-a371-521bc55cbeea",
        "colab": {
          "base_uri": "https://localhost:8080/",
          "height": 36
        }
      },
      "source": [
        "# load json and create model\n",
        "json_file = open('/content/decrypter_v1_2_3.json', 'r')\n",
        "loaded_model_json = json_file.read()\n",
        "json_file.close()\n",
        "\n",
        "loaded_19bit_decrypter = model_from_json(loaded_model_json)\n",
        "# load weights into new model\n",
        "loaded_19bit_decrypter.load_weights(\"/content/decrypter_v1_2_3.h5\")\n",
        "print(\"Loaded model from disk\")"
      ],
      "execution_count": 0,
      "outputs": [
        {
          "output_type": "stream",
          "text": [
            "Loaded model from disk\n"
          ],
          "name": "stdout"
        }
      ]
    },
    {
      "cell_type": "code",
      "metadata": {
        "id": "0zSw60_y7XAd",
        "colab_type": "code",
        "outputId": "cd1dcd5f-302e-4f6e-9eea-ecd5f61530c2",
        "colab": {
          "base_uri": "https://localhost:8080/",
          "height": 36
        }
      },
      "source": [
        "# load json and create model\n",
        "json_file = open('/content/decrypter_v1_2_1.json', 'r')\n",
        "loaded_model_json = json_file.read()\n",
        "json_file.close()\n",
        "\n",
        "loaded_32bit_decrypter = model_from_json(loaded_model_json)\n",
        "# load weights into new model\n",
        "loaded_32bit_decrypter.load_weights(\"/content/decrypter_v1_2_1.h5\")\n",
        "print(\"Loaded model from disk\")"
      ],
      "execution_count": 0,
      "outputs": [
        {
          "output_type": "stream",
          "text": [
            "Loaded model from disk\n"
          ],
          "name": "stdout"
        }
      ]
    },
    {
      "cell_type": "code",
      "metadata": {
        "id": "XPyLfS489BDh",
        "colab_type": "code",
        "colab": {}
      },
      "source": [
        "nets = [loaded_32bit_decrypter, loaded_19bit_decrypter]"
      ],
      "execution_count": 0,
      "outputs": []
    },
    {
      "cell_type": "code",
      "metadata": {
        "id": "I0RQecXS1emx",
        "colab_type": "code",
        "outputId": "1a1fa054-db2f-460a-92eb-6463671922f4",
        "colab": {
          "base_uri": "https://localhost:8080/",
          "height": 36
        }
      },
      "source": [
        "# net_list = np.load('net_list.npy')\n",
        "# print(net_list)"
      ],
      "execution_count": 0,
      "outputs": [
        {
          "output_type": "stream",
          "text": [
            "[1 0 0 0]\n"
          ],
          "name": "stdout"
        }
      ]
    },
    {
      "cell_type": "code",
      "metadata": {
        "id": "9a05zLztEh_W",
        "colab_type": "code",
        "colab": {}
      },
      "source": [
        "def decrypt_oh(oh_dec):\n",
        "    tst = ''\n",
        "    for i in oh_dec:\n",
        "        pos = int((np.where(i == 1)[0][0]))\n",
        "        pos += 32\n",
        "        tst += chr(pos)\n",
        "    return(tst)  "
      ],
      "execution_count": 0,
      "outputs": []
    },
    {
      "cell_type": "code",
      "metadata": {
        "id": "Bxde0ak67sN3",
        "colab_type": "code",
        "outputId": "ec886313-fd3f-4f49-d95d-eb5959b888fa",
        "colab": {
          "base_uri": "https://localhost:8080/",
          "height": 333
        }
      },
      "source": [
        "# dec_count = 0\n",
        "# with open('multisave.npy','rb') as f:\n",
        "#     tst = ''\n",
        "#     while(dec_count < len(net_list)):\n",
        "#         arr = np.load(f)\n",
        "#         # print(arr)\n",
        "#         # print(net_list[dec_count])\n",
        "#         out = nets[net_list[dec_count]].predict(arr)\n",
        "#         out = change_output(out)\n",
        "#         # print(out)\n",
        "#         tst += decrypt_oh(out)\n",
        "#     # print(net_list[dec_count])\n",
        "#     # out = nets\n",
        "#     # decrypted = decrypt_net.predict(arr)\n",
        "#     # print(decrypt_out)\n",
        "#     # print(decrypted)\n",
        "#         dec_count += 1\n",
        "# print(tst)"
      ],
      "execution_count": 0,
      "outputs": [
        {
          "output_type": "stream",
          "text": [
            "[[0. 0. 0. 0. 0. 0. 0. 0. 0. 0. 0. 0. 0. 0. 0. 0. 0. 0. 0. 0. 0. 0. 0. 0.\n",
            "  0. 0. 0. 0. 0. 0. 0. 0. 0. 0. 0. 0. 0. 0. 0. 0. 0. 0. 0. 0. 0. 0. 0. 0.\n",
            "  0. 0. 0. 0. 0. 0. 0. 0. 0. 0. 0. 0. 0. 0. 0. 0. 0. 1. 0. 0. 0. 0. 0. 0.\n",
            "  0. 0. 0. 0. 0. 0. 0. 0. 0. 0. 0. 0. 0. 0. 0. 0. 0. 0. 0.]]\n",
            "[[0. 0. 0. 0. 0. 0. 0. 0. 0. 0. 0. 0. 0. 0. 0. 0. 0. 0. 0. 0. 0. 0. 0. 0.\n",
            "  0. 0. 0. 0. 0. 0. 0. 0. 0. 0. 0. 0. 0. 0. 0. 0. 0. 0. 0. 0. 0. 0. 0. 0.\n",
            "  0. 0. 0. 0. 0. 0. 0. 0. 0. 0. 0. 0. 0. 0. 0. 0. 0. 0. 1. 0. 0. 0. 0. 0.\n",
            "  0. 0. 0. 0. 0. 0. 0. 0. 0. 0. 0. 0. 0. 0. 0. 0. 0. 0. 0.]]\n",
            "[[0. 0. 0. 0. 0. 0. 0. 0. 0. 0. 0. 0. 0. 0. 0. 0. 0. 0. 0. 0. 0. 0. 0. 0.\n",
            "  0. 0. 0. 0. 0. 0. 0. 0. 0. 0. 0. 0. 0. 0. 0. 0. 0. 0. 0. 0. 0. 0. 0. 0.\n",
            "  0. 0. 0. 0. 0. 0. 0. 0. 0. 0. 0. 0. 0. 0. 0. 0. 0. 0. 0. 1. 0. 0. 0. 0.\n",
            "  0. 0. 0. 0. 0. 0. 0. 0. 0. 0. 0. 0. 0. 0. 0. 0. 0. 0. 0.]]\n",
            "[[0. 0. 0. 0. 0. 0. 0. 0. 0. 0. 0. 0. 0. 0. 0. 0. 0. 0. 0. 0. 0. 0. 0. 0.\n",
            "  0. 0. 0. 0. 0. 0. 0. 0. 0. 0. 0. 0. 0. 0. 0. 0. 0. 0. 0. 0. 0. 0. 0. 0.\n",
            "  0. 0. 0. 0. 0. 0. 0. 0. 0. 0. 0. 0. 0. 0. 0. 0. 0. 0. 0. 0. 1. 0. 0. 0.\n",
            "  0. 0. 0. 0. 0. 0. 0. 0. 0. 0. 0. 0. 0. 0. 0. 0. 0. 0. 0.]]\n",
            "abcd\n"
          ],
          "name": "stdout"
        }
      ]
    },
    {
      "cell_type": "code",
      "metadata": {
        "id": "In-g6IP27-LZ",
        "colab_type": "code",
        "colab": {}
      },
      "source": [
        "def decrypt_file(file, net_list):\n",
        "    net_list = np.load(net_list)\n",
        "    dec_count = 0\n",
        "    with open(file,'rb') as f:\n",
        "        tst = ''\n",
        "        while(dec_count < len(net_list)):\n",
        "            arr = np.load(f)\n",
        "            # print(arr)\n",
        "            # print(net_list[dec_count])\n",
        "            out = nets[net_list[dec_count]].predict(arr)\n",
        "            out = change_output(out)\n",
        "            # print(out)\n",
        "            tst += decrypt_oh(out)\n",
        "        # print(net_list[dec_count])\n",
        "        # out = nets\n",
        "        # decrypted = decrypt_net.predict(arr)\n",
        "        # print(decrypt_out)\n",
        "        # print(decrypted)\n",
        "            dec_count += 1\n",
        "    # print(tst)\n",
        "    return(tst)"
      ],
      "execution_count": 0,
      "outputs": []
    },
    {
      "cell_type": "code",
      "metadata": {
        "id": "7s6t0WQWG8Ee",
        "colab_type": "code",
        "colab": {}
      },
      "source": [
        "decrypted = decrypt_file('/content/multisave.npy', '/content/net_list.npy')"
      ],
      "execution_count": 0,
      "outputs": []
    },
    {
      "cell_type": "code",
      "metadata": {
        "id": "815vYI2xHaGS",
        "colab_type": "code",
        "outputId": "4eec7521-cbd9-4f9d-d806-971e5f206434",
        "colab": {
          "base_uri": "https://localhost:8080/",
          "height": 36
        }
      },
      "source": [
        "# print(decrypted)"
      ],
      "execution_count": 0,
      "outputs": [
        {
          "output_type": "stream",
          "text": [
            "abcd\n"
          ],
          "name": "stdout"
        }
      ]
    },
    {
      "cell_type": "code",
      "metadata": {
        "id": "E1dsdwz9Iqek",
        "colab_type": "code",
        "colab": {}
      },
      "source": [
        ""
      ],
      "execution_count": 0,
      "outputs": []
    }
  ]
}