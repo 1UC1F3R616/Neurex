{
  "nbformat": 4,
  "nbformat_minor": 0,
  "metadata": {
    "colab": {
      "name": "Encrpyter_Decrypter_Net_V1_2_1.ipynb",
      "provenance": []
    },
    "kernelspec": {
      "name": "python3",
      "display_name": "Python 3"
    },
    "accelerator": "GPU"
  },
  "cells": [
    {
      "cell_type": "code",
      "metadata": {
        "colab_type": "code",
        "id": "hfntcH0W00ee",
        "outputId": "4bbb4c39-39c6-4b01-a446-0a20bd1cfd2b",
        "colab": {
          "base_uri": "https://localhost:8080/",
          "height": 36
        }
      },
      "source": [
        "from keras import Sequential\n",
        "from keras import layers\n",
        "from keras import optimizers\n",
        "\n",
        "from keras.callbacks import ModelCheckpoint\n",
        "from keras.callbacks import ReduceLROnPlateau"
      ],
      "execution_count": 0,
      "outputs": [
        {
          "output_type": "stream",
          "text": [
            "Using TensorFlow backend.\n"
          ],
          "name": "stderr"
        }
      ]
    },
    {
      "cell_type": "code",
      "metadata": {
        "id": "MlM85BbVUrv7",
        "colab_type": "code",
        "colab": {}
      },
      "source": [
        "from tqdm import tqdm_notebook"
      ],
      "execution_count": 0,
      "outputs": []
    },
    {
      "cell_type": "code",
      "metadata": {
        "id": "_RzqcZFA_tm3",
        "colab_type": "code",
        "colab": {}
      },
      "source": [
        "from keras.models import model_from_json"
      ],
      "execution_count": 0,
      "outputs": []
    },
    {
      "cell_type": "code",
      "metadata": {
        "colab_type": "code",
        "id": "oD58HvtiPsLX",
        "colab": {}
      },
      "source": [
        "from keras import Sequential\n",
        "from keras import layers\n",
        "from keras import optimizers\n",
        "\n",
        "from keras.callbacks import ModelCheckpoint\n",
        "from keras.callbacks import ReduceLROnPlateau"
      ],
      "execution_count": 0,
      "outputs": []
    },
    {
      "cell_type": "code",
      "metadata": {
        "colab_type": "code",
        "id": "o_XK9X5oPsL7",
        "colab": {}
      },
      "source": [
        "import warnings\n",
        "warnings.filterwarnings('ignore')"
      ],
      "execution_count": 0,
      "outputs": []
    },
    {
      "cell_type": "code",
      "metadata": {
        "colab_type": "code",
        "id": "La699KWSPsME",
        "colab": {}
      },
      "source": [
        "import numpy as np\n",
        "from sklearn.metrics import accuracy_score\n",
        "import string"
      ],
      "execution_count": 0,
      "outputs": []
    },
    {
      "cell_type": "code",
      "metadata": {
        "colab_type": "code",
        "id": "klol-OGDPsMK",
        "colab": {}
      },
      "source": [
        "def create_labels(paragraph, hashmap):\n",
        "    # paragraph = paragraph.lower()\n",
        "    output = []\n",
        "    for i in paragraph:\n",
        "        output.append(list(map(int,str(hashmap[i]))))\n",
        "    \n",
        "    return np.array(output)\n"
      ],
      "execution_count": 0,
      "outputs": []
    },
    {
      "cell_type": "code",
      "metadata": {
        "colab_type": "code",
        "id": "1jPmeBAc9dD-",
        "colab": {}
      },
      "source": [
        "import warnings\n",
        "warnings.filterwarnings('ignore')"
      ],
      "execution_count": 0,
      "outputs": []
    },
    {
      "cell_type": "code",
      "metadata": {
        "colab_type": "code",
        "id": "5DyLy5GF7lnD",
        "colab": {}
      },
      "source": [
        "import numpy as np\n",
        "from sklearn.metrics import accuracy_score\n",
        "import string"
      ],
      "execution_count": 0,
      "outputs": []
    },
    {
      "cell_type": "code",
      "metadata": {
        "colab_type": "code",
        "id": "GrY57mTsbIaw",
        "colab": {}
      },
      "source": [
        "def create_labels(paragraph, hashmap):\n",
        "    # paragraph = paragraph.lower()\n",
        "    output = []\n",
        "    for i in paragraph:\n",
        "        output.append(list(map(int,str(hashmap[i]))))\n",
        "    \n",
        "    return np.array(output)\n"
      ],
      "execution_count": 0,
      "outputs": []
    },
    {
      "cell_type": "code",
      "metadata": {
        "id": "itrWMHP4Um05",
        "colab_type": "code",
        "colab": {}
      },
      "source": [
        "hashmap = {'*': 10010110010001000111111110111010,\n",
        " \"'\": 10000111011101111001010000110101,\n",
        " 'J': 10110100100011001110110010000110,\n",
        " 'k': 10011011110111110110011110000011,\n",
        " ' ': 10001010001010001110011010011011, 'b': 11010101011000001010100110100010, '.': 10011000101001001000111111110111,\n",
        " '_': 10011111000010011000000011110000, 'l': 11011001011010000010011010111011, 'Q': 11111100101110101001100111111010,\n",
        " 'z': 10010100000111001111110111101110, 'H': 11110101001000101000001000110010, '=': 11000001000011110100010101101000,\n",
        " '\"': 10110000010110100111000111111001, ':': 10101111111000010010111001110110, 'O': 11000001001010110110100111101100,\n",
        " '?': 11110000100101111011110100000000, 'T': 11010110111000110111001110010101, '-': 11110110101001111110000110101001,\n",
        " 'c': 10010001011010000100100100110001, 'R': 11010110011001010101000110010000, '6': 10001111000101000101100100010000, '\\\\': 11110101011001100110011011000010, 'j': 11101111111100101100010100000100, 'm': 11101100000110110010000100100110, 'd': 10111001100100010110110110001110, '8': 11111011000101001100010000010100, 'A': 10001100010111011100001110000001, '^': 11011011001000010100100000001010, ';': 11101000111111100011010100110000, '<': 10100011010001011001001010000010, 'F': 10001011100011010000011101111101, 'x': 10111001010011110101001000010101, '`': 10111000100110010110111111100000, 'h': 10011100100010010011111011111000, 'M': 11001110011010001100101011101011, 'B': 10011110010000000001110001011000, '>': 11001100100001000111010001111001, '%': 10010000001001001110000000011111, '@': 10001100000001000010000101000110, 'U': 10011001011101001100011011111101, 's': 11110011001011001010101011010010, 'w': 10111100100101010111010010111001, '0': 11011010100110000000001010100111, 'q': 11111111100111110100110001110100, 'I': 11100000110011111001000000111010, '/': 11011001010000100001101110000001, 'i': 10110010001110100111110001011100, 'N': 11110001011101000100001001001110, '(': 11001011010001101101100111100001, ',': 10000100000011100011000110100111, '5': 10111111001011101000101101010110, 'E': 10010100011010011111000110101000, '4': 11001111011110000101010000010001, 't': 10111110010111100011000111000100, 'f': 10110100100110010010000100110110, 'g': 10111000010110011011110011101110, 'v': 10101100100110000110111010100010, 'p': 11111001111111001111011101111001, ']': 10010010001111001010101010101101, '3': 10000000001010010001101011110000, '&': 10000000001000000101111101010010, 'u': 11101100100011110010000111000101, 'o': 11111000011101101101000010101010, 'r': 10100101101011111100001001110100, 'X': 10101111110010101011101111110101, 'C': 11000110011011101001000111000000, 'Y': 11000110111110110101101110101011, '7': 11110110010111011000011011000100, '!': 11001100000000101001011111110001, '2': 10101101011110000001110011101000, '+': 10111001010110100110001111000010, '$': 11110100011011100001000010001001, '1': 11101000011001000000101010100011, 'a': 11100110010011110110101011011100, '#': 10110011011011001100000110010100, 'e': 10000010111100000101010011111001, '[': 10000010110110111011110010111000, 'D': 10000100100111111101000000110110, 'S': 10101011110110001111011011101111, 'G': 11100110010111111010111110000011, 'y': 10001111010011010000110000011110, 'L': 11100001111011011010010111010001, '9': 11110011011000100000111100000101, ')': 10001010100110000100100011100110, 'W': 10010100000011011111101111100011, 'K': 10011001100100101100011001110110, 'Z': 11101100111110000111001110100101,\n",
        " 'P': 11110101010100100100111110011001, 'V': 10011011011001001000100110110010, 'n': 10101100011001000111010010001000}"
      ],
      "execution_count": 0,
      "outputs": []
    },
    {
      "cell_type": "code",
      "metadata": {
        "id": "rXmRpG7-XzXE",
        "colab_type": "code",
        "outputId": "764c000d-d844-4b26-9179-043a80d93699",
        "colab": {
          "base_uri": "https://localhost:8080/",
          "height": 36
        }
      },
      "source": [
        "print(len(hashmap))"
      ],
      "execution_count": 0,
      "outputs": [
        {
          "output_type": "stream",
          "text": [
            "91\n"
          ],
          "name": "stdout"
        }
      ]
    },
    {
      "cell_type": "code",
      "metadata": {
        "id": "k05ppUleX1Ag",
        "colab_type": "code",
        "outputId": "aa2bfd4d-e798-4a8d-8251-4c0f1f0105d7",
        "colab": {
          "base_uri": "https://localhost:8080/",
          "height": 56
        }
      },
      "source": [
        "l = []\n",
        "for i in hashmap.keys():\n",
        "    l.append(i)\n",
        "\n",
        "print(sorted(l))\n"
      ],
      "execution_count": 0,
      "outputs": [
        {
          "output_type": "stream",
          "text": [
            "[' ', '!', '\"', '#', '$', '%', '&', \"'\", '(', ')', '*', '+', ',', '-', '.', '/', '0', '1', '2', '3', '4', '5', '6', '7', '8', '9', ':', ';', '<', '=', '>', '?', '@', 'A', 'B', 'C', 'D', 'E', 'F', 'G', 'H', 'I', 'J', 'K', 'L', 'M', 'N', 'O', 'P', 'Q', 'R', 'S', 'T', 'U', 'V', 'W', 'X', 'Y', 'Z', '[', '\\\\', ']', '^', '_', '`', 'a', 'b', 'c', 'd', 'e', 'f', 'g', 'h', 'i', 'j', 'k', 'l', 'm', 'n', 'o', 'p', 'q', 'r', 's', 't', 'u', 'v', 'w', 'x', 'y', 'z']\n"
          ],
          "name": "stdout"
        }
      ]
    },
    {
      "cell_type": "code",
      "metadata": {
        "id": "8rW5-ALCYARj",
        "colab_type": "code",
        "colab": {}
      },
      "source": [
        "def create_input_array(word):\n",
        "    enc_l = []\n",
        "    for i in word:\n",
        "        arr = np.zeros(91)\n",
        "        enc = ord(i) - 32\n",
        "#         print(enc)\n",
        "        arr[enc] += 1\n",
        "        enc_l.append(arr)\n",
        "    return(np.array(enc_l))"
      ],
      "execution_count": 0,
      "outputs": []
    },
    {
      "cell_type": "code",
      "metadata": {
        "colab_type": "code",
        "id": "LIzJTfqpaize",
        "colab": {}
      },
      "source": [
        "X_train_string = '''b'Kp]I! S t\"ayQ<w )8tfwP 178 ]R?Dop gBv )1 mJE#@N79-= f+ b*=z @<z`-e>mg$ `5Uv8)j*= fyVUjtBI1^ /+ktvxSF[ 6n*VJj9Pu 5[3>0 L9# *6;X k/y[ \\'OSQ2,RCF 5.razd4T `HW;#=84rs _ fX[;+ z?!m0V P1inV7C.kF \\'k5,bO ziyek H3.TAG\\\\1 w?cf652J PYg-x1 .oqv bm ] $VCIi^Hnu WDHb az6d<Q7L% vi)6]J8 7X Leb 2N4 3EUe: wUsr $;v #gp i1 Sd b7e@C:.I^< 64t$UdmiC b1 y3u=2*$h 6K3ex\" 2y%?c z *(SK[C -96\\\\ Vx%zq2 Z N!;BKSh ]d[t;4< u/aF7;R* B6@iq\\'d& PT \\' eJw6vz@4g/ NH@) 9L6o%b_v#! 4w6.f f]rp%2\"b\\'q 1 IAB[Z\\\\vl=0 VA v*^L<f r=vm\"gS9 JXj.W$ B<bw5L7zk a`*9;s[# /v-+\"Q n.GPh ,KmgE;Mfk& bV9?Zo XArG_  Go*nD,U .@\"!2xhaz` Eyx 4W;r>N17\"l .!m/YDU9 @x>\\\\th8   r 49 ]cN_`gWM .^+lDGc Xu^-+ Py8?J:xv\" (2/ aX!t<>  $aR we3)bHT u2#>B@o)d SsAbV bOL?] b1G%;+L4C2 kY(*zJ TPzfk 8[Imd` CK [`a;vtK 1.X=!4<ut ` Ym%xF-J ,Z5zEa\\\\uj Swn= W=8J.aSys  6# w.\"o/x2tM y8 )Y-$ r.V$gTh1= Tu @T LPX . Bl2UQM5 rFyk\"_Lv o0MV ,I.m\\\\)?n 1o4s2pqQ<n mU5iB`FG +$x6LyIo0  hEWB] V$F8+iR q:Nz LA\"sm pmvA y)be>=8/q \" \"e,RiT!a `*:GiUu,a vwd$\\\\J &8\\\\ ad -Ll%)0U  zSWQ?s [-D a.o( D`/LVy ,Nc\\\\R_hXU Ap)_5Nur HF5?TqK ,t8? QD [v&0/g] c2xW;3# Y O^/9#xupg Y <ndO m G)Y`W=H\\' ]@w T3=l28\\'K< qr+ mt/Pw5nE; ]P3I5+Q*. 4 r$R\\\\8 Gh -W>V$Q^ #94gwd c-C\\'T4D]i^ $!# +M=L\\'< J8]2 kCQZid&<: q#1d.L4/ B[A qKNuS<Fo 7 &a$ rxL.6 ^>m\\\\icO ljuZ?63r4H e=JREx+ R*#WgF2KBu , DQESp \"Lu ^buw $V>P7 +9=8S 3?I,jw U- E>[$ uUQcG 0d ;]SC eb*_\"+ jM\\'VYFk &T ulRH,ti D@Z<H 6:m;z hBc_gk q <0*W47\\\\v os Mq2\\'ixuj QX;u#R/ j I4\"D 4Yb N- *X.! X&J?B\"O S0_Yxi1bB uL9x7q @ 0K^N d,U;vRm @\\' GXRq=\\\\]x9 nA&JkvH( Rw, `\":3 sg pD,Mb # i?r=:% N$\"e XVKUs  8mXW)+1x =?>.B0 #!rW(y@c/ )1IX,\\' HLhn82 $Q i,$Ld. \\'Dj3 za If&@g+MS_e pM\\'C; -2w#e6n0!I Yu@<M n,U-KybB TmQW 206N]t &H>*/TCiy 6z`20 PA?9  [Ge)2 !CM_e :KPlH5e\\' .]F=z ZC (dVD#6e pw?a=:P EydjZYGRpV nz_Rs !hN.9C\"x JbRm $6<I n^N/u\\\\,[-x %+ > /Pc\\'6 t \\\\#:7jkfh 1=^b:`\" a; q ?= MI_oY[7xf Lf<qUC6pb? >/U\\\\VbE87 #> \\\\)Co xmGB3zP4Fj \" _w-*jc`K `_5wDMP^! /ZN0 #1* ,HX y*Y&R\" dPfyk\\\\`JmE < D9cC=L7;([ tlsiuK /1 Yb7g2dHx3  4*Th26%rA Xl+vqKhw zF-<Km(B :z(%gfoqt mN\"^I08Qo > w.o] N a EyC T6<O= %< v&k_ h_C,7o AKV,C8]JBr OB&S iSc\\' 5&J>CX #f `3#mv\\\\ ZfMNxO V[G&\\' g4lU9$ W? i>R efZ\\\\I ?  &fW-253Kp i t3.,YE EV8# T_l QfA , XBlCu 5,\":A[O7Y Z]a,.Do &q,cn-C> WQb<\\\\` >pR6<5XWvb >o2d[3Fs W`\" ;T\\'Bz\",jE S ^t, (6Iy2)nZ j;LKY^S PLXNC =QUWq 8-Ze^l y\\\\cYS^%<n 1:qHwyjE r*V/1 MSjN AhuQN2\"Z_w U zvGf64h<yd nis1o7NaV T]C(Aqm? JSyT+xznO  NP]^#2qIiU iU^h*L PBWvyue1^ Yz2 `2^ 7\\'xn> ?Wv[rH,Fa H.d:-G ([ JxmjAwe.Q ]8Nx0ZM3@< xvP5eou xhIM cqp/(C\\'Jw) \\'H= oAPm:\"v@ $!Gx=-\\\\P aKWo .f4Wpw\\\\)Tx kv> wWt Xnq;!^0 N . FCK h5c3s=EITX ?v o1 Z9Ev[8=yI CHAMQdSjh WiX9q] m&L<s ku]5c<&, qhSI7M?*u PdSAesLM6 .u1J\\\\iA! 1 Z5M:fp %[9GH:RC RuxY `G=:,7> [;2NB c`/Ud9E - W:_ i#]VR2: 6: jo!* EMt w o% S^n6CY7 mJ p-A,r/gK SH7w842 =DU&eMtw %9$an ?\\'xf9 zaGr5-vu! FQCG^H=Pp 6hTz_L,[ fV %^J hE/i%b ;b5<y:r!VY %Zp@ ) qnMHc /7vS : O>s1yWbNPS \\\\kCnXL ]z`\\'nX+ _-YM2A 7^5: ]wOm CIU%FQ?1 ( ] O\" 2uFva0LZ# YTpafE(*19 w = l<O#8jm p4  /p) %Fn<- 0 \\',fH OdU(sZ 9 bS.v q6F!\\\\y !F2[O 2\\'],` ceZRX\\'UNa asK?-\"S CJqD td +>v#0_f\\\\F u(o2qk=jx\" \"4t yG= OF&Qd8 &G K Zo>zjFp\"h] G<= vFomWTq0Y% :!3 U S`Qc ]YE.C\\'r( [.v\\\\ EhWRH /nE<3`Q  c ;1X,)8aem Ks(nSWU 7? vHPKL6Ex c . _*(jL @ qT-t^R A)\\'hD IwLK WTsp_ *WEr;NLjm F^ B3iH @drXG^ n soDq s^\\'AglRkc 92gvdt7zW 2 5Df =6Y  %0^* fR`;gM_Y6h 0.8FUE;t lZx R\"D1Y]dX V8eRtG(Kb, f9 Vdiy>SL/O2 .W 73Z*$`6^ B$xO iC,:a0fq;2 + 6vui : [\\'MUj tcp#rB\\'A Y#q )yno l?/bz]N& V7MN$Pthm N o>8Z+i?; @\"Y> J7] i= cFv RevgrJD d0@W5  931&ym : @Qm5sI+L^ HRw i]RoA2#y) 8FuEP= t>oK \\\\ ]>zrR# q0\\\\*^ jma ;e.ux _ Y7+w0 C[RBU -D la3 CP^ 1`XDw:9t 9yhT N\"=!69R&d* > Rjh2Ss,: 6F5@\"b q)iZze`bM &6R\\'1 BMA_ *Md` N0kez:., meo&Y; \\'L6 Ca p 0mb.`:s& [ W@xj.T= 8k!_R , ^F G= wZif OHF8lEwd27 6 O ; #L\\\\,Q(+>7 &f1dQ8!O N -k@ FZ\\'LUYiwf & sB57@yQ- 5cjWrt%ai< tHsjL! oMv Rgn >s 5i2\\\\ \"6W\\\\Ik kW GIR9?N&qK gY! H=! N.jgoh+ QS mYxba n2cB=6, C)4 =@!qB 9;d E^M1BywqJ` )yFsQ 4_*ts 2G+L \\\\2m x aRk7U Ghp*ADqo l i 0]A`at x \\\\D12- LS \"q@Dyrn .dqgOi]W o\\\\<v.KOxA umYJP? he\\\\Ci^z sW VU4v `. cYA2  S EzU %4 uC\\\\m4 PK38rB , mj\\'_+kUz T93! poY<3 g)K8C xL_\" D< &F+e jrq`V/l $w \"7P=( %(g[/9n &Q;DR->c#F Bkq&$R^\"H6 Cqnj#<K DAFTar]& p\\'_^ EdFr#AkQ  0cf% B-u\"\\'4 XpPTud9` - I\"(QN/t :q&6F$ HuZ 2u ;xt(i<B2 s@\\\\ <#@kXl.V` >3J5d d *yD-k9\\\\ i4CfES-j 4\\',EX.Bjby M2G.I:bliu /2.7mPjAJ\\\\ ]8)Z1 )-wgsfI[a/  Mo=H8z\" qA\\\\ ?eD8zHx;p \".1=WN c:8q  A8a$\"jb g a)\\'s ^`D q\"vRC2 Bc b;T dXz&fJt! ^2 \\\\C1 - []B*w6rHkU TvU0 es-g/uM IqVp$)6Mv =#\"S: x0Ya,j4T 8I(H KD$,   O+\\'F y : #cbG tI1As V]M6=e )N3 *Mi;&!Oc) 1MQ 7Ke3 oR`k-z !3=S Xoa <9?1n0:^`* o>\"Qz pDM]R0 ]-/`8aoU=* bWR jcDtrq 9 zUEZX!t t.g\\'a X(2!70z+k [nbo [zRHlJp\"+ rZE5.T_l EIn^(z; Ee.giY8rA, CFxq6v(V B$an1])5 \" Xx\\\\1vr+EGk TZN7g 93*wj! <%96 x^h#fI$ .oN0xOn=5: 5V?L)F!M qw?Lf zfF URVE=$5d  =An0?`wo E$`K8n 8=`3Qa1 iG1r GZygw. JX@DKx7 %!+ x*\"8m _] QvN\\\\ qM (R.A2 j\\\\Ty[m9 861^\"i@yfS HK Gf =dW etcJ\\'w0 aD@S t pF! 7-g(6)/ i] #j 5n;uY1rg Ug7Kn9oVA !\"#  Elno9 wKBvukR V*=@1O \\'\\\\@<R qun $wuQ[O jsyR\"8eUC6 \\'*s Q e12,Sv)>&` *24r/!<co\" W3 WE,F2] rb 1/_H9O \\\\Zv EH=Vc2 %\\'X?k GR F.Z m ,P0\" \\\\ jM;NA<v> 1iE3h;Gr) j *UF3zZg2r_ F[h;Hk3 @H)Cni, u:< gB(c2 z @F5T*$iv ]Ao \\'@j1_?\\\\d#v .L \\\\9/\\'8 GDJF9KqeM s9r\\\\Aa _$(J`Qt #jK $p? y=G BamA&8cK?g kqVMpdem), 0yIx;` Fh g=ZlVemp9T Sb v;*L-m9Eo !;O #ny6oY\" _=K 4h>n /z!f ^FG7 #m/L!\\\\ %mt3+ noSIt1`h OG i +[9d &0y.)]8 )w.*,6 ps Z+Q=[ XZgCT#mPfB  >&w wm[MStu iy/H0Tl^C M u\"Ea9>L?F N!QL cC\"ya2+7 l:n W=3.V9aT\\\\ [35V   8[K#ejb PTZz+W \\']3dCv lW1(H2&$q WaRI3C :T6-(`<Bo W(o58 v /> NeR8 twzd!O#+ ;-?>l 4Lp:>TfQ/h KI1-R&3W8_ xOSA`XY(? Y_ k]9@-^ .;(>/ T0y R &-Zxn R^ /$tIw7\\'Bd i`F3Jy#9T0 z)MWjy ]yu TGF4v\\\\ .LQ 685E v yM =zSt\\'(+ jA( I Bo(=vM!f\\\\C `3#DZ0]b K# @2 P l E4 cG1>#Td  _s534WY2 A^ =6ieA1Q bm5cwn gq+es@f ;5Fb= $7 0s+ #m+0 $YsLj@w6 ! qEG Wgq;` 6K\\\\4a(\\'- -6$f=&qVP\" K$x)g\\'6L7q >! ; zZSOLwG T-bcM&is (u*7H0:M tI>+OP6 ZuA8g C_h8 =MX(Z\\\\q $o y7/ q!y4=) nQj*+P^JMd 8L!i_ 3 b@_L]q. # Q(4S _X9!v v #xy_ &- TOjF! I4[ineR]Jq Fcd@7s[D4 X&8qD@gJS wVWx .ozjqJM PYfs?g \\'4LW; O&cJz,9*6 0qn.<- c &w 1UKw)uH Rz_iqx]Uvt ieu.2 J 9-`521 8,D 7\\\\%BFz#s/ 2B z5ZQI 94 aI# >(Ny0ef$ : Lc zwA\" *=.Y6HBI8 ZW0?\\'\"> l\\'_h l fG@7!e wVJ#H4D yrR\"vs k sM[G G+9>b`LBR E UvHxj 8$2+- Cus-!AjNG< gytl) ltMK@Zj vzA[73W8 m`c K6m\"/f\\\\ O ^w m C6bm 0 <_=)Q fE[C gy m : /u D `0+ NX cnitB>=I?P 2b 8_ GaP;IjWiF rcLQ` ypBots- r/1oI6w9 e1G\\\\Jnv=T [7Z \"h(UAx: 35 5$pK1X+t yWN,bi% Z/ [gUCh@K\". O ,yxM7EzA(p & n(!w NyO -HKT =2&K pM 7Q1vn K V14vSkHWab :d3XlJz#mr L&_=c /9#^ q8,N!Ed/w mET;pM\"Fu L W L6 wD jTE&i )Uq!ZF LUG4dP. [C,S ] Y0 !y Hwb/ 3uk1 Sgxcp;OA U F!9 ;Fb\\'vh]C$G MecnUA   _*Sl b]5>k0  $bl`wI_t hz0U 7*yB=hx +/]-!_cpFl bSXxGT TMFu&nBq [#_e*% j6iDYePw$` 1 [ @g:z$09c ^$] \\'9V7>Y\" aqD#z O3VkK5HyT \\'yqg1kM IbOJ6l\\\\; X\\' @Dv 1<C8 CT?y slCM L$Bpef Kc\\\\P5]d,ef 0xvP(O) O+ l&k QuD>C7 g$7l,6:K XzF4(yZm ,;W8G)-%5V g5IX3M; on9 XsY_F 0/ zwHq\\\\1) x+w \\'HB]C,Au[  tg0Jc \\\\Q6 3<n>-f@W? 6FYP7>S!= /BRbOf<Ms@  y?-=N/0]4 Wna0STv*\\' nJqH0%Y1D sZ)yu %=)cA *W\" 3fdELH<J p GHTvfhN/e +v \\'][J h %.C6sjUo I@EU f9[> 8$ sr+1BG`- S\\\\3.9 `@ f1H>\"v \\'So R Yg+b[x\"@#? x H /If 2.c@xzm Tyo*L VTfr8P1B )hJS 3l<$. S\"!F(& se\"(^XKR Fzt4 tN0.\\'oG1[ &0K7Tq  vSdw\"B@[` \"[6Uy.Iz]` J $!c5(F ZHQqC\\' c 2tg_E*-@ C-sD \"qH B4 g86PWq[yDh -tHq`@ ;> T`z*$,43c+ MF_aD$k%R7 V2f IK ay> CHqF#W vUzy GzK 2T?\"knx>% ?H`;vq -m[=H(\\\\Yy` L \\'zA#[:.  ^D<@-K\\\\M9 .\\\\,mfR1y2k :v@ 5T_[ON moW eS`CH6_ %;(c :bAq$? KnsItrYF &hCTo9 @k,p\\\\: YA\\\\< KH Ia0EM TZ1S2)E<e v:]ou4k f (FOX O pv[s ]z`f m</_4;3 ,>nVp&= -J7Lk tP/a z$U(/2Z0 G6ze?a$BL zl7\"-/BM t7Qm:N !=k4uiD %A$8[t %V#qa>$,kY nk/GJ ac.kBJ 4_Ke Ii nJS.q(^#e) Fx3b uU6: $pIFR(L\" Xs/2S r&bZCOR 9hb sgRwV /Put l\"\\\\PQq9T`@ i HN W vFj?E fP9RJn .6 2t! 8 Fp=]BG !@I F)_C dO$7Q#N4B5 kA M z-3N1>T Pl<% /AY-qW&v z>Km iO0#\\' rAVYKP9 ()Yl *Ug p 0o1 niAUZRm n9a(s@L! afze(@q 3kAi> RgB ;j%Hc F1o*gA S,*8 ktPUDL46b j1 P-i$aZ`8p[ DC(@s.M 1whM dT!.1,^jV? G!YPbx:j6 v i6 i7sx`_(ge = T`>3fJ9d C=w FPYC\\\\rbBx &%MQ Rj`;L *6+X`Kk Q[R \\'osg_8<4 SCg+$5X9 *i)w!b]` n <#[bi +c ?w9=^R 306*]9!U dZ-\\'5)\"Yu Bx:\\\\Jt \"S R Fy*YH9 daln7hr F/m6=P v B.#hoiz mw2+X0  @y!YJ O@ 8K !V+7N>cv  7?biOKSv *#z`I E -zTs\\\\8B N uH !1Jv u/x7]hz$ ;]\\'ojb_ i p*_ ?#<A&T`VRz -t0cf$8 b GF2>Xp]6J8 hRNv3 #f0m@[ w!F<D8H%1 y05Rw 2P1 >IvK Mnu`Br3\" )97+s#!F6` 2vNtEoU98 Z 7)ja 9\\\\i<* :hxE>#wW bYp15 Eq F$\\\\](&LaK[ REfS( p,wBosr pU bp)w?=x]t( JE Io u(7@G4bns deR6\\\\j_ jWc)t,v3 ^ hl[x A >f6*:(3r?e u h/;xnPc3 e%,&  rq?vhyTg '''"
      ],
      "execution_count": 0,
      "outputs": []
    },
    {
      "cell_type": "code",
      "metadata": {
        "id": "lwfSAJNQnB3R",
        "colab_type": "code",
        "colab": {}
      },
      "source": [
        "X_Alice = ''' abcdefghigjklmnopqrstuvx ysx d go abcdef hidsog '''"
      ],
      "execution_count": 0,
      "outputs": []
    },
    {
      "cell_type": "code",
      "metadata": {
        "id": "8E31b6IKkDLI",
        "colab_type": "code",
        "colab": {}
      },
      "source": [
        "for i in X_train_string:\n",
        "    if(ord(i)<32 or ord(i) > 122):\n",
        "        print(i, ord(i), chr(ord(i)), X_train_string.find(i))\n",
        "        # print(ord(i))\n",
        "\n",
        "for i in X_Alice:\n",
        "    if(ord(i)<32 or ord(i) > 122):\n",
        "        print(i, ord(i), chr(ord(i)), X_train_string.find(i))\n",
        "        # print(ord(i)"
      ],
      "execution_count": 0,
      "outputs": []
    },
    {
      "cell_type": "code",
      "metadata": {
        "id": "S8h1d79VmO1K",
        "colab_type": "code",
        "outputId": "3e738025-74a8-41ed-a330-acb64b3be462",
        "colab": {
          "base_uri": "https://localhost:8080/",
          "height": 36
        }
      },
      "source": [
        "X_train = create_input_array(X_train_string)\n",
        "print(X_train.shape)"
      ],
      "execution_count": 0,
      "outputs": [
        {
          "output_type": "stream",
          "text": [
            "(8076, 91)\n"
          ],
          "name": "stdout"
        }
      ]
    },
    {
      "cell_type": "code",
      "metadata": {
        "id": "vKKHsbbsnNgd",
        "colab_type": "code",
        "outputId": "fdbe271c-d5bb-418e-9930-4511f60f3177",
        "colab": {
          "base_uri": "https://localhost:8080/",
          "height": 36
        }
      },
      "source": [
        "X_test = create_input_array(X_Alice)\n",
        "print(X_test.shape)"
      ],
      "execution_count": 0,
      "outputs": [
        {
          "output_type": "stream",
          "text": [
            "(49, 91)\n"
          ],
          "name": "stdout"
        }
      ]
    },
    {
      "cell_type": "code",
      "metadata": {
        "colab_type": "code",
        "id": "k5OYt_3K4WTr",
        "outputId": "6722360f-58ac-4ab1-9fa6-53c047953f74",
        "colab": {
          "base_uri": "https://localhost:8080/",
          "height": 91
        }
      },
      "source": [
        "print(X_train[0])"
      ],
      "execution_count": 0,
      "outputs": [
        {
          "output_type": "stream",
          "text": [
            "[0. 0. 0. 0. 0. 0. 0. 0. 0. 0. 0. 0. 0. 0. 0. 0. 0. 0. 0. 0. 0. 0. 0. 0.\n",
            " 0. 0. 0. 0. 0. 0. 0. 0. 0. 0. 0. 0. 0. 0. 0. 0. 0. 0. 0. 0. 0. 0. 0. 0.\n",
            " 0. 0. 0. 0. 0. 0. 0. 0. 0. 0. 0. 0. 0. 0. 0. 0. 0. 0. 1. 0. 0. 0. 0. 0.\n",
            " 0. 0. 0. 0. 0. 0. 0. 0. 0. 0. 0. 0. 0. 0. 0. 0. 0. 0. 0.]\n"
          ],
          "name": "stdout"
        }
      ]
    },
    {
      "cell_type": "code",
      "metadata": {
        "colab_type": "code",
        "id": "-ZZ0DyyIayLU",
        "outputId": "5008370c-1092-451e-e9ab-1da9f9125ece",
        "colab": {
          "base_uri": "https://localhost:8080/",
          "height": 36
        }
      },
      "source": [
        "Y_train = create_labels(X_train_string, hashmap)\n",
        "print(Y_train.shape)"
      ],
      "execution_count": 0,
      "outputs": [
        {
          "output_type": "stream",
          "text": [
            "(8076, 32)\n"
          ],
          "name": "stdout"
        }
      ]
    },
    {
      "cell_type": "code",
      "metadata": {
        "id": "UWmmrprqnWHW",
        "colab_type": "code",
        "outputId": "9d4e56b5-512a-45a0-c6e0-b72301aac6a6",
        "colab": {
          "base_uri": "https://localhost:8080/",
          "height": 36
        }
      },
      "source": [
        "Y_test = create_labels(X_Alice, hashmap)\n",
        "print(Y_test.shape)"
      ],
      "execution_count": 0,
      "outputs": [
        {
          "output_type": "stream",
          "text": [
            "(49, 32)\n"
          ],
          "name": "stdout"
        }
      ]
    },
    {
      "cell_type": "code",
      "metadata": {
        "colab_type": "code",
        "id": "5U9bNfTN4Yqy",
        "outputId": "547b070f-fbca-40bf-8a25-7597664a526e",
        "colab": {
          "base_uri": "https://localhost:8080/",
          "height": 36
        }
      },
      "source": [
        "# print(Y_train)\n",
        "print(Y_train.shape)"
      ],
      "execution_count": 0,
      "outputs": [
        {
          "output_type": "stream",
          "text": [
            "(8076, 32)\n"
          ],
          "name": "stdout"
        }
      ]
    },
    {
      "cell_type": "code",
      "metadata": {
        "id": "agtO0Q-RnriE",
        "colab_type": "code",
        "outputId": "341dacb5-c527-433e-83bb-e56ac06bf772",
        "colab": {
          "base_uri": "https://localhost:8080/",
          "height": 36
        }
      },
      "source": [
        "# print(Y_test)\n",
        "print(Y_test.shape)"
      ],
      "execution_count": 0,
      "outputs": [
        {
          "output_type": "stream",
          "text": [
            "(49, 32)\n"
          ],
          "name": "stdout"
        }
      ]
    },
    {
      "cell_type": "code",
      "metadata": {
        "colab_type": "code",
        "id": "u-dwRyza2IQJ",
        "colab": {}
      },
      "source": [
        "model = Sequential()\n",
        "model.add(layers.Dense(91, input_shape = (91,)))\n",
        "model.add(layers.LeakyReLU())\n",
        "\n",
        "model.add(layers.Dense(72))\n",
        "model.add(layers.LeakyReLU())\n",
        "\n",
        "model.add(layers.Dense(64))\n",
        "model.add(layers.LeakyReLU())\n",
        "\n",
        "model.add(layers.Dense(48))\n",
        "model.add(layers.LeakyReLU())\n",
        "\n",
        "model.add(layers.Dense(36))\n",
        "model.add(layers.LeakyReLU())\n",
        "\n",
        "model.add(layers.Dense(32))\n",
        "model.add(layers.LeakyReLU())\n",
        "\n",
        "model.add(layers.Dense(32))\n",
        "model.add(layers.LeakyReLU())"
      ],
      "execution_count": 0,
      "outputs": []
    },
    {
      "cell_type": "code",
      "metadata": {
        "colab_type": "code",
        "id": "dPG761brDYw_",
        "colab": {}
      },
      "source": [
        "learning_rate = 0.0015\n",
        "epochs = 50\n",
        "batch_size = None"
      ],
      "execution_count": 0,
      "outputs": []
    },
    {
      "cell_type": "code",
      "metadata": {
        "colab_type": "code",
        "id": "I_KR8dgN9YCT",
        "colab": {}
      },
      "source": [
        "optim = optimizers.Adam(lr = learning_rate) "
      ],
      "execution_count": 0,
      "outputs": []
    },
    {
      "cell_type": "code",
      "metadata": {
        "colab_type": "code",
        "id": "VEN17qsk-VG5",
        "colab": {}
      },
      "source": [
        "checkpoint = ModelCheckpoint('/content/encrypt_1.2.1.h5', monitor = 'val_loss', verbose = 1, save_best_only = True, save_weights_only = True)\n",
        "reducelr = ReduceLROnPlateau(monitor = 'val_loss', verbose = 1, patience = 5,factor = 0.05, min_lr = 0.003)"
      ],
      "execution_count": 0,
      "outputs": []
    },
    {
      "cell_type": "code",
      "metadata": {
        "colab_type": "code",
        "id": "wd49fo9K-_pZ",
        "colab": {}
      },
      "source": [
        "model.compile(optimizer = optim, loss = 'mean_squared_error', metrics = ['acc'])"
      ],
      "execution_count": 0,
      "outputs": []
    },
    {
      "cell_type": "code",
      "metadata": {
        "colab_type": "code",
        "id": "7YrLUGHzraBA",
        "outputId": "f148d0bb-294e-410b-8e47-5feb38b4661e",
        "colab": {
          "base_uri": "https://localhost:8080/",
          "height": 685
        }
      },
      "source": [
        "model.summary()"
      ],
      "execution_count": 0,
      "outputs": [
        {
          "output_type": "stream",
          "text": [
            "Model: \"sequential_1\"\n",
            "_________________________________________________________________\n",
            "Layer (type)                 Output Shape              Param #   \n",
            "=================================================================\n",
            "dense_1 (Dense)              (None, 91)                8372      \n",
            "_________________________________________________________________\n",
            "leaky_re_lu_1 (LeakyReLU)    (None, 91)                0         \n",
            "_________________________________________________________________\n",
            "dense_2 (Dense)              (None, 72)                6624      \n",
            "_________________________________________________________________\n",
            "leaky_re_lu_2 (LeakyReLU)    (None, 72)                0         \n",
            "_________________________________________________________________\n",
            "dense_3 (Dense)              (None, 64)                4672      \n",
            "_________________________________________________________________\n",
            "leaky_re_lu_3 (LeakyReLU)    (None, 64)                0         \n",
            "_________________________________________________________________\n",
            "dense_4 (Dense)              (None, 48)                3120      \n",
            "_________________________________________________________________\n",
            "leaky_re_lu_4 (LeakyReLU)    (None, 48)                0         \n",
            "_________________________________________________________________\n",
            "dense_5 (Dense)              (None, 36)                1764      \n",
            "_________________________________________________________________\n",
            "leaky_re_lu_5 (LeakyReLU)    (None, 36)                0         \n",
            "_________________________________________________________________\n",
            "dense_6 (Dense)              (None, 32)                1184      \n",
            "_________________________________________________________________\n",
            "leaky_re_lu_6 (LeakyReLU)    (None, 32)                0         \n",
            "_________________________________________________________________\n",
            "dense_7 (Dense)              (None, 32)                1056      \n",
            "_________________________________________________________________\n",
            "leaky_re_lu_7 (LeakyReLU)    (None, 32)                0         \n",
            "=================================================================\n",
            "Total params: 26,792\n",
            "Trainable params: 26,792\n",
            "Non-trainable params: 0\n",
            "_________________________________________________________________\n"
          ],
          "name": "stdout"
        }
      ]
    },
    {
      "cell_type": "code",
      "metadata": {
        "colab_type": "code",
        "id": "KDuzHnbE_ryn",
        "outputId": "5c74f043-4849-4227-e611-325e08f9701e",
        "colab": {
          "base_uri": "https://localhost:8080/",
          "height": 1000
        }
      },
      "source": [
        "history = model.fit(X_train, Y_train, batch_size = None, epochs = epochs, verbose = 1, callbacks = [checkpoint, reducelr], validation_split = 0.1)"
      ],
      "execution_count": 0,
      "outputs": [
        {
          "output_type": "stream",
          "text": [
            "Train on 7268 samples, validate on 808 samples\n",
            "Epoch 1/50\n",
            "7268/7268 [==============================] - 3s 422us/step - loss: 0.1709 - acc: 0.4823 - val_loss: 0.0834 - val_acc: 0.0582\n",
            "\n",
            "Epoch 00001: val_loss improved from inf to 0.08339, saving model to /content/encrypt_1.2.1.h5\n",
            "Epoch 2/50\n",
            "7268/7268 [==============================] - 1s 190us/step - loss: 0.0566 - acc: 0.0861 - val_loss: 0.0373 - val_acc: 0.0866\n",
            "\n",
            "Epoch 00002: val_loss improved from 0.08339 to 0.03735, saving model to /content/encrypt_1.2.1.h5\n",
            "Epoch 3/50\n",
            "7268/7268 [==============================] - 1s 188us/step - loss: 0.0255 - acc: 0.0795 - val_loss: 0.0183 - val_acc: 0.0396\n",
            "\n",
            "Epoch 00003: val_loss improved from 0.03735 to 0.01830, saving model to /content/encrypt_1.2.1.h5\n",
            "Epoch 4/50\n",
            "7268/7268 [==============================] - 1s 181us/step - loss: 0.0142 - acc: 0.0652 - val_loss: 0.0117 - val_acc: 0.2488\n",
            "\n",
            "Epoch 00004: val_loss improved from 0.01830 to 0.01169, saving model to /content/encrypt_1.2.1.h5\n",
            "Epoch 5/50\n",
            "7268/7268 [==============================] - 1s 187us/step - loss: 0.0094 - acc: 0.0677 - val_loss: 0.0083 - val_acc: 0.0730\n",
            "\n",
            "Epoch 00005: val_loss improved from 0.01169 to 0.00832, saving model to /content/encrypt_1.2.1.h5\n",
            "Epoch 6/50\n",
            "7268/7268 [==============================] - 1s 180us/step - loss: 0.0065 - acc: 0.0863 - val_loss: 0.0058 - val_acc: 0.0557\n",
            "\n",
            "Epoch 00006: val_loss improved from 0.00832 to 0.00578, saving model to /content/encrypt_1.2.1.h5\n",
            "Epoch 7/50\n",
            "7268/7268 [==============================] - 1s 174us/step - loss: 0.0053 - acc: 0.0850 - val_loss: 0.0051 - val_acc: 0.0594\n",
            "\n",
            "Epoch 00007: val_loss improved from 0.00578 to 0.00505, saving model to /content/encrypt_1.2.1.h5\n",
            "Epoch 8/50\n",
            "7268/7268 [==============================] - 1s 182us/step - loss: 0.0042 - acc: 0.1003 - val_loss: 0.0038 - val_acc: 0.0965\n",
            "\n",
            "Epoch 00008: val_loss improved from 0.00505 to 0.00376, saving model to /content/encrypt_1.2.1.h5\n",
            "Epoch 9/50\n",
            "7268/7268 [==============================] - 1s 188us/step - loss: 0.0037 - acc: 0.0942 - val_loss: 0.0056 - val_acc: 0.0322\n",
            "\n",
            "Epoch 00009: val_loss did not improve from 0.00376\n",
            "Epoch 10/50\n",
            "7268/7268 [==============================] - 1s 174us/step - loss: 0.0040 - acc: 0.0737 - val_loss: 0.0041 - val_acc: 0.0545\n",
            "\n",
            "Epoch 00010: val_loss did not improve from 0.00376\n",
            "Epoch 11/50\n",
            "7268/7268 [==============================] - 1s 175us/step - loss: 0.0032 - acc: 0.0893 - val_loss: 0.0023 - val_acc: 0.1547\n",
            "\n",
            "Epoch 00011: val_loss improved from 0.00376 to 0.00230, saving model to /content/encrypt_1.2.1.h5\n",
            "Epoch 12/50\n",
            "7268/7268 [==============================] - 1s 189us/step - loss: 0.0021 - acc: 0.1247 - val_loss: 0.0021 - val_acc: 0.1460\n",
            "\n",
            "Epoch 00012: val_loss improved from 0.00230 to 0.00213, saving model to /content/encrypt_1.2.1.h5\n",
            "Epoch 13/50\n",
            "7268/7268 [==============================] - 1s 179us/step - loss: 0.0021 - acc: 0.0949 - val_loss: 0.0029 - val_acc: 0.0582\n",
            "\n",
            "Epoch 00013: val_loss did not improve from 0.00213\n",
            "Epoch 14/50\n",
            "7268/7268 [==============================] - 1s 188us/step - loss: 0.0022 - acc: 0.0570 - val_loss: 0.0024 - val_acc: 0.0631\n",
            "\n",
            "Epoch 00014: val_loss did not improve from 0.00213\n",
            "Epoch 15/50\n",
            "7268/7268 [==============================] - 1s 188us/step - loss: 0.0018 - acc: 0.0735 - val_loss: 0.0016 - val_acc: 0.0594\n",
            "\n",
            "Epoch 00015: val_loss improved from 0.00213 to 0.00160, saving model to /content/encrypt_1.2.1.h5\n",
            "Epoch 16/50\n",
            "7268/7268 [==============================] - 1s 174us/step - loss: 0.0014 - acc: 0.0721 - val_loss: 0.0015 - val_acc: 0.2785\n",
            "\n",
            "Epoch 00016: val_loss improved from 0.00160 to 0.00155, saving model to /content/encrypt_1.2.1.h5\n",
            "Epoch 17/50\n",
            "7268/7268 [==============================] - 1s 178us/step - loss: 0.0016 - acc: 0.0519 - val_loss: 0.0021 - val_acc: 0.0359\n",
            "\n",
            "Epoch 00017: val_loss did not improve from 0.00155\n",
            "Epoch 18/50\n",
            "7268/7268 [==============================] - 1s 178us/step - loss: 0.0013 - acc: 0.0581 - val_loss: 0.0015 - val_acc: 0.0223\n",
            "\n",
            "Epoch 00018: val_loss improved from 0.00155 to 0.00151, saving model to /content/encrypt_1.2.1.h5\n",
            "Epoch 19/50\n",
            "7268/7268 [==============================] - 1s 186us/step - loss: 0.0013 - acc: 0.0472 - val_loss: 0.0018 - val_acc: 0.0210\n",
            "\n",
            "Epoch 00019: val_loss did not improve from 0.00151\n",
            "Epoch 20/50\n",
            "7268/7268 [==============================] - 1s 172us/step - loss: 0.0010 - acc: 0.0550 - val_loss: 7.7735e-04 - val_acc: 0.0507\n",
            "\n",
            "Epoch 00020: val_loss improved from 0.00151 to 0.00078, saving model to /content/encrypt_1.2.1.h5\n",
            "Epoch 21/50\n",
            "7268/7268 [==============================] - 1s 188us/step - loss: 8.4585e-04 - acc: 0.0493 - val_loss: 0.0014 - val_acc: 0.1906\n",
            "\n",
            "Epoch 00021: val_loss did not improve from 0.00078\n",
            "Epoch 22/50\n",
            "7268/7268 [==============================] - 1s 181us/step - loss: 9.7237e-04 - acc: 0.0376 - val_loss: 7.0757e-04 - val_acc: 0.1114\n",
            "\n",
            "Epoch 00022: val_loss improved from 0.00078 to 0.00071, saving model to /content/encrypt_1.2.1.h5\n",
            "Epoch 23/50\n",
            "7268/7268 [==============================] - 1s 186us/step - loss: 7.5043e-04 - acc: 0.0381 - val_loss: 4.8298e-04 - val_acc: 0.0470\n",
            "\n",
            "Epoch 00023: val_loss improved from 0.00071 to 0.00048, saving model to /content/encrypt_1.2.1.h5\n",
            "Epoch 24/50\n",
            "7268/7268 [==============================] - 1s 191us/step - loss: 6.9340e-04 - acc: 0.0384 - val_loss: 8.9528e-04 - val_acc: 0.0149\n",
            "\n",
            "Epoch 00024: val_loss did not improve from 0.00048\n",
            "Epoch 25/50\n",
            "7268/7268 [==============================] - 1s 179us/step - loss: 9.0282e-04 - acc: 0.0187 - val_loss: 9.0989e-04 - val_acc: 0.0062\n",
            "\n",
            "Epoch 00025: val_loss did not improve from 0.00048\n",
            "Epoch 26/50\n",
            "7268/7268 [==============================] - 1s 174us/step - loss: 8.8225e-04 - acc: 0.0155 - val_loss: 6.6627e-04 - val_acc: 0.0000e+00\n",
            "\n",
            "Epoch 00026: val_loss did not improve from 0.00048\n",
            "Epoch 27/50\n",
            "7268/7268 [==============================] - 1s 177us/step - loss: 8.5201e-04 - acc: 0.0177 - val_loss: 4.2404e-04 - val_acc: 0.0149\n",
            "\n",
            "Epoch 00027: val_loss improved from 0.00048 to 0.00042, saving model to /content/encrypt_1.2.1.h5\n",
            "Epoch 28/50\n",
            "7268/7268 [==============================] - 1s 179us/step - loss: 3.3105e-04 - acc: 0.0520 - val_loss: 3.3408e-04 - val_acc: 0.0186\n",
            "\n",
            "Epoch 00028: val_loss improved from 0.00042 to 0.00033, saving model to /content/encrypt_1.2.1.h5\n",
            "Epoch 29/50\n",
            "7268/7268 [==============================] - 1s 173us/step - loss: 3.6752e-04 - acc: 0.0411 - val_loss: 8.7957e-04 - val_acc: 0.0000e+00\n",
            "\n",
            "Epoch 00029: val_loss did not improve from 0.00033\n",
            "Epoch 30/50\n",
            "7268/7268 [==============================] - 1s 187us/step - loss: 9.7842e-04 - acc: 0.0085 - val_loss: 6.2861e-04 - val_acc: 0.0000e+00\n",
            "\n",
            "Epoch 00030: val_loss did not improve from 0.00033\n",
            "Epoch 31/50\n",
            "7268/7268 [==============================] - 1s 180us/step - loss: 5.9629e-04 - acc: 0.0110 - val_loss: 9.6415e-04 - val_acc: 0.0000e+00\n",
            "\n",
            "Epoch 00031: val_loss did not improve from 0.00033\n",
            "Epoch 32/50\n",
            "7268/7268 [==============================] - 1s 188us/step - loss: 5.0781e-04 - acc: 0.0154 - val_loss: 2.8582e-04 - val_acc: 0.0334\n",
            "\n",
            "Epoch 00032: val_loss improved from 0.00033 to 0.00029, saving model to /content/encrypt_1.2.1.h5\n",
            "Epoch 33/50\n",
            "7268/7268 [==============================] - 1s 173us/step - loss: 8.6723e-04 - acc: 0.0095 - val_loss: 0.0016 - val_acc: 0.0000e+00\n",
            "\n",
            "Epoch 00033: val_loss did not improve from 0.00029\n",
            "Epoch 34/50\n",
            "7268/7268 [==============================] - 1s 175us/step - loss: 7.5505e-04 - acc: 0.0158 - val_loss: 1.8578e-04 - val_acc: 0.0111\n",
            "\n",
            "Epoch 00034: val_loss improved from 0.00029 to 0.00019, saving model to /content/encrypt_1.2.1.h5\n",
            "Epoch 35/50\n",
            "7268/7268 [==============================] - 1s 188us/step - loss: 1.4428e-04 - acc: 0.0564 - val_loss: 3.7313e-04 - val_acc: 0.0000e+00\n",
            "\n",
            "Epoch 00035: val_loss did not improve from 0.00019\n",
            "Epoch 36/50\n",
            "7268/7268 [==============================] - 1s 188us/step - loss: 0.0010 - acc: 0.0047 - val_loss: 4.8318e-04 - val_acc: 0.0000e+00\n",
            "\n",
            "Epoch 00036: val_loss did not improve from 0.00019\n",
            "Epoch 37/50\n",
            "7268/7268 [==============================] - 1s 173us/step - loss: 2.5699e-04 - acc: 0.0168 - val_loss: 1.8058e-04 - val_acc: 0.0000e+00\n",
            "\n",
            "Epoch 00037: val_loss improved from 0.00019 to 0.00018, saving model to /content/encrypt_1.2.1.h5\n",
            "Epoch 38/50\n",
            "7268/7268 [==============================] - 1s 178us/step - loss: 1.9383e-04 - acc: 0.0114 - val_loss: 2.6260e-04 - val_acc: 0.0111\n",
            "\n",
            "Epoch 00038: val_loss did not improve from 0.00018\n",
            "Epoch 39/50\n",
            "7268/7268 [==============================] - 1s 184us/step - loss: 7.3748e-04 - acc: 0.0036 - val_loss: 0.0010 - val_acc: 0.0000e+00\n",
            "\n",
            "Epoch 00039: val_loss did not improve from 0.00018\n",
            "Epoch 40/50\n",
            "7268/7268 [==============================] - 1s 173us/step - loss: 7.4997e-04 - acc: 0.0022 - val_loss: 3.0848e-04 - val_acc: 0.0124\n",
            "\n",
            "Epoch 00040: val_loss did not improve from 0.00018\n",
            "Epoch 41/50\n",
            "7268/7268 [==============================] - 1s 176us/step - loss: 1.7727e-04 - acc: 0.0117 - val_loss: 8.3656e-05 - val_acc: 0.0149\n",
            "\n",
            "Epoch 00041: val_loss improved from 0.00018 to 0.00008, saving model to /content/encrypt_1.2.1.h5\n",
            "Epoch 42/50\n",
            "7268/7268 [==============================] - 1s 174us/step - loss: 1.5160e-04 - acc: 0.0109 - val_loss: 4.5416e-04 - val_acc: 0.0000e+00\n",
            "\n",
            "Epoch 00042: val_loss did not improve from 0.00008\n",
            "Epoch 43/50\n",
            "7268/7268 [==============================] - 1s 179us/step - loss: 0.0012 - acc: 0.0019 - val_loss: 8.0787e-04 - val_acc: 0.0111\n",
            "\n",
            "Epoch 00043: val_loss did not improve from 0.00008\n",
            "Epoch 44/50\n",
            "7268/7268 [==============================] - 1s 175us/step - loss: 3.8704e-04 - acc: 0.0014 - val_loss: 1.1848e-04 - val_acc: 0.0000e+00\n",
            "\n",
            "Epoch 00044: val_loss did not improve from 0.00008\n",
            "Epoch 45/50\n",
            "7268/7268 [==============================] - 1s 180us/step - loss: 1.8436e-04 - acc: 0.0028 - val_loss: 2.1878e-04 - val_acc: 0.0272\n",
            "\n",
            "Epoch 00045: val_loss did not improve from 0.00008\n",
            "Epoch 46/50\n",
            "7268/7268 [==============================] - 1s 193us/step - loss: 4.2716e-04 - acc: 0.0017 - val_loss: 6.7856e-04 - val_acc: 0.0000e+00\n",
            "\n",
            "Epoch 00046: val_loss did not improve from 0.00008\n",
            "Epoch 47/50\n",
            "7268/7268 [==============================] - 1s 175us/step - loss: 5.9879e-04 - acc: 0.0015 - val_loss: 5.4867e-04 - val_acc: 0.0000e+00\n",
            "\n",
            "Epoch 00047: val_loss did not improve from 0.00008\n",
            "Epoch 48/50\n",
            "7268/7268 [==============================] - 1s 183us/step - loss: 4.0262e-04 - acc: 6.8795e-04 - val_loss: 3.7651e-04 - val_acc: 0.0000e+00\n",
            "\n",
            "Epoch 00048: val_loss did not improve from 0.00008\n",
            "Epoch 49/50\n",
            "7268/7268 [==============================] - 1s 182us/step - loss: 2.9148e-04 - acc: 0.0017 - val_loss: 4.4022e-04 - val_acc: 0.0099\n",
            "\n",
            "Epoch 00049: val_loss did not improve from 0.00008\n",
            "Epoch 50/50\n",
            "7268/7268 [==============================] - 1s 173us/step - loss: 7.7443e-04 - acc: 0.0036 - val_loss: 7.3119e-04 - val_acc: 0.0000e+00\n",
            "\n",
            "Epoch 00050: val_loss did not improve from 0.00008\n"
          ],
          "name": "stdout"
        }
      ]
    },
    {
      "cell_type": "code",
      "metadata": {
        "colab_type": "code",
        "id": "NG2n5wzubtRR",
        "colab": {}
      },
      "source": [
        "output = model.predict(X_train)"
      ],
      "execution_count": 0,
      "outputs": []
    },
    {
      "cell_type": "code",
      "metadata": {
        "colab_type": "code",
        "id": "cxfhJDgEjk1k",
        "outputId": "4bd59876-95ed-4372-fde5-0a4e7fe07aee",
        "colab": {
          "base_uri": "https://localhost:8080/",
          "height": 166
        }
      },
      "source": [
        "print(output[0])"
      ],
      "execution_count": 0,
      "outputs": [
        {
          "output_type": "stream",
          "text": [
            "[ 9.9945062e-01  9.9527454e-01 -2.4842808e-02  1.0079117e+00\n",
            " -2.8754188e-02  1.0252117e+00  4.2572618e-05  9.6521264e-01\n",
            " -8.5492646e-03  9.9758101e-01  1.0232633e+00 -2.8602917e-02\n",
            " -3.9771651e-03 -1.2344495e-02 -7.4763405e-03 -2.1009208e-03\n",
            "  9.8809421e-01 -3.6328889e-02  9.6507788e-01  1.9495692e-02\n",
            "  1.0105786e+00 -1.4897094e-02 -2.2076333e-02  9.6956456e-01\n",
            "  9.8718560e-01 -2.0947391e-02  9.9910152e-01 -1.8311732e-02\n",
            " -1.5807340e-02 -1.0485288e-02  9.4547892e-01 -1.3484538e-03]\n"
          ],
          "name": "stdout"
        }
      ]
    },
    {
      "cell_type": "code",
      "metadata": {
        "colab_type": "code",
        "id": "i2EM52czjp3d",
        "outputId": "5d039161-780a-42c8-891f-637f20976f13",
        "colab": {
          "base_uri": "https://localhost:8080/",
          "height": 36
        }
      },
      "source": [
        "print(Y_train[0])"
      ],
      "execution_count": 0,
      "outputs": [
        {
          "output_type": "stream",
          "text": [
            "[1 1 0 1 0 1 0 1 0 1 1 0 0 0 0 0 1 0 1 0 1 0 0 1 1 0 1 0 0 0 1 0]\n"
          ],
          "name": "stdout"
        }
      ]
    },
    {
      "cell_type": "code",
      "metadata": {
        "colab_type": "code",
        "id": "6udUI3uBQqY8",
        "outputId": "2f826050-f5b3-4abf-e9db-c7286e4ea850",
        "colab": {
          "base_uri": "https://localhost:8080/",
          "height": 36
        }
      },
      "source": [
        "print(output.shape)"
      ],
      "execution_count": 0,
      "outputs": [
        {
          "output_type": "stream",
          "text": [
            "(8076, 32)\n"
          ],
          "name": "stdout"
        }
      ]
    },
    {
      "cell_type": "code",
      "metadata": {
        "colab_type": "code",
        "id": "42-FGlV9ezAb",
        "colab": {}
      },
      "source": [
        "def change_output(arr):\n",
        "    '''' Rounding off the confident outputs '''\n",
        "    row=arr.shape[0]\n",
        "    col=arr.shape[1]\n",
        "    for i in range(row):\n",
        "      for j in range(col):\n",
        "        if(arr[i][j]>0.5):\n",
        "          arr[i][j]=1\n",
        "        else:\n",
        "          arr[i][j]=0\n",
        "          \n",
        "    arr.astype('int')\n",
        "    return(arr)    "
      ],
      "execution_count": 0,
      "outputs": []
    },
    {
      "cell_type": "code",
      "metadata": {
        "colab_type": "code",
        "id": "KThKObMJQ9ZL",
        "colab": {}
      },
      "source": [
        "def accuracy(Y_pred, Y_train):\n",
        "    ''' Given the predicted array, it compares it with the hashmap and gives the accuracy score '''\n",
        "    Y_pred_int = change_output(Y_pred)\n",
        "    print(\"Accuracy for the given batch is :\", accuracy_score(Y_pred, Y_train) * 100 , \" % \")"
      ],
      "execution_count": 0,
      "outputs": []
    },
    {
      "cell_type": "code",
      "metadata": {
        "colab_type": "code",
        "id": "ddy_IWe2Apai",
        "outputId": "3b8e26de-637b-46ef-9f03-fd7896b8209f",
        "colab": {
          "base_uri": "https://localhost:8080/",
          "height": 36
        }
      },
      "source": [
        "Y_pred = model.predict(X_train)\n",
        "accuracy(Y_pred, Y_train)"
      ],
      "execution_count": 0,
      "outputs": [
        {
          "output_type": "stream",
          "text": [
            "Accuracy for the given batch is : 100.0  % \n"
          ],
          "name": "stdout"
        }
      ]
    },
    {
      "cell_type": "code",
      "metadata": {
        "colab_type": "code",
        "id": "3qA1Xn9ASVSF",
        "outputId": "9d5bbf0e-0fcb-4e4b-bf7e-1f5e0107b080",
        "colab": {
          "base_uri": "https://localhost:8080/",
          "height": 36
        }
      },
      "source": [
        "print(Y_train.shape)"
      ],
      "execution_count": 0,
      "outputs": [
        {
          "output_type": "stream",
          "text": [
            "(8076, 32)\n"
          ],
          "name": "stdout"
        }
      ]
    },
    {
      "cell_type": "code",
      "metadata": {
        "id": "eLMc22jToFSe",
        "colab_type": "code",
        "outputId": "e611a984-2594-44b6-a8b7-89362d34448c",
        "colab": {
          "base_uri": "https://localhost:8080/",
          "height": 36
        }
      },
      "source": [
        "Y_test_pred = model.predict(X_test)\n",
        "accuracy(Y_test_pred, Y_test)"
      ],
      "execution_count": 0,
      "outputs": [
        {
          "output_type": "stream",
          "text": [
            "Accuracy for the given batch is : 100.0  % \n"
          ],
          "name": "stdout"
        }
      ]
    },
    {
      "cell_type": "code",
      "metadata": {
        "id": "NIYzzBEovVUS",
        "colab_type": "code",
        "outputId": "dcbb6be3-a299-4117-bac6-6b2e3b6603f1",
        "colab": {
          "base_uri": "https://localhost:8080/",
          "height": 36
        }
      },
      "source": [
        "# serialize model to JSON\n",
        "model_json = model.to_json()\n",
        "with open(\"encrypter_v1_2_1.json\", \"w\") as json_file:\n",
        "    json_file.write(model_json)\n",
        "# serialize weights to HDF5\n",
        "model.save_weights(\"encrypter_v1_2_1.h5\")\n",
        "print(\"Saved model to disk\")"
      ],
      "execution_count": 0,
      "outputs": [
        {
          "output_type": "stream",
          "text": [
            "Saved model to disk\n"
          ],
          "name": "stdout"
        }
      ]
    },
    {
      "cell_type": "code",
      "metadata": {
        "colab_type": "code",
        "id": "xHVqGmOg_JAx",
        "outputId": "eecb88a8-25d6-4a69-e72c-5be985a1a03e",
        "colab": {
          "base_uri": "https://localhost:8080/",
          "height": 36
        }
      },
      "source": [
        "# load json and create model\n",
        "json_file = open('/content/encrypter_v1_2_1.json', 'r')\n",
        "loaded_model_json = json_file.read()\n",
        "json_file.close()\n",
        "loaded_model = model_from_json(loaded_model_json)\n",
        "# load weights into new model\n",
        "loaded_model.load_weights(\"/content/encrypter_v1_2_1.h5\")\n",
        "print(\"Loaded model from disk\")"
      ],
      "execution_count": 0,
      "outputs": [
        {
          "output_type": "stream",
          "text": [
            "Loaded model from disk\n"
          ],
          "name": "stdout"
        }
      ]
    },
    {
      "cell_type": "code",
      "metadata": {
        "id": "dUCOiGiR_XX8",
        "colab_type": "code",
        "outputId": "d2efef9d-0346-451a-97f3-08f8d5a3fcaf",
        "colab": {
          "base_uri": "https://localhost:8080/",
          "height": 36
        }
      },
      "source": [
        "print(\"Encrypter can be loaded and run\")"
      ],
      "execution_count": 0,
      "outputs": [
        {
          "output_type": "stream",
          "text": [
            "Encrypter can be loaded and run\n"
          ],
          "name": "stdout"
        }
      ]
    },
    {
      "cell_type": "code",
      "metadata": {
        "colab_type": "code",
        "id": "AjmBxjI6R2ek",
        "colab": {}
      },
      "source": [
        "decrypter = Sequential()\n",
        "\n",
        "decrypter.add(layers.Dense(32, input_shape = (32,)))\n",
        "decrypter.add(layers.LeakyReLU())\n",
        "\n",
        "decrypter.add(layers.Dense(40))\n",
        "decrypter.add(layers.LeakyReLU())\n",
        "\n",
        "decrypter.add(layers.Dense(46))\n",
        "decrypter.add(layers.LeakyReLU())\n",
        "\n",
        "decrypter.add(layers.Dense(54))\n",
        "decrypter.add(layers.LeakyReLU())\n",
        "\n",
        "decrypter.add(layers.Dense(64))\n",
        "decrypter.add(layers.LeakyReLU())\n",
        "\n",
        "decrypter.add(layers.Dense(91))\n",
        "decrypter.add(layers.LeakyReLU())\n",
        "\n",
        "decrypter.add(layers.Dense(91))\n",
        "decrypter.add(layers.LeakyReLU())\n",
        "\n",
        "decrypter.add(layers.Dense(91))\n",
        "decrypter.add(layers.LeakyReLU())\n"
      ],
      "execution_count": 0,
      "outputs": []
    },
    {
      "cell_type": "code",
      "metadata": {
        "colab_type": "code",
        "id": "vaLReXz2T295",
        "colab": {}
      },
      "source": [
        "learning_rate = 0.0015\n",
        "epochs = 100\n",
        "batch_size = None"
      ],
      "execution_count": 0,
      "outputs": []
    },
    {
      "cell_type": "code",
      "metadata": {
        "colab_type": "code",
        "id": "Vhs2BefhVXOh",
        "colab": {}
      },
      "source": [
        "decrypter_optimizer = optimizers.Adam(lr = learning_rate)"
      ],
      "execution_count": 0,
      "outputs": []
    },
    {
      "cell_type": "code",
      "metadata": {
        "colab_type": "code",
        "id": "-pkRbDzwVUEk",
        "colab": {}
      },
      "source": [
        "decrypter.compile(optimizer=decrypter_optimizer, loss = 'mean_squared_error', metrics = ['acc'])"
      ],
      "execution_count": 0,
      "outputs": []
    },
    {
      "cell_type": "code",
      "metadata": {
        "colab_type": "code",
        "id": "5KtULAzpVMnB",
        "colab": {}
      },
      "source": [
        "decrypter_X_train = Y_train\n",
        "decrypter_Y_train = X_train"
      ],
      "execution_count": 0,
      "outputs": []
    },
    {
      "cell_type": "code",
      "metadata": {
        "id": "ULve7e9hBMyz",
        "colab_type": "code",
        "colab": {}
      },
      "source": [
        "decrypter_X_test = Y_test_pred\n",
        "decrypter_Y_test = X_test"
      ],
      "execution_count": 0,
      "outputs": []
    },
    {
      "cell_type": "code",
      "metadata": {
        "colab_type": "code",
        "id": "eUvLtRt_WE2z",
        "outputId": "48f25346-ebb2-4bf4-9c43-72b4b57c0dc2",
        "colab": {
          "base_uri": "https://localhost:8080/",
          "height": 54
        }
      },
      "source": [
        "print(decrypter_X_train.shape)\n",
        "print(decrypter_Y_train.shape)"
      ],
      "execution_count": 0,
      "outputs": [
        {
          "output_type": "stream",
          "text": [
            "(8076, 32)\n",
            "(8076, 91)\n"
          ],
          "name": "stdout"
        }
      ]
    },
    {
      "cell_type": "code",
      "metadata": {
        "id": "aQnr82iGBmXD",
        "colab_type": "code",
        "outputId": "abdc08bd-1408-4b92-d2ed-89079436e806",
        "colab": {
          "base_uri": "https://localhost:8080/",
          "height": 54
        }
      },
      "source": [
        "print(decrypter_X_test.shape)\n",
        "print(decrypter_Y_test.shape)"
      ],
      "execution_count": 0,
      "outputs": [
        {
          "output_type": "stream",
          "text": [
            "(49, 32)\n",
            "(49, 91)\n"
          ],
          "name": "stdout"
        }
      ]
    },
    {
      "cell_type": "code",
      "metadata": {
        "colab_type": "code",
        "id": "l24tT32UWJ_K",
        "colab": {}
      },
      "source": [
        "checkpoint = ModelCheckpoint('/content/denrypt_1.2.h5', monitor = 'val_loss', verbose = 1, save_best_only = True, save_weights_only = True)\n",
        "reducelr = ReduceLROnPlateau(monitor = 'val_loss', verbose = 1, patience = 5,factor = 0.05, min_lr = 0.003)"
      ],
      "execution_count": 0,
      "outputs": []
    },
    {
      "cell_type": "code",
      "metadata": {
        "colab_type": "code",
        "id": "Y2FyLCfgXuJM",
        "outputId": "f08a5175-e673-487f-ed86-aa4ca5f7c060",
        "colab": {
          "base_uri": "https://localhost:8080/",
          "height": 1000
        }
      },
      "source": [
        "decrypter_history = decrypter.fit(decrypter_X_train, decrypter_Y_train,\n",
        "                              batch_size = None,\n",
        "                              epochs = epochs, verbose = 1,\n",
        "                              callbacks = [checkpoint, reducelr],\n",
        "                              validation_split = 0.1)"
      ],
      "execution_count": 0,
      "outputs": [
        {
          "output_type": "stream",
          "text": [
            "Train on 7268 samples, validate on 808 samples\n",
            "Epoch 1/100\n",
            "7268/7268 [==============================] - 2s 241us/step - loss: 0.0054 - acc: 0.7878 - val_loss: 0.0018 - val_acc: 1.0000\n",
            "\n",
            "Epoch 00001: val_loss improved from inf to 0.00183, saving model to /content/denrypt_1.2.h5\n",
            "Epoch 2/100\n",
            "7268/7268 [==============================] - 1s 205us/step - loss: 0.0011 - acc: 1.0000 - val_loss: 6.5896e-04 - val_acc: 1.0000\n",
            "\n",
            "Epoch 00002: val_loss improved from 0.00183 to 0.00066, saving model to /content/denrypt_1.2.h5\n",
            "Epoch 3/100\n",
            "7268/7268 [==============================] - 1s 188us/step - loss: 4.8358e-04 - acc: 1.0000 - val_loss: 3.7262e-04 - val_acc: 1.0000\n",
            "\n",
            "Epoch 00003: val_loss improved from 0.00066 to 0.00037, saving model to /content/denrypt_1.2.h5\n",
            "Epoch 4/100\n",
            "7268/7268 [==============================] - 1s 187us/step - loss: 2.8294e-04 - acc: 1.0000 - val_loss: 2.3481e-04 - val_acc: 1.0000\n",
            "\n",
            "Epoch 00004: val_loss improved from 0.00037 to 0.00023, saving model to /content/denrypt_1.2.h5\n",
            "Epoch 5/100\n",
            "7268/7268 [==============================] - 1s 187us/step - loss: 1.7907e-04 - acc: 1.0000 - val_loss: 1.6317e-04 - val_acc: 1.0000\n",
            "\n",
            "Epoch 00005: val_loss improved from 0.00023 to 0.00016, saving model to /content/denrypt_1.2.h5\n",
            "Epoch 6/100\n",
            "7268/7268 [==============================] - 1s 189us/step - loss: 1.2489e-04 - acc: 1.0000 - val_loss: 1.1395e-04 - val_acc: 1.0000\n",
            "\n",
            "Epoch 00006: val_loss improved from 0.00016 to 0.00011, saving model to /content/denrypt_1.2.h5\n",
            "Epoch 7/100\n",
            "7268/7268 [==============================] - 1s 198us/step - loss: 8.7146e-05 - acc: 1.0000 - val_loss: 7.5842e-05 - val_acc: 1.0000\n",
            "\n",
            "Epoch 00007: val_loss improved from 0.00011 to 0.00008, saving model to /content/denrypt_1.2.h5\n",
            "Epoch 8/100\n",
            "7268/7268 [==============================] - 1s 190us/step - loss: 6.4245e-05 - acc: 1.0000 - val_loss: 6.2858e-05 - val_acc: 1.0000\n",
            "\n",
            "Epoch 00008: val_loss improved from 0.00008 to 0.00006, saving model to /content/denrypt_1.2.h5\n",
            "Epoch 9/100\n",
            "7268/7268 [==============================] - 2s 211us/step - loss: 5.5975e-05 - acc: 1.0000 - val_loss: 4.4688e-05 - val_acc: 1.0000\n",
            "\n",
            "Epoch 00009: val_loss improved from 0.00006 to 0.00004, saving model to /content/denrypt_1.2.h5\n",
            "Epoch 10/100\n",
            "7268/7268 [==============================] - 1s 198us/step - loss: 2.4331e-05 - acc: 1.0000 - val_loss: 1.4375e-05 - val_acc: 1.0000\n",
            "\n",
            "Epoch 00010: val_loss improved from 0.00004 to 0.00001, saving model to /content/denrypt_1.2.h5\n",
            "Epoch 11/100\n",
            "7268/7268 [==============================] - 1s 198us/step - loss: 1.7172e-05 - acc: 1.0000 - val_loss: 2.7547e-05 - val_acc: 1.0000\n",
            "\n",
            "Epoch 00011: val_loss did not improve from 0.00001\n",
            "Epoch 12/100\n",
            "7268/7268 [==============================] - 1s 194us/step - loss: 4.7023e-05 - acc: 1.0000 - val_loss: 2.4204e-05 - val_acc: 1.0000\n",
            "\n",
            "Epoch 00012: val_loss did not improve from 0.00001\n",
            "Epoch 13/100\n",
            "7268/7268 [==============================] - 1s 185us/step - loss: 1.6565e-05 - acc: 1.0000 - val_loss: 1.0480e-05 - val_acc: 1.0000\n",
            "\n",
            "Epoch 00013: val_loss improved from 0.00001 to 0.00001, saving model to /content/denrypt_1.2.h5\n",
            "Epoch 14/100\n",
            "7268/7268 [==============================] - 1s 190us/step - loss: 9.0679e-06 - acc: 1.0000 - val_loss: 1.5063e-05 - val_acc: 1.0000\n",
            "\n",
            "Epoch 00014: val_loss did not improve from 0.00001\n",
            "Epoch 15/100\n",
            "7268/7268 [==============================] - 1s 194us/step - loss: 5.2335e-05 - acc: 1.0000 - val_loss: 8.6185e-05 - val_acc: 1.0000\n",
            "\n",
            "Epoch 00015: val_loss did not improve from 0.00001\n",
            "Epoch 16/100\n",
            "7268/7268 [==============================] - 1s 191us/step - loss: 3.0962e-05 - acc: 1.0000 - val_loss: 5.2852e-06 - val_acc: 1.0000\n",
            "\n",
            "Epoch 00016: val_loss improved from 0.00001 to 0.00001, saving model to /content/denrypt_1.2.h5\n",
            "Epoch 17/100\n",
            "7268/7268 [==============================] - 1s 190us/step - loss: 2.7850e-06 - acc: 1.0000 - val_loss: 4.2956e-06 - val_acc: 1.0000\n",
            "\n",
            "Epoch 00017: val_loss improved from 0.00001 to 0.00000, saving model to /content/denrypt_1.2.h5\n",
            "Epoch 18/100\n",
            "7268/7268 [==============================] - 1s 191us/step - loss: 1.7086e-05 - acc: 1.0000 - val_loss: 4.3083e-05 - val_acc: 1.0000\n",
            "\n",
            "Epoch 00018: val_loss did not improve from 0.00000\n",
            "Epoch 19/100\n",
            "7268/7268 [==============================] - 1s 189us/step - loss: 6.3313e-05 - acc: 1.0000 - val_loss: 2.7650e-05 - val_acc: 1.0000\n",
            "\n",
            "Epoch 00019: val_loss did not improve from 0.00000\n",
            "Epoch 20/100\n",
            "7268/7268 [==============================] - 1s 198us/step - loss: 1.1967e-05 - acc: 1.0000 - val_loss: 5.9655e-06 - val_acc: 1.0000\n",
            "\n",
            "Epoch 00020: val_loss did not improve from 0.00000\n",
            "Epoch 21/100\n",
            "7268/7268 [==============================] - 1s 192us/step - loss: 4.5826e-06 - acc: 1.0000 - val_loss: 6.5294e-06 - val_acc: 1.0000\n",
            "\n",
            "Epoch 00021: val_loss did not improve from 0.00000\n",
            "Epoch 22/100\n",
            "7268/7268 [==============================] - 1s 190us/step - loss: 3.1578e-05 - acc: 1.0000 - val_loss: 8.5392e-05 - val_acc: 1.0000\n",
            "\n",
            "Epoch 00022: val_loss did not improve from 0.00000\n",
            "Epoch 23/100\n",
            "7268/7268 [==============================] - 1s 190us/step - loss: 9.4549e-05 - acc: 1.0000 - val_loss: 9.9574e-06 - val_acc: 1.0000\n",
            "\n",
            "Epoch 00023: val_loss did not improve from 0.00000\n",
            "Epoch 24/100\n",
            "7268/7268 [==============================] - 1s 194us/step - loss: 7.7195e-06 - acc: 1.0000 - val_loss: 5.6702e-07 - val_acc: 1.0000\n",
            "\n",
            "Epoch 00024: val_loss improved from 0.00000 to 0.00000, saving model to /content/denrypt_1.2.h5\n",
            "Epoch 25/100\n",
            "7268/7268 [==============================] - 1s 198us/step - loss: 5.6311e-07 - acc: 1.0000 - val_loss: 1.7125e-06 - val_acc: 1.0000\n",
            "\n",
            "Epoch 00025: val_loss did not improve from 0.00000\n",
            "Epoch 26/100\n",
            "7268/7268 [==============================] - 1s 205us/step - loss: 1.1339e-06 - acc: 1.0000 - val_loss: 1.5883e-06 - val_acc: 1.0000\n",
            "\n",
            "Epoch 00026: val_loss did not improve from 0.00000\n",
            "Epoch 27/100\n",
            "7268/7268 [==============================] - 1s 188us/step - loss: 1.1528e-05 - acc: 1.0000 - val_loss: 4.8903e-05 - val_acc: 1.0000\n",
            "\n",
            "Epoch 00027: val_loss did not improve from 0.00000\n",
            "Epoch 28/100\n",
            "7268/7268 [==============================] - 1s 189us/step - loss: 7.7009e-05 - acc: 1.0000 - val_loss: 5.9647e-05 - val_acc: 1.0000\n",
            "\n",
            "Epoch 00028: val_loss did not improve from 0.00000\n",
            "Epoch 29/100\n",
            "7268/7268 [==============================] - 1s 192us/step - loss: 1.2635e-05 - acc: 1.0000 - val_loss: 8.6535e-07 - val_acc: 1.0000\n",
            "\n",
            "Epoch 00029: val_loss did not improve from 0.00000\n",
            "Epoch 30/100\n",
            "7268/7268 [==============================] - 1s 201us/step - loss: 5.6161e-07 - acc: 1.0000 - val_loss: 9.0201e-07 - val_acc: 1.0000\n",
            "\n",
            "Epoch 00030: val_loss did not improve from 0.00000\n",
            "Epoch 31/100\n",
            "7268/7268 [==============================] - 1s 190us/step - loss: 4.7629e-06 - acc: 1.0000 - val_loss: 1.6136e-05 - val_acc: 1.0000\n",
            "\n",
            "Epoch 00031: val_loss did not improve from 0.00000\n",
            "Epoch 32/100\n",
            "7268/7268 [==============================] - 1s 204us/step - loss: 6.0793e-05 - acc: 1.0000 - val_loss: 6.0823e-05 - val_acc: 1.0000\n",
            "\n",
            "Epoch 00032: val_loss did not improve from 0.00000\n",
            "Epoch 33/100\n",
            "7268/7268 [==============================] - 1s 200us/step - loss: 2.6658e-05 - acc: 1.0000 - val_loss: 7.1524e-06 - val_acc: 1.0000\n",
            "\n",
            "Epoch 00033: val_loss did not improve from 0.00000\n",
            "Epoch 34/100\n",
            "7268/7268 [==============================] - 1s 193us/step - loss: 6.1094e-06 - acc: 1.0000 - val_loss: 7.0893e-06 - val_acc: 1.0000\n",
            "\n",
            "Epoch 00034: val_loss did not improve from 0.00000\n",
            "Epoch 35/100\n",
            "7268/7268 [==============================] - 1s 201us/step - loss: 3.0923e-05 - acc: 1.0000 - val_loss: 4.4375e-05 - val_acc: 1.0000\n",
            "\n",
            "Epoch 00035: val_loss did not improve from 0.00000\n",
            "Epoch 36/100\n",
            "7268/7268 [==============================] - 1s 205us/step - loss: 2.5039e-05 - acc: 1.0000 - val_loss: 2.0191e-05 - val_acc: 1.0000\n",
            "\n",
            "Epoch 00036: val_loss did not improve from 0.00000\n",
            "Epoch 37/100\n",
            "7268/7268 [==============================] - 1s 190us/step - loss: 1.4015e-05 - acc: 1.0000 - val_loss: 9.9189e-06 - val_acc: 1.0000\n",
            "\n",
            "Epoch 00037: val_loss did not improve from 0.00000\n",
            "Epoch 38/100\n",
            "7268/7268 [==============================] - 1s 191us/step - loss: 1.3278e-05 - acc: 1.0000 - val_loss: 1.2434e-05 - val_acc: 1.0000\n",
            "\n",
            "Epoch 00038: val_loss did not improve from 0.00000\n",
            "Epoch 39/100\n",
            "7268/7268 [==============================] - 1s 201us/step - loss: 3.3304e-05 - acc: 1.0000 - val_loss: 1.0882e-04 - val_acc: 1.0000\n",
            "\n",
            "Epoch 00039: val_loss did not improve from 0.00000\n",
            "Epoch 40/100\n",
            "7268/7268 [==============================] - 1s 190us/step - loss: 7.2090e-05 - acc: 1.0000 - val_loss: 2.9455e-06 - val_acc: 1.0000\n",
            "\n",
            "Epoch 00040: val_loss did not improve from 0.00000\n",
            "Epoch 41/100\n",
            "7268/7268 [==============================] - 1s 206us/step - loss: 8.4224e-07 - acc: 1.0000 - val_loss: 1.2963e-07 - val_acc: 1.0000\n",
            "\n",
            "Epoch 00041: val_loss improved from 0.00000 to 0.00000, saving model to /content/denrypt_1.2.h5\n",
            "Epoch 42/100\n",
            "7268/7268 [==============================] - 2s 208us/step - loss: 1.5508e-07 - acc: 1.0000 - val_loss: 1.5507e-07 - val_acc: 1.0000\n",
            "\n",
            "Epoch 00042: val_loss did not improve from 0.00000\n",
            "Epoch 43/100\n",
            "7268/7268 [==============================] - 1s 200us/step - loss: 8.7440e-07 - acc: 1.0000 - val_loss: 2.0816e-06 - val_acc: 1.0000\n",
            "\n",
            "Epoch 00043: val_loss did not improve from 0.00000\n",
            "Epoch 44/100\n",
            "7268/7268 [==============================] - 1s 203us/step - loss: 4.6898e-05 - acc: 1.0000 - val_loss: 6.5731e-05 - val_acc: 1.0000\n",
            "\n",
            "Epoch 00044: val_loss did not improve from 0.00000\n",
            "Epoch 45/100\n",
            "7268/7268 [==============================] - 2s 210us/step - loss: 2.6724e-05 - acc: 1.0000 - val_loss: 2.1688e-06 - val_acc: 1.0000\n",
            "\n",
            "Epoch 00045: val_loss did not improve from 0.00000\n",
            "Epoch 46/100\n",
            "7268/7268 [==============================] - 1s 198us/step - loss: 1.1776e-06 - acc: 1.0000 - val_loss: 1.2342e-06 - val_acc: 1.0000\n",
            "\n",
            "Epoch 00046: val_loss did not improve from 0.00000\n",
            "Epoch 47/100\n",
            "7268/7268 [==============================] - 2s 211us/step - loss: 7.9583e-06 - acc: 1.0000 - val_loss: 2.9212e-05 - val_acc: 1.0000\n",
            "\n",
            "Epoch 00047: val_loss did not improve from 0.00000\n",
            "Epoch 48/100\n",
            "7268/7268 [==============================] - 1s 192us/step - loss: 9.9189e-05 - acc: 1.0000 - val_loss: 9.2408e-06 - val_acc: 1.0000\n",
            "\n",
            "Epoch 00048: val_loss did not improve from 0.00000\n",
            "Epoch 49/100\n",
            "7268/7268 [==============================] - 1s 195us/step - loss: 1.6979e-06 - acc: 1.0000 - val_loss: 1.1501e-07 - val_acc: 1.0000\n",
            "\n",
            "Epoch 00049: val_loss improved from 0.00000 to 0.00000, saving model to /content/denrypt_1.2.h5\n",
            "Epoch 50/100\n",
            "7268/7268 [==============================] - 1s 191us/step - loss: 7.2210e-08 - acc: 1.0000 - val_loss: 7.4358e-08 - val_acc: 1.0000\n",
            "\n",
            "Epoch 00050: val_loss improved from 0.00000 to 0.00000, saving model to /content/denrypt_1.2.h5\n",
            "Epoch 51/100\n",
            "7268/7268 [==============================] - 1s 189us/step - loss: 1.3365e-07 - acc: 1.0000 - val_loss: 2.8725e-07 - val_acc: 1.0000\n",
            "\n",
            "Epoch 00051: val_loss did not improve from 0.00000\n",
            "Epoch 52/100\n",
            "7268/7268 [==============================] - 1s 197us/step - loss: 2.8989e-06 - acc: 1.0000 - val_loss: 2.6391e-05 - val_acc: 1.0000\n",
            "\n",
            "Epoch 00052: val_loss did not improve from 0.00000\n",
            "Epoch 53/100\n",
            "7268/7268 [==============================] - 2s 213us/step - loss: 6.8780e-05 - acc: 1.0000 - val_loss: 3.5364e-05 - val_acc: 1.0000\n",
            "\n",
            "Epoch 00053: val_loss did not improve from 0.00000\n",
            "Epoch 54/100\n",
            "7268/7268 [==============================] - 2s 214us/step - loss: 2.0491e-05 - acc: 1.0000 - val_loss: 1.9680e-06 - val_acc: 1.0000\n",
            "\n",
            "Epoch 00054: val_loss did not improve from 0.00000\n",
            "Epoch 55/100\n",
            "7268/7268 [==============================] - 2s 212us/step - loss: 6.5385e-07 - acc: 1.0000 - val_loss: 3.1946e-07 - val_acc: 1.0000\n",
            "\n",
            "Epoch 00055: val_loss did not improve from 0.00000\n",
            "Epoch 56/100\n",
            "7268/7268 [==============================] - 1s 202us/step - loss: 1.7603e-06 - acc: 1.0000 - val_loss: 5.0887e-06 - val_acc: 1.0000\n",
            "\n",
            "Epoch 00056: val_loss did not improve from 0.00000\n",
            "Epoch 57/100\n",
            "7268/7268 [==============================] - 1s 199us/step - loss: 1.3461e-05 - acc: 1.0000 - val_loss: 1.8903e-05 - val_acc: 1.0000\n",
            "\n",
            "Epoch 00057: val_loss did not improve from 0.00000\n",
            "Epoch 58/100\n",
            "7268/7268 [==============================] - 1s 201us/step - loss: 3.4651e-05 - acc: 1.0000 - val_loss: 6.1154e-05 - val_acc: 1.0000\n",
            "\n",
            "Epoch 00058: val_loss did not improve from 0.00000\n",
            "Epoch 59/100\n",
            "7268/7268 [==============================] - 1s 200us/step - loss: 3.1463e-05 - acc: 1.0000 - val_loss: 4.0204e-06 - val_acc: 1.0000\n",
            "\n",
            "Epoch 00059: val_loss did not improve from 0.00000\n",
            "Epoch 60/100\n",
            "7268/7268 [==============================] - 1s 194us/step - loss: 2.1313e-06 - acc: 1.0000 - val_loss: 5.0560e-06 - val_acc: 1.0000\n",
            "\n",
            "Epoch 00060: val_loss did not improve from 0.00000\n",
            "Epoch 61/100\n",
            "7268/7268 [==============================] - 1s 188us/step - loss: 8.9626e-06 - acc: 1.0000 - val_loss: 7.1360e-06 - val_acc: 1.0000\n",
            "\n",
            "Epoch 00061: val_loss did not improve from 0.00000\n",
            "Epoch 62/100\n",
            "7268/7268 [==============================] - 1s 190us/step - loss: 3.1270e-05 - acc: 1.0000 - val_loss: 2.1574e-05 - val_acc: 1.0000\n",
            "\n",
            "Epoch 00062: val_loss did not improve from 0.00000\n",
            "Epoch 63/100\n",
            "7268/7268 [==============================] - 1s 191us/step - loss: 1.3467e-05 - acc: 1.0000 - val_loss: 1.4089e-05 - val_acc: 1.0000\n",
            "\n",
            "Epoch 00063: val_loss did not improve from 0.00000\n",
            "Epoch 64/100\n",
            "7268/7268 [==============================] - 1s 193us/step - loss: 6.8521e-06 - acc: 1.0000 - val_loss: 3.7212e-06 - val_acc: 1.0000\n",
            "\n",
            "Epoch 00064: val_loss did not improve from 0.00000\n",
            "Epoch 65/100\n",
            "7268/7268 [==============================] - 1s 202us/step - loss: 1.6685e-05 - acc: 1.0000 - val_loss: 3.8955e-05 - val_acc: 1.0000\n",
            "\n",
            "Epoch 00065: val_loss did not improve from 0.00000\n",
            "Epoch 66/100\n",
            "7268/7268 [==============================] - 2s 215us/step - loss: 4.5296e-05 - acc: 1.0000 - val_loss: 7.3850e-06 - val_acc: 1.0000\n",
            "\n",
            "Epoch 00066: val_loss did not improve from 0.00000\n",
            "Epoch 67/100\n",
            "7268/7268 [==============================] - 1s 191us/step - loss: 6.1069e-06 - acc: 1.0000 - val_loss: 1.4973e-06 - val_acc: 1.0000\n",
            "\n",
            "Epoch 00067: val_loss did not improve from 0.00000\n",
            "Epoch 68/100\n",
            "7268/7268 [==============================] - 1s 198us/step - loss: 1.3617e-05 - acc: 1.0000 - val_loss: 1.0873e-04 - val_acc: 1.0000\n",
            "\n",
            "Epoch 00068: val_loss did not improve from 0.00000\n",
            "Epoch 69/100\n",
            "7268/7268 [==============================] - 1s 190us/step - loss: 5.1383e-05 - acc: 1.0000 - val_loss: 3.1894e-06 - val_acc: 1.0000\n",
            "\n",
            "Epoch 00069: val_loss did not improve from 0.00000\n",
            "Epoch 70/100\n",
            "7268/7268 [==============================] - 1s 192us/step - loss: 8.6477e-07 - acc: 1.0000 - val_loss: 1.4498e-07 - val_acc: 1.0000\n",
            "\n",
            "Epoch 00070: val_loss did not improve from 0.00000\n",
            "Epoch 71/100\n",
            "7268/7268 [==============================] - 1s 192us/step - loss: 2.5759e-07 - acc: 1.0000 - val_loss: 2.2198e-07 - val_acc: 1.0000\n",
            "\n",
            "Epoch 00071: val_loss did not improve from 0.00000\n",
            "Epoch 72/100\n",
            "7268/7268 [==============================] - 1s 197us/step - loss: 2.9619e-06 - acc: 1.0000 - val_loss: 1.1237e-05 - val_acc: 1.0000\n",
            "\n",
            "Epoch 00072: val_loss did not improve from 0.00000\n",
            "Epoch 73/100\n",
            "7268/7268 [==============================] - 1s 202us/step - loss: 5.0104e-05 - acc: 1.0000 - val_loss: 3.6350e-05 - val_acc: 1.0000\n",
            "\n",
            "Epoch 00073: val_loss did not improve from 0.00000\n",
            "Epoch 74/100\n",
            "7268/7268 [==============================] - 1s 194us/step - loss: 1.1535e-05 - acc: 1.0000 - val_loss: 7.7971e-06 - val_acc: 1.0000\n",
            "\n",
            "Epoch 00074: val_loss did not improve from 0.00000\n",
            "Epoch 75/100\n",
            "7268/7268 [==============================] - 1s 187us/step - loss: 8.8697e-06 - acc: 1.0000 - val_loss: 1.0754e-05 - val_acc: 1.0000\n",
            "\n",
            "Epoch 00075: val_loss did not improve from 0.00000\n",
            "Epoch 76/100\n",
            "7268/7268 [==============================] - 1s 201us/step - loss: 1.3840e-05 - acc: 1.0000 - val_loss: 2.3142e-05 - val_acc: 1.0000\n",
            "\n",
            "Epoch 00076: val_loss did not improve from 0.00000\n",
            "Epoch 77/100\n",
            "7268/7268 [==============================] - 1s 191us/step - loss: 2.8287e-05 - acc: 1.0000 - val_loss: 7.1614e-06 - val_acc: 1.0000\n",
            "\n",
            "Epoch 00077: val_loss did not improve from 0.00000\n",
            "Epoch 78/100\n",
            "7268/7268 [==============================] - 1s 190us/step - loss: 7.9040e-06 - acc: 1.0000 - val_loss: 1.7037e-06 - val_acc: 1.0000\n",
            "\n",
            "Epoch 00078: val_loss did not improve from 0.00000\n",
            "Epoch 79/100\n",
            "7268/7268 [==============================] - 1s 190us/step - loss: 6.9141e-06 - acc: 1.0000 - val_loss: 7.2364e-06 - val_acc: 1.0000\n",
            "\n",
            "Epoch 00079: val_loss did not improve from 0.00000\n",
            "Epoch 80/100\n",
            "7268/7268 [==============================] - 1s 203us/step - loss: 7.3306e-06 - acc: 1.0000 - val_loss: 1.5597e-05 - val_acc: 1.0000\n",
            "\n",
            "Epoch 00080: val_loss did not improve from 0.00000\n",
            "Epoch 81/100\n",
            "7268/7268 [==============================] - 1s 196us/step - loss: 1.7167e-05 - acc: 1.0000 - val_loss: 2.0838e-05 - val_acc: 1.0000\n",
            "\n",
            "Epoch 00081: val_loss did not improve from 0.00000\n",
            "Epoch 82/100\n",
            "7268/7268 [==============================] - 1s 194us/step - loss: 2.9078e-05 - acc: 1.0000 - val_loss: 7.4481e-06 - val_acc: 1.0000\n",
            "\n",
            "Epoch 00082: val_loss did not improve from 0.00000\n",
            "Epoch 83/100\n",
            "7268/7268 [==============================] - 2s 216us/step - loss: 7.0521e-06 - acc: 1.0000 - val_loss: 1.0916e-05 - val_acc: 1.0000\n",
            "\n",
            "Epoch 00083: val_loss did not improve from 0.00000\n",
            "Epoch 84/100\n",
            "7268/7268 [==============================] - 1s 195us/step - loss: 9.0861e-06 - acc: 1.0000 - val_loss: 9.9556e-06 - val_acc: 1.0000\n",
            "\n",
            "Epoch 00084: val_loss did not improve from 0.00000\n",
            "Epoch 85/100\n",
            "7268/7268 [==============================] - 1s 188us/step - loss: 2.3278e-05 - acc: 1.0000 - val_loss: 2.0918e-05 - val_acc: 1.0000\n",
            "\n",
            "Epoch 00085: val_loss did not improve from 0.00000\n",
            "Epoch 86/100\n",
            "7268/7268 [==============================] - 1s 200us/step - loss: 2.0037e-05 - acc: 1.0000 - val_loss: 9.7659e-06 - val_acc: 1.0000\n",
            "\n",
            "Epoch 00086: val_loss did not improve from 0.00000\n",
            "Epoch 87/100\n",
            "7268/7268 [==============================] - 2s 207us/step - loss: 5.3750e-06 - acc: 1.0000 - val_loss: 6.2089e-06 - val_acc: 1.0000\n",
            "\n",
            "Epoch 00087: val_loss did not improve from 0.00000\n",
            "Epoch 88/100\n",
            "7268/7268 [==============================] - 1s 197us/step - loss: 6.8153e-06 - acc: 1.0000 - val_loss: 5.4605e-06 - val_acc: 1.0000\n",
            "\n",
            "Epoch 00088: val_loss did not improve from 0.00000\n",
            "Epoch 89/100\n",
            "7268/7268 [==============================] - 1s 187us/step - loss: 1.5318e-05 - acc: 1.0000 - val_loss: 2.5108e-05 - val_acc: 1.0000\n",
            "\n",
            "Epoch 00089: val_loss did not improve from 0.00000\n",
            "Epoch 90/100\n",
            "7268/7268 [==============================] - 1s 191us/step - loss: 5.9984e-05 - acc: 1.0000 - val_loss: 6.7314e-06 - val_acc: 1.0000\n",
            "\n",
            "Epoch 00090: val_loss did not improve from 0.00000\n",
            "Epoch 91/100\n",
            "7268/7268 [==============================] - 1s 191us/step - loss: 1.7762e-06 - acc: 1.0000 - val_loss: 1.9456e-07 - val_acc: 1.0000\n",
            "\n",
            "Epoch 00091: val_loss did not improve from 0.00000\n",
            "Epoch 92/100\n",
            "7268/7268 [==============================] - 1s 191us/step - loss: 2.2340e-07 - acc: 1.0000 - val_loss: 1.5529e-06 - val_acc: 1.0000\n",
            "\n",
            "Epoch 00092: val_loss did not improve from 0.00000\n",
            "Epoch 93/100\n",
            "7268/7268 [==============================] - 1s 190us/step - loss: 4.2120e-06 - acc: 1.0000 - val_loss: 6.5169e-06 - val_acc: 1.0000\n",
            "\n",
            "Epoch 00093: val_loss did not improve from 0.00000\n",
            "Epoch 94/100\n",
            "7268/7268 [==============================] - 1s 203us/step - loss: 1.5544e-05 - acc: 1.0000 - val_loss: 5.8449e-05 - val_acc: 1.0000\n",
            "\n",
            "Epoch 00094: val_loss did not improve from 0.00000\n",
            "Epoch 95/100\n",
            "7268/7268 [==============================] - 1s 198us/step - loss: 6.8435e-05 - acc: 0.9999 - val_loss: 3.2716e-06 - val_acc: 1.0000\n",
            "\n",
            "Epoch 00095: val_loss did not improve from 0.00000\n",
            "Epoch 96/100\n",
            "7268/7268 [==============================] - 1s 200us/step - loss: 1.8574e-06 - acc: 1.0000 - val_loss: 2.2233e-07 - val_acc: 1.0000\n",
            "\n",
            "Epoch 00096: val_loss did not improve from 0.00000\n",
            "Epoch 97/100\n",
            "7268/7268 [==============================] - 1s 199us/step - loss: 1.4047e-07 - acc: 1.0000 - val_loss: 9.7391e-08 - val_acc: 1.0000\n",
            "\n",
            "Epoch 00097: val_loss did not improve from 0.00000\n",
            "Epoch 98/100\n",
            "7268/7268 [==============================] - 1s 193us/step - loss: 1.6869e-07 - acc: 1.0000 - val_loss: 9.2180e-07 - val_acc: 1.0000\n",
            "\n",
            "Epoch 00098: val_loss did not improve from 0.00000\n",
            "Epoch 99/100\n",
            "7268/7268 [==============================] - 1s 189us/step - loss: 1.7813e-05 - acc: 1.0000 - val_loss: 3.2079e-05 - val_acc: 1.0000\n",
            "\n",
            "Epoch 00099: val_loss did not improve from 0.00000\n",
            "Epoch 100/100\n",
            "7268/7268 [==============================] - 1s 206us/step - loss: 1.5218e-05 - acc: 1.0000 - val_loss: 5.3481e-06 - val_acc: 1.0000\n",
            "\n",
            "Epoch 00100: val_loss did not improve from 0.00000\n"
          ],
          "name": "stdout"
        }
      ]
    },
    {
      "cell_type": "code",
      "metadata": {
        "colab_type": "code",
        "id": "IF6YSSSHYmtx",
        "colab": {}
      },
      "source": [
        "decrypted_text = decrypter.predict(decrypter_X_train)"
      ],
      "execution_count": 0,
      "outputs": []
    },
    {
      "cell_type": "code",
      "metadata": {
        "colab_type": "code",
        "id": "7yVF08xCbtFJ",
        "colab": {}
      },
      "source": [
        "decrypted_int_text = change_output(decrypted_text)"
      ],
      "execution_count": 0,
      "outputs": []
    },
    {
      "cell_type": "code",
      "metadata": {
        "colab_type": "code",
        "id": "XZQgOIfDY6pp",
        "outputId": "a98eb7af-7963-4c1c-e9ac-08f35b1bbd75",
        "colab": {
          "base_uri": "https://localhost:8080/",
          "height": 91
        }
      },
      "source": [
        "print(decrypted_text[0])"
      ],
      "execution_count": 0,
      "outputs": [
        {
          "output_type": "stream",
          "text": [
            "[0. 0. 0. 0. 0. 0. 0. 0. 0. 0. 0. 0. 0. 0. 0. 0. 0. 0. 0. 0. 0. 0. 0. 0.\n",
            " 0. 0. 0. 0. 0. 0. 0. 0. 0. 0. 0. 0. 0. 0. 0. 0. 0. 0. 0. 0. 0. 0. 0. 0.\n",
            " 0. 0. 0. 0. 0. 0. 0. 0. 0. 0. 0. 0. 0. 0. 0. 0. 0. 0. 1. 0. 0. 0. 0. 0.\n",
            " 0. 0. 0. 0. 0. 0. 0. 0. 0. 0. 0. 0. 0. 0. 0. 0. 0. 0. 0.]\n"
          ],
          "name": "stdout"
        }
      ]
    },
    {
      "cell_type": "code",
      "metadata": {
        "colab_type": "code",
        "id": "12YIpy4zhQds",
        "outputId": "5be3f708-63a7-4855-9b60-3ccddb0dd2ee",
        "colab": {
          "base_uri": "https://localhost:8080/",
          "height": 91
        }
      },
      "source": [
        "print(decrypted_int_text[0])"
      ],
      "execution_count": 0,
      "outputs": [
        {
          "output_type": "stream",
          "text": [
            "[0. 0. 0. 0. 0. 0. 0. 0. 0. 0. 0. 0. 0. 0. 0. 0. 0. 0. 0. 0. 0. 0. 0. 0.\n",
            " 0. 0. 0. 0. 0. 0. 0. 0. 0. 0. 0. 0. 0. 0. 0. 0. 0. 0. 0. 0. 0. 0. 0. 0.\n",
            " 0. 0. 0. 0. 0. 0. 0. 0. 0. 0. 0. 0. 0. 0. 0. 0. 0. 0. 1. 0. 0. 0. 0. 0.\n",
            " 0. 0. 0. 0. 0. 0. 0. 0. 0. 0. 0. 0. 0. 0. 0. 0. 0. 0. 0.]\n"
          ],
          "name": "stdout"
        }
      ]
    },
    {
      "cell_type": "code",
      "metadata": {
        "colab_type": "code",
        "id": "3TagmGzNgf-A",
        "outputId": "07a916f4-8d5e-4f9e-eb56-1f31fe8eb851",
        "colab": {
          "base_uri": "https://localhost:8080/",
          "height": 91
        }
      },
      "source": [
        "print(decrypter_Y_train[0])"
      ],
      "execution_count": 0,
      "outputs": [
        {
          "output_type": "stream",
          "text": [
            "[0. 0. 0. 0. 0. 0. 0. 0. 0. 0. 0. 0. 0. 0. 0. 0. 0. 0. 0. 0. 0. 0. 0. 0.\n",
            " 0. 0. 0. 0. 0. 0. 0. 0. 0. 0. 0. 0. 0. 0. 0. 0. 0. 0. 0. 0. 0. 0. 0. 0.\n",
            " 0. 0. 0. 0. 0. 0. 0. 0. 0. 0. 0. 0. 0. 0. 0. 0. 0. 0. 1. 0. 0. 0. 0. 0.\n",
            " 0. 0. 0. 0. 0. 0. 0. 0. 0. 0. 0. 0. 0. 0. 0. 0. 0. 0. 0.]\n"
          ],
          "name": "stdout"
        }
      ]
    },
    {
      "cell_type": "code",
      "metadata": {
        "colab_type": "code",
        "id": "PBGt8kz9cm-3",
        "outputId": "d4a8a0c5-9b40-43ed-b24d-5d0841df93e4",
        "colab": {
          "base_uri": "https://localhost:8080/",
          "height": 36
        }
      },
      "source": [
        "print(np.argmax(decrypted_text[0]))"
      ],
      "execution_count": 0,
      "outputs": [
        {
          "output_type": "stream",
          "text": [
            "66\n"
          ],
          "name": "stdout"
        }
      ]
    },
    {
      "cell_type": "code",
      "metadata": {
        "colab_type": "code",
        "id": "mOv3Lse_cqTF",
        "outputId": "1e0ddc03-7130-457b-fb04-121d1f338513",
        "colab": {
          "base_uri": "https://localhost:8080/",
          "height": 36
        }
      },
      "source": [
        "print(np.argmax(decrypter_Y_train[0]))"
      ],
      "execution_count": 0,
      "outputs": [
        {
          "output_type": "stream",
          "text": [
            "66\n"
          ],
          "name": "stdout"
        }
      ]
    },
    {
      "cell_type": "code",
      "metadata": {
        "colab_type": "code",
        "id": "uUeBDUDqgxWK",
        "outputId": "4b0bb2f7-e01d-4591-9567-1c555d0547d5",
        "colab": {
          "base_uri": "https://localhost:8080/",
          "height": 91
        }
      },
      "source": [
        "print(decrypted_text[1])"
      ],
      "execution_count": 0,
      "outputs": [
        {
          "output_type": "stream",
          "text": [
            "[0. 0. 0. 0. 0. 0. 0. 1. 0. 0. 0. 0. 0. 0. 0. 0. 0. 0. 0. 0. 0. 0. 0. 0.\n",
            " 0. 0. 0. 0. 0. 0. 0. 0. 0. 0. 0. 0. 0. 0. 0. 0. 0. 0. 0. 0. 0. 0. 0. 0.\n",
            " 0. 0. 0. 0. 0. 0. 0. 0. 0. 0. 0. 0. 0. 0. 0. 0. 0. 0. 0. 0. 0. 0. 0. 0.\n",
            " 0. 0. 0. 0. 0. 0. 0. 0. 0. 0. 0. 0. 0. 0. 0. 0. 0. 0. 0.]\n"
          ],
          "name": "stdout"
        }
      ]
    },
    {
      "cell_type": "code",
      "metadata": {
        "colab_type": "code",
        "id": "hUtnWwnohYRd",
        "outputId": "2473b249-10a2-488f-d509-99b4cc25334a",
        "colab": {
          "base_uri": "https://localhost:8080/",
          "height": 91
        }
      },
      "source": [
        "print(decrypted_int_text[1])"
      ],
      "execution_count": 0,
      "outputs": [
        {
          "output_type": "stream",
          "text": [
            "[0. 0. 0. 0. 0. 0. 0. 1. 0. 0. 0. 0. 0. 0. 0. 0. 0. 0. 0. 0. 0. 0. 0. 0.\n",
            " 0. 0. 0. 0. 0. 0. 0. 0. 0. 0. 0. 0. 0. 0. 0. 0. 0. 0. 0. 0. 0. 0. 0. 0.\n",
            " 0. 0. 0. 0. 0. 0. 0. 0. 0. 0. 0. 0. 0. 0. 0. 0. 0. 0. 0. 0. 0. 0. 0. 0.\n",
            " 0. 0. 0. 0. 0. 0. 0. 0. 0. 0. 0. 0. 0. 0. 0. 0. 0. 0. 0.]\n"
          ],
          "name": "stdout"
        }
      ]
    },
    {
      "cell_type": "code",
      "metadata": {
        "colab_type": "code",
        "id": "XFO2H-Efgtd0",
        "outputId": "547206df-16e3-48a0-9198-59747036364f",
        "colab": {
          "base_uri": "https://localhost:8080/",
          "height": 91
        }
      },
      "source": [
        "print(decrypter_Y_train[1])"
      ],
      "execution_count": 0,
      "outputs": [
        {
          "output_type": "stream",
          "text": [
            "[0. 0. 0. 0. 0. 0. 0. 1. 0. 0. 0. 0. 0. 0. 0. 0. 0. 0. 0. 0. 0. 0. 0. 0.\n",
            " 0. 0. 0. 0. 0. 0. 0. 0. 0. 0. 0. 0. 0. 0. 0. 0. 0. 0. 0. 0. 0. 0. 0. 0.\n",
            " 0. 0. 0. 0. 0. 0. 0. 0. 0. 0. 0. 0. 0. 0. 0. 0. 0. 0. 0. 0. 0. 0. 0. 0.\n",
            " 0. 0. 0. 0. 0. 0. 0. 0. 0. 0. 0. 0. 0. 0. 0. 0. 0. 0. 0.]\n"
          ],
          "name": "stdout"
        }
      ]
    },
    {
      "cell_type": "code",
      "metadata": {
        "colab_type": "code",
        "id": "DustfvvNZifM",
        "outputId": "b844221e-ea9d-4212-ebf8-4d34e0786788",
        "colab": {
          "base_uri": "https://localhost:8080/",
          "height": 36
        }
      },
      "source": [
        "print(np.argmax(decrypted_text[1]))"
      ],
      "execution_count": 0,
      "outputs": [
        {
          "output_type": "stream",
          "text": [
            "7\n"
          ],
          "name": "stdout"
        }
      ]
    },
    {
      "cell_type": "code",
      "metadata": {
        "colab_type": "code",
        "id": "4XlIEAunaqp0",
        "outputId": "ff92b67b-5435-403d-9881-366c66b2e6ed",
        "colab": {
          "base_uri": "https://localhost:8080/",
          "height": 36
        }
      },
      "source": [
        "print(np.argmax(decrypter_Y_train[1]))"
      ],
      "execution_count": 0,
      "outputs": [
        {
          "output_type": "stream",
          "text": [
            "7\n"
          ],
          "name": "stdout"
        }
      ]
    },
    {
      "cell_type": "code",
      "metadata": {
        "colab_type": "code",
        "id": "0hmG6OSvhMQ9",
        "outputId": "31faaddb-b0bb-4a88-e079-16e2e92e22ba",
        "colab": {
          "base_uri": "https://localhost:8080/",
          "height": 36
        }
      },
      "source": [
        "accuracy(decrypted_int_text, decrypter_Y_train)"
      ],
      "execution_count": 0,
      "outputs": [
        {
          "output_type": "stream",
          "text": [
            "Accuracy for the given batch is : 100.0  % \n"
          ],
          "name": "stdout"
        }
      ]
    },
    {
      "cell_type": "code",
      "metadata": {
        "colab_type": "code",
        "id": "fr20f-ilhj2x",
        "colab": {}
      },
      "source": [
        "decrypted_Y_test_pred = decrypter.predict(decrypter_X_test)"
      ],
      "execution_count": 0,
      "outputs": []
    },
    {
      "cell_type": "code",
      "metadata": {
        "id": "1jV1SYTaBH4-",
        "colab_type": "code",
        "colab": {}
      },
      "source": [
        "decrypted_Y_test_pred = change_output(decrypted_Y_test_pred)"
      ],
      "execution_count": 0,
      "outputs": []
    },
    {
      "cell_type": "code",
      "metadata": {
        "id": "Zo-1V_q7CA_H",
        "colab_type": "code",
        "outputId": "efa36cab-0794-40c7-92a3-9e8c6920819e",
        "colab": {
          "base_uri": "https://localhost:8080/",
          "height": 36
        }
      },
      "source": [
        "accuracy(decrypted_Y_test_pred, decrypter_Y_test)"
      ],
      "execution_count": 0,
      "outputs": [
        {
          "output_type": "stream",
          "text": [
            "Accuracy for the given batch is : 100.0  % \n"
          ],
          "name": "stdout"
        }
      ]
    },
    {
      "cell_type": "code",
      "metadata": {
        "id": "bEwrOfRJdTQh",
        "colab_type": "code",
        "outputId": "aec35e4e-998c-48c3-835c-a5676aadacc3",
        "colab": {
          "base_uri": "https://localhost:8080/",
          "height": 36
        }
      },
      "source": [
        "# serialize model to JSON\n",
        "model_json = decrypter.to_json()\n",
        "with open(\"decrypter_v1_2_1.json\", \"w\") as json_file:\n",
        "    json_file.write(model_json)\n",
        "# serialize weights to HDF5\n",
        "decrypter.save_weights(\"decrypter_v1_2_1.h5\")\n",
        "print(\"Saved model to disk\")"
      ],
      "execution_count": 0,
      "outputs": [
        {
          "output_type": "stream",
          "text": [
            "Saved model to disk\n"
          ],
          "name": "stdout"
        }
      ]
    },
    {
      "cell_type": "code",
      "metadata": {
        "id": "h1gHq2z93Df6",
        "colab_type": "code",
        "outputId": "1e47cb3d-f455-48d0-acd4-8c5ab9b8755c",
        "colab": {
          "base_uri": "https://localhost:8080/",
          "height": 36
        }
      },
      "source": [
        "# load json and create model\n",
        "json_file = open('/content/decrypter_v1_2_1.json', 'r')\n",
        "loaded_model_json = json_file.read()\n",
        "json_file.close()\n",
        "loaded_model = model_from_json(loaded_model_json)\n",
        "# load weights into new model\n",
        "loaded_model.load_weights(\"/content/decrypter_v1_2_1.h5\")\n",
        "print(\"Loaded model from disk\")"
      ],
      "execution_count": 0,
      "outputs": [
        {
          "output_type": "stream",
          "text": [
            "Loaded model from disk\n"
          ],
          "name": "stdout"
        }
      ]
    },
    {
      "cell_type": "code",
      "metadata": {
        "id": "F4sPlsHN_a4I",
        "colab_type": "code",
        "outputId": "0bc33dbb-b239-4313-ec7e-652e06cd14bc",
        "colab": {
          "base_uri": "https://localhost:8080/",
          "height": 36
        }
      },
      "source": [
        "print(\"Decrypter can be loaded and run\")"
      ],
      "execution_count": 0,
      "outputs": [
        {
          "output_type": "stream",
          "text": [
            "Decrypter can be loaded and run\n"
          ],
          "name": "stdout"
        }
      ]
    },
    {
      "cell_type": "code",
      "metadata": {
        "id": "QNy1H8d4_vlO",
        "colab_type": "code",
        "colab": {}
      },
      "source": [
        ""
      ],
      "execution_count": 0,
      "outputs": []
    }
  ]
}