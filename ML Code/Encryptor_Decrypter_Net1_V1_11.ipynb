{
  "nbformat": 4,
  "nbformat_minor": 0,
  "metadata": {
    "accelerator": "GPU",
    "colab": {
      "name": "Encryptor_Decrypter_Net1_V1.11.ipynb",
      "version": "0.3.2",
      "provenance": [],
      "collapsed_sections": []
    },
    "kernelspec": {
      "name": "python3",
      "display_name": "Python 3"
    },
    "language_info": {
      "codemirror_mode": {
        "name": "ipython",
        "version": 3
      },
      "file_extension": ".py",
      "mimetype": "text/x-python",
      "name": "python",
      "nbconvert_exporter": "python",
      "pygments_lexer": "ipython3",
      "version": "3.7.4"
    }
  },
  "cells": [
    {
      "cell_type": "code",
      "metadata": {
        "colab_type": "code",
        "id": "OZ7nAf50AkBu",
        "outputId": "a0eb69c6-b4a2-4ec4-cb86-6b006b361ee3",
        "colab": {
          "base_uri": "https://localhost:8080/",
          "height": 36
        }
      },
      "source": [
        "pip install tensorboardcolab"
      ],
      "execution_count": 0,
      "outputs": [
        {
          "output_type": "stream",
          "text": [
            "Requirement already satisfied: tensorboardcolab in /usr/local/lib/python3.6/dist-packages (0.0.22)\n"
          ],
          "name": "stdout"
        }
      ]
    },
    {
      "cell_type": "code",
      "metadata": {
        "colab_type": "code",
        "id": "wo8FpE5nAl6_",
        "outputId": "f9bd4a40-7c7d-4674-99c2-ea77f70e1700",
        "colab": {
          "base_uri": "https://localhost:8080/",
          "height": 73
        }
      },
      "source": [
        "from tensorboardcolab import TensorBoardColab, TensorBoardColabCallback\n",
        "tbc=TensorBoardColab()"
      ],
      "execution_count": 0,
      "outputs": [
        {
          "output_type": "stream",
          "text": [
            "Wait for 8 seconds...\n",
            "TensorBoard link:\n",
            "https://482d1da0.ngrok.io\n"
          ],
          "name": "stdout"
        }
      ]
    },
    {
      "cell_type": "code",
      "metadata": {
        "colab_type": "code",
        "id": "hfntcH0W00ee",
        "colab": {
          "base_uri": "https://localhost:8080/",
          "height": 34
        },
        "outputId": "ebaf4b0b-fcd8-4488-dc76-421fc333ea37"
      },
      "source": [
        "from keras import Sequential\n",
        "from keras import layers\n",
        "from keras import optimizers\n",
        "\n",
        "from keras.callbacks import ModelCheckpoint\n",
        "from keras.callbacks import ReduceLROnPlateau"
      ],
      "execution_count": 1,
      "outputs": [
        {
          "output_type": "stream",
          "text": [
            "Using TensorFlow backend.\n"
          ],
          "name": "stderr"
        }
      ]
    },
    {
      "cell_type": "code",
      "metadata": {
        "colab_type": "code",
        "id": "1jPmeBAc9dD-",
        "colab": {}
      },
      "source": [
        "import warnings\n",
        "warnings.filterwarnings('ignore')"
      ],
      "execution_count": 0,
      "outputs": []
    },
    {
      "cell_type": "code",
      "metadata": {
        "colab_type": "code",
        "id": "5DyLy5GF7lnD",
        "colab": {}
      },
      "source": [
        "import numpy as np\n",
        "from sklearn.metrics import accuracy_score\n",
        "import string"
      ],
      "execution_count": 0,
      "outputs": []
    },
    {
      "cell_type": "code",
      "metadata": {
        "colab_type": "code",
        "id": "GrY57mTsbIaw",
        "colab": {}
      },
      "source": [
        "def create_labels(paragraph, hashmap):\n",
        "    # paragraph = paragraph.lower()\n",
        "    output = []\n",
        "    for i in paragraph:\n",
        "        output.append(list(map(int,str(hashmap[i]))))\n",
        "    \n",
        "    return np.array(output)\n"
      ],
      "execution_count": 0,
      "outputs": []
    },
    {
      "cell_type": "code",
      "metadata": {
        "id": "eq-taeGtXApQ",
        "colab_type": "code",
        "colab": {}
      },
      "source": [
        "para = \" ab b a\"\n",
        "hashmap = {'x': 10001100, '^': 11010110, '@': 11100001, ')': 10100000, ' ': 10011000, '+': 10010100,\n",
        " '4': 10001011, 'M': 10100011,\n",
        "  '-': 10001010, 'd': 11001111, 'F': 10111000, '/': 10111110, 'C': 11101111, 'm': 10100111,\n",
        "   'S': 10111111, '=': 11101110, '<': 11010001, '`': 10110001, '%': 11001001, 'e': 10001110,\n",
        "           '\"': 11011010, '&': 10000111, 'p': 11000100, '>': 11000011, 'v': 10010000, 'q': 10010110, 'H': 10100100,\n",
        "           '$': 11100110, 'T': 10000110, ':': 10100001, 'B': 11100011, 'R': 10110011, '?': 11010000, '6': 11101101, 'V': 11110100, '2': 11001011, 't': 10010111, 'D': 10001000, 'W': 11101100, '3': 11101010, 'J': 11111111, 'g': 11111011, '.': 11011101, 'O': 10001101, '!': 11100101, 'L': 10010011,\n",
        "    ']': 11011011, 'I': 10111101, 'y': 11000001, 'X': 10000011, 'j': 10111010, 'Z': 10101101, ',': 11111101,\n",
        "           'h': 11011111, '_': 11010111, 'P': 11001110, '0': 11101011, 'k': 10111011, 'a': 10101001, 'r': 11110001, '\\\\': 11000000, 'Y': 10110000, 'l': 10110111, 'b': 11110000, 'z': 10101111, 's': 11001101, ';': 11110010, 'c': 11110111, 'U': 10000101, '[': 11001010, 'o': 11101001, 'N': 10100101, '1': 11001000, '7': 10011011, 'f': 10101100, 'G': 10111001, 'A': 10111100, 'n': 10000100, '5': 11000111, 'E': 10100010, '9': 11100010, 'Q': 11110011,\n",
        "     \"'\": 10011100, 'w': 11111110, 'i': 11001100, '8': 11100111, '#': 11011000, 'K': 10011101, '(': 10011111, 'u': 10011001, '*': 11100100}\n"
      ],
      "execution_count": 0,
      "outputs": []
    },
    {
      "cell_type": "code",
      "metadata": {
        "id": "MtWygSd5XApS",
        "colab_type": "code",
        "colab": {
          "base_uri": "https://localhost:8080/",
          "height": 34
        },
        "outputId": "e6db9c92-1f92-43c4-9b60-fd12390b0138"
      },
      "source": [
        "print(len(hashmap))"
      ],
      "execution_count": 6,
      "outputs": [
        {
          "output_type": "stream",
          "text": [
            "91\n"
          ],
          "name": "stdout"
        }
      ]
    },
    {
      "cell_type": "code",
      "metadata": {
        "colab_type": "code",
        "id": "qKNaI7jVaDnP",
        "outputId": "de09ec7d-445e-4da1-a37b-390faa8a3056",
        "colab": {
          "base_uri": "https://localhost:8080/",
          "height": 50
        }
      },
      "source": [
        "Y_train = create_labels(para, hashmap)\n",
        "print(Y_train.shape)\n",
        "print(Y_train[0])"
      ],
      "execution_count": 7,
      "outputs": [
        {
          "output_type": "stream",
          "text": [
            "(7, 8)\n",
            "[1 0 0 1 1 0 0 0]\n"
          ],
          "name": "stdout"
        }
      ]
    },
    {
      "cell_type": "code",
      "metadata": {
        "colab_type": "code",
        "id": "bB6b260kLbtK",
        "colab": {}
      },
      "source": [
        "# def create_input_array(word):\n",
        "#     arrmain = []\n",
        "#     for letter in word:\n",
        "#         if(letter != ' '):\n",
        "#             arr = np.zeros(27)\n",
        "#             index = ord(letter) - 97\n",
        "#             arr[index] += 1\n",
        "#             arrmain.append(arr)\n",
        "#         else:\n",
        "#             arr = np.zeros(27)\n",
        "#             index2 = ord(' ') - 6\n",
        "#             arr[index2] += 1\n",
        "#             arrmain.append(arr)\n",
        "#     return(np.array(arrmain))\n"
      ],
      "execution_count": 0,
      "outputs": []
    },
    {
      "cell_type": "code",
      "metadata": {
        "id": "T-dzP-JDXApa",
        "colab_type": "code",
        "colab": {
          "base_uri": "https://localhost:8080/",
          "height": 87
        },
        "outputId": "3a948d76-ac4c-471f-d0c4-c6c45e0f1430"
      },
      "source": [
        "characters = [chr(i) for i in range(32, 123)]\n",
        "print(sorted(characters))\n",
        "print(ord(' '))\n",
        "print(ord('z'))"
      ],
      "execution_count": 8,
      "outputs": [
        {
          "output_type": "stream",
          "text": [
            "[' ', '!', '\"', '#', '$', '%', '&', \"'\", '(', ')', '*', '+', ',', '-', '.', '/', '0', '1', '2', '3', '4', '5', '6', '7', '8', '9', ':', ';', '<', '=', '>', '?', '@', 'A', 'B', 'C', 'D', 'E', 'F', 'G', 'H', 'I', 'J', 'K', 'L', 'M', 'N', 'O', 'P', 'Q', 'R', 'S', 'T', 'U', 'V', 'W', 'X', 'Y', 'Z', '[', '\\\\', ']', '^', '_', '`', 'a', 'b', 'c', 'd', 'e', 'f', 'g', 'h', 'i', 'j', 'k', 'l', 'm', 'n', 'o', 'p', 'q', 'r', 's', 't', 'u', 'v', 'w', 'x', 'y', 'z']\n",
            "32\n",
            "122\n"
          ],
          "name": "stdout"
        }
      ]
    },
    {
      "cell_type": "code",
      "metadata": {
        "id": "-fSezlSDXApd",
        "colab_type": "code",
        "colab": {}
      },
      "source": [
        "def create_input_array(word):\n",
        "    enc_l = []\n",
        "    for i in word:\n",
        "        arr = np.zeros(91)\n",
        "        enc = ord(i) - 32\n",
        "#         print(enc)\n",
        "        arr[enc] += 1\n",
        "        enc_l.append(arr)\n",
        "    return(np.array(enc_l))"
      ],
      "execution_count": 0,
      "outputs": []
    },
    {
      "cell_type": "code",
      "metadata": {
        "colab_type": "code",
        "id": "p87WM00gMuGM",
        "outputId": "5abe985c-da3c-49d3-f834-38d200274af0",
        "colab": {
          "base_uri": "https://localhost:8080/",
          "height": 302
        }
      },
      "source": [
        "w = 'ab c'\n",
        "inp_arr = create_input_array(w)\n",
        "print(inp_arr)\n",
        "print(inp_arr.shape)"
      ],
      "execution_count": 10,
      "outputs": [
        {
          "output_type": "stream",
          "text": [
            "[[0. 0. 0. 0. 0. 0. 0. 0. 0. 0. 0. 0. 0. 0. 0. 0. 0. 0. 0. 0. 0. 0. 0. 0.\n",
            "  0. 0. 0. 0. 0. 0. 0. 0. 0. 0. 0. 0. 0. 0. 0. 0. 0. 0. 0. 0. 0. 0. 0. 0.\n",
            "  0. 0. 0. 0. 0. 0. 0. 0. 0. 0. 0. 0. 0. 0. 0. 0. 0. 1. 0. 0. 0. 0. 0. 0.\n",
            "  0. 0. 0. 0. 0. 0. 0. 0. 0. 0. 0. 0. 0. 0. 0. 0. 0. 0. 0.]\n",
            " [0. 0. 0. 0. 0. 0. 0. 0. 0. 0. 0. 0. 0. 0. 0. 0. 0. 0. 0. 0. 0. 0. 0. 0.\n",
            "  0. 0. 0. 0. 0. 0. 0. 0. 0. 0. 0. 0. 0. 0. 0. 0. 0. 0. 0. 0. 0. 0. 0. 0.\n",
            "  0. 0. 0. 0. 0. 0. 0. 0. 0. 0. 0. 0. 0. 0. 0. 0. 0. 0. 1. 0. 0. 0. 0. 0.\n",
            "  0. 0. 0. 0. 0. 0. 0. 0. 0. 0. 0. 0. 0. 0. 0. 0. 0. 0. 0.]\n",
            " [1. 0. 0. 0. 0. 0. 0. 0. 0. 0. 0. 0. 0. 0. 0. 0. 0. 0. 0. 0. 0. 0. 0. 0.\n",
            "  0. 0. 0. 0. 0. 0. 0. 0. 0. 0. 0. 0. 0. 0. 0. 0. 0. 0. 0. 0. 0. 0. 0. 0.\n",
            "  0. 0. 0. 0. 0. 0. 0. 0. 0. 0. 0. 0. 0. 0. 0. 0. 0. 0. 0. 0. 0. 0. 0. 0.\n",
            "  0. 0. 0. 0. 0. 0. 0. 0. 0. 0. 0. 0. 0. 0. 0. 0. 0. 0. 0.]\n",
            " [0. 0. 0. 0. 0. 0. 0. 0. 0. 0. 0. 0. 0. 0. 0. 0. 0. 0. 0. 0. 0. 0. 0. 0.\n",
            "  0. 0. 0. 0. 0. 0. 0. 0. 0. 0. 0. 0. 0. 0. 0. 0. 0. 0. 0. 0. 0. 0. 0. 0.\n",
            "  0. 0. 0. 0. 0. 0. 0. 0. 0. 0. 0. 0. 0. 0. 0. 0. 0. 0. 0. 1. 0. 0. 0. 0.\n",
            "  0. 0. 0. 0. 0. 0. 0. 0. 0. 0. 0. 0. 0. 0. 0. 0. 0. 0. 0.]]\n",
            "(4, 91)\n"
          ],
          "name": "stdout"
        }
      ]
    },
    {
      "cell_type": "code",
      "metadata": {
        "colab_type": "code",
        "id": "LIzJTfqpaize",
        "colab": {}
      },
      "source": [
        "X_train_string = \"tnfhie zjtgv tqimu ewh hmkze khd deawo yjxving vhp rmcid mwgpby xyib hesl gzrsuvx uqw bkqgv sndwgbc qnbzs ykziwhj tozxe qsdfb hqni izjr dkcexn umpgnfq ucfqbox aozhfyb eputyvf hjzerv zcdtl kxvu mupa ibned dqkmr kqiop jiamwr miq eua xhsnc xvizcfy wdnahkm fgjrpyt ldtu cvhnfg duasjwi hfmlvow cuompn gnjtbxv adhc ebfg wtaznb skrmx yuhw vzempa jbacx qkgxnbi ymret pbjqd pvzkq oanbc fag dlwubxv csxtwv vnmew rmzykc emqr elqtbcm wbgpyoc qdgi nlyadu obaih qvhspz uskh psk fovkerl ksut ulpr dxclpm xku kdenia ricu cron hfdz aszxvmd xow kpawin ydcv sbnqpjv ajr smyz dft afeg cam gmu dcb dtihyr kzra oxfqwb jsxtrb odbewy jvo qcx \""
      ],
      "execution_count": 0,
      "outputs": []
    },
    {
      "cell_type": "code",
      "metadata": {
        "colab_type": "code",
        "id": "EJrO610CanyN",
        "outputId": "7d10715c-aef0-4a39-920d-dbb6157153dc",
        "colab": {
          "base_uri": "https://localhost:8080/",
          "height": 34
        }
      },
      "source": [
        "X_train = create_input_array(X_train_string)\n",
        "print(X_train.shape)"
      ],
      "execution_count": 12,
      "outputs": [
        {
          "output_type": "stream",
          "text": [
            "(618, 91)\n"
          ],
          "name": "stdout"
        }
      ]
    },
    {
      "cell_type": "code",
      "metadata": {
        "colab_type": "code",
        "id": "k5OYt_3K4WTr",
        "outputId": "8f642ece-2816-4eaf-db74-38fbca854a9e",
        "colab": {
          "base_uri": "https://localhost:8080/",
          "height": 84
        }
      },
      "source": [
        "print(X_train[0])"
      ],
      "execution_count": 13,
      "outputs": [
        {
          "output_type": "stream",
          "text": [
            "[0. 0. 0. 0. 0. 0. 0. 0. 0. 0. 0. 0. 0. 0. 0. 0. 0. 0. 0. 0. 0. 0. 0. 0.\n",
            " 0. 0. 0. 0. 0. 0. 0. 0. 0. 0. 0. 0. 0. 0. 0. 0. 0. 0. 0. 0. 0. 0. 0. 0.\n",
            " 0. 0. 0. 0. 0. 0. 0. 0. 0. 0. 0. 0. 0. 0. 0. 0. 0. 0. 0. 0. 0. 0. 0. 0.\n",
            " 0. 0. 0. 0. 0. 0. 0. 0. 0. 0. 0. 0. 1. 0. 0. 0. 0. 0. 0.]\n"
          ],
          "name": "stdout"
        }
      ]
    },
    {
      "cell_type": "code",
      "metadata": {
        "colab_type": "code",
        "id": "-ZZ0DyyIayLU",
        "outputId": "6bf637f7-d6bf-468c-fb1c-b05efb4887f7",
        "colab": {
          "base_uri": "https://localhost:8080/",
          "height": 34
        }
      },
      "source": [
        "Y_train = create_labels(X_train_string, hashmap)\n",
        "print(Y_train.shape)"
      ],
      "execution_count": 14,
      "outputs": [
        {
          "output_type": "stream",
          "text": [
            "(618, 8)\n"
          ],
          "name": "stdout"
        }
      ]
    },
    {
      "cell_type": "code",
      "metadata": {
        "colab_type": "code",
        "id": "5U9bNfTN4Yqy",
        "outputId": "ee9a606b-1d9b-4a7a-a0c7-f0bca360d0dd",
        "colab": {
          "base_uri": "https://localhost:8080/",
          "height": 151
        }
      },
      "source": [
        "print(Y_train)\n",
        "print(Y_train.shape)"
      ],
      "execution_count": 15,
      "outputs": [
        {
          "output_type": "stream",
          "text": [
            "[[1 0 0 ... 1 1 1]\n",
            " [1 0 0 ... 1 0 0]\n",
            " [1 0 1 ... 1 0 0]\n",
            " ...\n",
            " [1 1 1 ... 1 1 1]\n",
            " [1 0 0 ... 1 0 0]\n",
            " [1 0 0 ... 0 0 0]]\n",
            "(618, 8)\n"
          ],
          "name": "stdout"
        }
      ]
    },
    {
      "cell_type": "code",
      "metadata": {
        "colab_type": "code",
        "id": "u-dwRyza2IQJ",
        "colab": {}
      },
      "source": [
        "model = Sequential()\n",
        "model.add(layers.Dense(91, input_shape = (91,)))\n",
        "model.add(layers.LeakyReLU())\n",
        "\n",
        "\n",
        "model.add(layers.Dense(64))\n",
        "model.add(layers.LeakyReLU())\n",
        "\n",
        "model.add(layers.Dense(32))\n",
        "model.add(layers.LeakyReLU())\n",
        "\n",
        "model.add(layers.Dense(32))\n",
        "model.add(layers.LeakyReLU())\n",
        "\n",
        "model.add(layers.Dense(16))\n",
        "model.add(layers.LeakyReLU())\n",
        "\n",
        "model.add(layers.Dense(8))\n",
        "model.add(layers.LeakyReLU())"
      ],
      "execution_count": 0,
      "outputs": []
    },
    {
      "cell_type": "code",
      "metadata": {
        "colab_type": "code",
        "id": "dPG761brDYw_",
        "colab": {}
      },
      "source": [
        "learning_rate = 0.045\n",
        "epochs = 10\n",
        "batch_size = None"
      ],
      "execution_count": 0,
      "outputs": []
    },
    {
      "cell_type": "code",
      "metadata": {
        "colab_type": "code",
        "id": "I_KR8dgN9YCT",
        "colab": {}
      },
      "source": [
        "optim = optimizers.Adam(lr = learning_rate) "
      ],
      "execution_count": 0,
      "outputs": []
    },
    {
      "cell_type": "code",
      "metadata": {
        "colab_type": "code",
        "id": "VEN17qsk-VG5",
        "colab": {}
      },
      "source": [
        "checkpoint = ModelCheckpoint('/content/encrypt_1.h5', monitor = 'val_loss', verbose = 1, save_best_only = True, save_weights_only = True)\n",
        "reducelr = ReduceLROnPlateau(monitor = 'val_loss', verbose = 1, patience = 5,factor = 0.05, min_lr = 0.003)"
      ],
      "execution_count": 0,
      "outputs": []
    },
    {
      "cell_type": "code",
      "metadata": {
        "colab_type": "code",
        "id": "wd49fo9K-_pZ",
        "colab": {
          "base_uri": "https://localhost:8080/",
          "height": 70
        },
        "outputId": "3e485888-70d9-4c53-b446-ce7ba1766b5d"
      },
      "source": [
        "model.compile(optimizer = optim, loss = 'mean_squared_error', metrics = ['acc'])"
      ],
      "execution_count": 21,
      "outputs": [
        {
          "output_type": "stream",
          "text": [
            "WARNING:tensorflow:From /usr/local/lib/python3.6/dist-packages/keras/optimizers.py:793: The name tf.train.Optimizer is deprecated. Please use tf.compat.v1.train.Optimizer instead.\n",
            "\n"
          ],
          "name": "stdout"
        }
      ]
    },
    {
      "cell_type": "code",
      "metadata": {
        "colab_type": "code",
        "id": "7YrLUGHzraBA",
        "outputId": "f16717e1-f9b1-495b-e717-5d064c53d654",
        "colab": {
          "base_uri": "https://localhost:8080/",
          "height": 554
        }
      },
      "source": [
        "model.summary()"
      ],
      "execution_count": 22,
      "outputs": [
        {
          "output_type": "stream",
          "text": [
            "Model: \"sequential_2\"\n",
            "_________________________________________________________________\n",
            "Layer (type)                 Output Shape              Param #   \n",
            "=================================================================\n",
            "dense_7 (Dense)              (None, 91)                8372      \n",
            "_________________________________________________________________\n",
            "leaky_re_lu_7 (LeakyReLU)    (None, 91)                0         \n",
            "_________________________________________________________________\n",
            "dense_8 (Dense)              (None, 64)                5888      \n",
            "_________________________________________________________________\n",
            "leaky_re_lu_8 (LeakyReLU)    (None, 64)                0         \n",
            "_________________________________________________________________\n",
            "dense_9 (Dense)              (None, 32)                2080      \n",
            "_________________________________________________________________\n",
            "leaky_re_lu_9 (LeakyReLU)    (None, 32)                0         \n",
            "_________________________________________________________________\n",
            "dense_10 (Dense)             (None, 32)                1056      \n",
            "_________________________________________________________________\n",
            "leaky_re_lu_10 (LeakyReLU)   (None, 32)                0         \n",
            "_________________________________________________________________\n",
            "dense_11 (Dense)             (None, 16)                528       \n",
            "_________________________________________________________________\n",
            "leaky_re_lu_11 (LeakyReLU)   (None, 16)                0         \n",
            "_________________________________________________________________\n",
            "dense_12 (Dense)             (None, 8)                 136       \n",
            "_________________________________________________________________\n",
            "leaky_re_lu_12 (LeakyReLU)   (None, 8)                 0         \n",
            "=================================================================\n",
            "Total params: 18,060\n",
            "Trainable params: 18,060\n",
            "Non-trainable params: 0\n",
            "_________________________________________________________________\n"
          ],
          "name": "stdout"
        }
      ]
    },
    {
      "cell_type": "code",
      "metadata": {
        "colab_type": "code",
        "id": "KDuzHnbE_ryn",
        "outputId": "c8cbcf5e-17e7-4e12-d51b-1f967b57d93d",
        "colab": {
          "base_uri": "https://localhost:8080/",
          "height": 793
        }
      },
      "source": [
        "history = model.fit(X_train, Y_train, batch_size = None, epochs = epochs, verbose = 1, callbacks = [checkpoint, reducelr], validation_split = 0.1)"
      ],
      "execution_count": 24,
      "outputs": [
        {
          "output_type": "stream",
          "text": [
            "WARNING:tensorflow:From /usr/local/lib/python3.6/dist-packages/keras/backend/tensorflow_backend.py:1033: The name tf.assign_add is deprecated. Please use tf.compat.v1.assign_add instead.\n",
            "\n",
            "WARNING:tensorflow:From /usr/local/lib/python3.6/dist-packages/keras/backend/tensorflow_backend.py:1020: The name tf.assign is deprecated. Please use tf.compat.v1.assign instead.\n",
            "\n",
            "Train on 556 samples, validate on 62 samples\n",
            "Epoch 1/10\n",
            "556/556 [==============================] - 4s 8ms/step - loss: 0.2460 - acc: 0.4892 - val_loss: 0.1432 - val_acc: 0.1129\n",
            "\n",
            "Epoch 00001: val_loss improved from inf to 0.14318, saving model to /content/encrypt_1.h5\n",
            "Epoch 2/10\n",
            "556/556 [==============================] - 0s 196us/step - loss: 0.0901 - acc: 0.4029 - val_loss: 0.0713 - val_acc: 0.2742\n",
            "\n",
            "Epoch 00002: val_loss improved from 0.14318 to 0.07131, saving model to /content/encrypt_1.h5\n",
            "Epoch 3/10\n",
            "556/556 [==============================] - 0s 196us/step - loss: 0.0350 - acc: 0.3094 - val_loss: 0.0363 - val_acc: 0.2419\n",
            "\n",
            "Epoch 00003: val_loss improved from 0.07131 to 0.03625, saving model to /content/encrypt_1.h5\n",
            "Epoch 4/10\n",
            "556/556 [==============================] - 0s 199us/step - loss: 0.0268 - acc: 0.2086 - val_loss: 0.0194 - val_acc: 0.1935\n",
            "\n",
            "Epoch 00004: val_loss improved from 0.03625 to 0.01939, saving model to /content/encrypt_1.h5\n",
            "Epoch 5/10\n",
            "556/556 [==============================] - 0s 193us/step - loss: 0.0134 - acc: 0.1978 - val_loss: 0.0069 - val_acc: 0.0323\n",
            "\n",
            "Epoch 00005: val_loss improved from 0.01939 to 0.00693, saving model to /content/encrypt_1.h5\n",
            "Epoch 6/10\n",
            "556/556 [==============================] - 0s 181us/step - loss: 0.0067 - acc: 0.2014 - val_loss: 0.0065 - val_acc: 0.4032\n",
            "\n",
            "Epoch 00006: val_loss improved from 0.00693 to 0.00649, saving model to /content/encrypt_1.h5\n",
            "Epoch 7/10\n",
            "556/556 [==============================] - 0s 173us/step - loss: 0.0046 - acc: 0.2410 - val_loss: 0.0051 - val_acc: 0.3065\n",
            "\n",
            "Epoch 00007: val_loss improved from 0.00649 to 0.00512, saving model to /content/encrypt_1.h5\n",
            "Epoch 8/10\n",
            "556/556 [==============================] - 0s 201us/step - loss: 0.0036 - acc: 0.2266 - val_loss: 0.0025 - val_acc: 0.4194\n",
            "\n",
            "Epoch 00008: val_loss improved from 0.00512 to 0.00248, saving model to /content/encrypt_1.h5\n",
            "Epoch 9/10\n",
            "556/556 [==============================] - 0s 188us/step - loss: 0.0015 - acc: 0.2518 - val_loss: 0.0011 - val_acc: 0.0645\n",
            "\n",
            "Epoch 00009: val_loss improved from 0.00248 to 0.00107, saving model to /content/encrypt_1.h5\n",
            "Epoch 10/10\n",
            "556/556 [==============================] - 0s 187us/step - loss: 7.9353e-04 - acc: 0.1763 - val_loss: 7.5473e-04 - val_acc: 0.0484\n",
            "\n",
            "Epoch 00010: val_loss improved from 0.00107 to 0.00075, saving model to /content/encrypt_1.h5\n"
          ],
          "name": "stdout"
        }
      ]
    },
    {
      "cell_type": "code",
      "metadata": {
        "colab_type": "code",
        "id": "NG2n5wzubtRR",
        "colab": {}
      },
      "source": [
        "output = model.predict(X_train)"
      ],
      "execution_count": 0,
      "outputs": []
    },
    {
      "cell_type": "code",
      "metadata": {
        "colab_type": "code",
        "id": "cxfhJDgEjk1k",
        "outputId": "9944063f-f7f5-4513-c81d-819a31c0f97f",
        "colab": {
          "base_uri": "https://localhost:8080/",
          "height": 50
        }
      },
      "source": [
        "print(output[0])"
      ],
      "execution_count": 26,
      "outputs": [
        {
          "output_type": "stream",
          "text": [
            "[ 9.9578130e-01 -9.5213956e-04 -1.7695786e-03  9.8024845e-01\n",
            " -3.2474578e-03  9.8037529e-01  9.9418986e-01  9.8524410e-01]\n"
          ],
          "name": "stdout"
        }
      ]
    },
    {
      "cell_type": "code",
      "metadata": {
        "colab_type": "code",
        "id": "i2EM52czjp3d",
        "outputId": "b96b79cb-cbc8-499a-c88e-d2d4c2965f9b",
        "colab": {
          "base_uri": "https://localhost:8080/",
          "height": 34
        }
      },
      "source": [
        "print(Y_train[0])"
      ],
      "execution_count": 27,
      "outputs": [
        {
          "output_type": "stream",
          "text": [
            "[1 0 0 1 0 1 1 1]\n"
          ],
          "name": "stdout"
        }
      ]
    },
    {
      "cell_type": "code",
      "metadata": {
        "colab_type": "code",
        "id": "6udUI3uBQqY8",
        "outputId": "54a1e350-47f6-47ab-9422-3b6a51b61c41",
        "colab": {
          "base_uri": "https://localhost:8080/",
          "height": 34
        }
      },
      "source": [
        "print(output.shape)"
      ],
      "execution_count": 28,
      "outputs": [
        {
          "output_type": "stream",
          "text": [
            "(618, 8)\n"
          ],
          "name": "stdout"
        }
      ]
    },
    {
      "cell_type": "code",
      "metadata": {
        "colab_type": "code",
        "id": "42-FGlV9ezAb",
        "colab": {}
      },
      "source": [
        "def change_output(arr):\n",
        "    '''' Rounding off the confident outputs '''\n",
        "    row=arr.shape[0]\n",
        "    col=arr.shape[1]\n",
        "    for i in range(row):\n",
        "      for j in range(col):\n",
        "        if(arr[i][j]>0.5):\n",
        "          arr[i][j]=1\n",
        "        else:\n",
        "          arr[i][j]=0\n",
        "          \n",
        "    arr.astype('int')\n",
        "    return(arr)    "
      ],
      "execution_count": 0,
      "outputs": []
    },
    {
      "cell_type": "code",
      "metadata": {
        "colab_type": "code",
        "id": "KThKObMJQ9ZL",
        "colab": {}
      },
      "source": [
        "def accuracy(Y_pred, Y_train):\n",
        "    ''' Given the predicted array, it compares it with the hashmap and gives the accuracy score '''\n",
        "    Y_pred_int = change_output(Y_pred)\n",
        "    print(\"Accuracy for the given batch is :\", accuracy_score(Y_pred, Y_train) * 100 , \" % \")"
      ],
      "execution_count": 0,
      "outputs": []
    },
    {
      "cell_type": "code",
      "metadata": {
        "colab_type": "code",
        "id": "ddy_IWe2Apai",
        "outputId": "218c3353-87e4-4dd2-e21b-e1837f0d1d4e",
        "colab": {
          "base_uri": "https://localhost:8080/",
          "height": 34
        }
      },
      "source": [
        "Y_pred = model.predict(X_train)\n",
        "accuracy(Y_pred, Y_train)"
      ],
      "execution_count": 31,
      "outputs": [
        {
          "output_type": "stream",
          "text": [
            "Accuracy for the given batch is : 100.0  % \n"
          ],
          "name": "stdout"
        }
      ]
    },
    {
      "cell_type": "code",
      "metadata": {
        "colab_type": "code",
        "id": "3qA1Xn9ASVSF",
        "outputId": "adad217d-51c0-4352-a508-5b93d5f33d23",
        "colab": {
          "base_uri": "https://localhost:8080/",
          "height": 34
        }
      },
      "source": [
        "print(Y_train.shape)"
      ],
      "execution_count": 32,
      "outputs": [
        {
          "output_type": "stream",
          "text": [
            "(618, 8)\n"
          ],
          "name": "stdout"
        }
      ]
    },
    {
      "cell_type": "code",
      "metadata": {
        "colab_type": "code",
        "id": "AjmBxjI6R2ek",
        "colab": {}
      },
      "source": [
        "decrypter = Sequential()\n",
        "\n",
        "decrypter.add(layers.Dense(16, input_shape = (8,)))\n",
        "decrypter.add(layers.LeakyReLU())\n",
        "\n",
        "decrypter.add(layers.Dense(32))\n",
        "decrypter.add(layers.LeakyReLU())\n",
        "\n",
        "decrypter.add(layers.Dense(64))\n",
        "decrypter.add(layers.LeakyReLU())\n",
        "\n",
        "decrypter.add(layers.Dense(64))\n",
        "decrypter.add(layers.LeakyReLU())\n",
        "\n",
        "decrypter.add(layers.Dense(91))\n",
        "decrypter.add(layers.LeakyReLU())\n"
      ],
      "execution_count": 0,
      "outputs": []
    },
    {
      "cell_type": "code",
      "metadata": {
        "colab_type": "code",
        "id": "vaLReXz2T295",
        "colab": {}
      },
      "source": [
        "learning_rate = 0.045\n",
        "epochs = 10\n",
        "batch_size = None"
      ],
      "execution_count": 0,
      "outputs": []
    },
    {
      "cell_type": "code",
      "metadata": {
        "colab_type": "code",
        "id": "Vhs2BefhVXOh",
        "colab": {}
      },
      "source": [
        "decrypter_optimizer = optimizers.Adam(lr = learning_rate)"
      ],
      "execution_count": 0,
      "outputs": []
    },
    {
      "cell_type": "code",
      "metadata": {
        "colab_type": "code",
        "id": "-pkRbDzwVUEk",
        "colab": {}
      },
      "source": [
        "decrypter.compile(optimizer=decrypter_optimizer, loss = 'mean_squared_error', metrics = ['acc'])"
      ],
      "execution_count": 0,
      "outputs": []
    },
    {
      "cell_type": "code",
      "metadata": {
        "colab_type": "code",
        "id": "5KtULAzpVMnB",
        "colab": {}
      },
      "source": [
        "decrypter_X_train = Y_train\n",
        "decrypter_Y_train = X_train"
      ],
      "execution_count": 0,
      "outputs": []
    },
    {
      "cell_type": "code",
      "metadata": {
        "colab_type": "code",
        "id": "eUvLtRt_WE2z",
        "outputId": "a17fb523-2515-4e82-a4ee-ea1cfd6e285a",
        "colab": {
          "base_uri": "https://localhost:8080/",
          "height": 50
        }
      },
      "source": [
        "print(decrypter_X_train.shape)\n",
        "print(decrypter_Y_train.shape)"
      ],
      "execution_count": 50,
      "outputs": [
        {
          "output_type": "stream",
          "text": [
            "(618, 8)\n",
            "(618, 91)\n"
          ],
          "name": "stdout"
        }
      ]
    },
    {
      "cell_type": "code",
      "metadata": {
        "colab_type": "code",
        "id": "l24tT32UWJ_K",
        "colab": {}
      },
      "source": [
        "checkpoint = ModelCheckpoint('/content/denrypt_1.h5', monitor = 'val_loss', verbose = 1, save_best_only = True, save_weights_only = True)\n",
        "reducelr = ReduceLROnPlateau(monitor = 'val_loss', verbose = 1, patience = 5,factor = 0.05, min_lr = 0.003)"
      ],
      "execution_count": 0,
      "outputs": []
    },
    {
      "cell_type": "code",
      "metadata": {
        "colab_type": "code",
        "id": "Y2FyLCfgXuJM",
        "outputId": "821c2ced-d229-44bf-9b10-99bcf6a6bc2f",
        "colab": {
          "base_uri": "https://localhost:8080/",
          "height": 706
        }
      },
      "source": [
        "decrypter_history = decrypter.fit(decrypter_X_train, decrypter_Y_train,\n",
        "                              batch_size = None,\n",
        "                              epochs = epochs, verbose = 1,\n",
        "                              callbacks = [checkpoint, reducelr],\n",
        "                              validation_split = 0.1)"
      ],
      "execution_count": 52,
      "outputs": [
        {
          "output_type": "stream",
          "text": [
            "Train on 556 samples, validate on 62 samples\n",
            "Epoch 1/10\n",
            "556/556 [==============================] - 0s 831us/step - loss: 0.0158 - acc: 0.5216 - val_loss: 0.0088 - val_acc: 0.5645\n",
            "\n",
            "Epoch 00001: val_loss improved from inf to 0.00880, saving model to /content/denrypt_1.h5\n",
            "Epoch 2/10\n",
            "556/556 [==============================] - 0s 167us/step - loss: 0.0070 - acc: 0.7392 - val_loss: 0.0047 - val_acc: 0.9516\n",
            "\n",
            "Epoch 00002: val_loss improved from 0.00880 to 0.00469, saving model to /content/denrypt_1.h5\n",
            "Epoch 3/10\n",
            "556/556 [==============================] - 0s 164us/step - loss: 0.0037 - acc: 0.9640 - val_loss: 0.0027 - val_acc: 1.0000\n",
            "\n",
            "Epoch 00003: val_loss improved from 0.00469 to 0.00274, saving model to /content/denrypt_1.h5\n",
            "Epoch 4/10\n",
            "556/556 [==============================] - 0s 167us/step - loss: 0.0020 - acc: 1.0000 - val_loss: 0.0014 - val_acc: 1.0000\n",
            "\n",
            "Epoch 00004: val_loss improved from 0.00274 to 0.00137, saving model to /content/denrypt_1.h5\n",
            "Epoch 5/10\n",
            "556/556 [==============================] - 0s 192us/step - loss: 0.0011 - acc: 1.0000 - val_loss: 8.4584e-04 - val_acc: 1.0000\n",
            "\n",
            "Epoch 00005: val_loss improved from 0.00137 to 0.00085, saving model to /content/denrypt_1.h5\n",
            "Epoch 6/10\n",
            "556/556 [==============================] - 0s 198us/step - loss: 6.7674e-04 - acc: 1.0000 - val_loss: 6.9039e-04 - val_acc: 1.0000\n",
            "\n",
            "Epoch 00006: val_loss improved from 0.00085 to 0.00069, saving model to /content/denrypt_1.h5\n",
            "Epoch 7/10\n",
            "556/556 [==============================] - 0s 177us/step - loss: 5.1370e-04 - acc: 1.0000 - val_loss: 4.2403e-04 - val_acc: 1.0000\n",
            "\n",
            "Epoch 00007: val_loss improved from 0.00069 to 0.00042, saving model to /content/denrypt_1.h5\n",
            "Epoch 8/10\n",
            "556/556 [==============================] - 0s 166us/step - loss: 4.2776e-04 - acc: 1.0000 - val_loss: 4.8211e-04 - val_acc: 1.0000\n",
            "\n",
            "Epoch 00008: val_loss did not improve from 0.00042\n",
            "Epoch 9/10\n",
            "556/556 [==============================] - 0s 164us/step - loss: 3.6794e-04 - acc: 1.0000 - val_loss: 4.3419e-04 - val_acc: 1.0000\n",
            "\n",
            "Epoch 00009: val_loss did not improve from 0.00042\n",
            "Epoch 10/10\n",
            "556/556 [==============================] - 0s 174us/step - loss: 2.8913e-04 - acc: 1.0000 - val_loss: 2.3723e-04 - val_acc: 1.0000\n",
            "\n",
            "Epoch 00010: val_loss improved from 0.00042 to 0.00024, saving model to /content/denrypt_1.h5\n"
          ],
          "name": "stdout"
        }
      ]
    },
    {
      "cell_type": "code",
      "metadata": {
        "colab_type": "code",
        "id": "IF6YSSSHYmtx",
        "colab": {}
      },
      "source": [
        "decrypted_text = decrypter.predict(decrypter_X_train)"
      ],
      "execution_count": 0,
      "outputs": []
    },
    {
      "cell_type": "code",
      "metadata": {
        "colab_type": "code",
        "id": "7yVF08xCbtFJ",
        "colab": {}
      },
      "source": [
        "decrypted_int_text = change_output(decrypted_text)"
      ],
      "execution_count": 0,
      "outputs": []
    },
    {
      "cell_type": "code",
      "metadata": {
        "colab_type": "code",
        "id": "XZQgOIfDY6pp",
        "outputId": "d9bee754-b86f-4bc7-b344-3cbf80978609",
        "colab": {
          "base_uri": "https://localhost:8080/",
          "height": 84
        }
      },
      "source": [
        "print(decrypted_text[0])"
      ],
      "execution_count": 55,
      "outputs": [
        {
          "output_type": "stream",
          "text": [
            "[0. 0. 0. 0. 0. 0. 0. 0. 0. 0. 0. 0. 0. 0. 0. 0. 0. 0. 0. 0. 0. 0. 0. 0.\n",
            " 0. 0. 0. 0. 0. 0. 0. 0. 0. 0. 0. 0. 0. 0. 0. 0. 0. 0. 0. 0. 0. 0. 0. 0.\n",
            " 0. 0. 0. 0. 0. 0. 0. 0. 0. 0. 0. 0. 0. 0. 0. 0. 0. 0. 0. 0. 0. 0. 0. 0.\n",
            " 0. 0. 0. 0. 0. 0. 0. 0. 0. 0. 0. 0. 1. 0. 0. 0. 0. 0. 0.]\n"
          ],
          "name": "stdout"
        }
      ]
    },
    {
      "cell_type": "code",
      "metadata": {
        "colab_type": "code",
        "id": "12YIpy4zhQds",
        "outputId": "9d70c1bb-5e48-4d57-cd81-936d2b38a1e7",
        "colab": {
          "base_uri": "https://localhost:8080/",
          "height": 84
        }
      },
      "source": [
        "print(decrypted_int_text[0])"
      ],
      "execution_count": 56,
      "outputs": [
        {
          "output_type": "stream",
          "text": [
            "[0. 0. 0. 0. 0. 0. 0. 0. 0. 0. 0. 0. 0. 0. 0. 0. 0. 0. 0. 0. 0. 0. 0. 0.\n",
            " 0. 0. 0. 0. 0. 0. 0. 0. 0. 0. 0. 0. 0. 0. 0. 0. 0. 0. 0. 0. 0. 0. 0. 0.\n",
            " 0. 0. 0. 0. 0. 0. 0. 0. 0. 0. 0. 0. 0. 0. 0. 0. 0. 0. 0. 0. 0. 0. 0. 0.\n",
            " 0. 0. 0. 0. 0. 0. 0. 0. 0. 0. 0. 0. 1. 0. 0. 0. 0. 0. 0.]\n"
          ],
          "name": "stdout"
        }
      ]
    },
    {
      "cell_type": "code",
      "metadata": {
        "colab_type": "code",
        "id": "3TagmGzNgf-A",
        "outputId": "dc4b0fce-3a74-47c1-e96f-14ddb3aa851e",
        "colab": {
          "base_uri": "https://localhost:8080/",
          "height": 84
        }
      },
      "source": [
        "print(decrypter_Y_train[0])"
      ],
      "execution_count": 57,
      "outputs": [
        {
          "output_type": "stream",
          "text": [
            "[0. 0. 0. 0. 0. 0. 0. 0. 0. 0. 0. 0. 0. 0. 0. 0. 0. 0. 0. 0. 0. 0. 0. 0.\n",
            " 0. 0. 0. 0. 0. 0. 0. 0. 0. 0. 0. 0. 0. 0. 0. 0. 0. 0. 0. 0. 0. 0. 0. 0.\n",
            " 0. 0. 0. 0. 0. 0. 0. 0. 0. 0. 0. 0. 0. 0. 0. 0. 0. 0. 0. 0. 0. 0. 0. 0.\n",
            " 0. 0. 0. 0. 0. 0. 0. 0. 0. 0. 0. 0. 1. 0. 0. 0. 0. 0. 0.]\n"
          ],
          "name": "stdout"
        }
      ]
    },
    {
      "cell_type": "code",
      "metadata": {
        "colab_type": "code",
        "id": "PBGt8kz9cm-3",
        "outputId": "9ea354c6-660d-4112-bcec-717d834e95a6",
        "colab": {
          "base_uri": "https://localhost:8080/",
          "height": 34
        }
      },
      "source": [
        "print(np.argmax(decrypted_text[0]))"
      ],
      "execution_count": 58,
      "outputs": [
        {
          "output_type": "stream",
          "text": [
            "84\n"
          ],
          "name": "stdout"
        }
      ]
    },
    {
      "cell_type": "code",
      "metadata": {
        "colab_type": "code",
        "id": "mOv3Lse_cqTF",
        "outputId": "497cc0bc-06ba-4a8c-839c-223f850f8738",
        "colab": {
          "base_uri": "https://localhost:8080/",
          "height": 34
        }
      },
      "source": [
        "print(np.argmax(decrypter_Y_train[0]))"
      ],
      "execution_count": 59,
      "outputs": [
        {
          "output_type": "stream",
          "text": [
            "84\n"
          ],
          "name": "stdout"
        }
      ]
    },
    {
      "cell_type": "code",
      "metadata": {
        "colab_type": "code",
        "id": "uUeBDUDqgxWK",
        "outputId": "c9da4ba1-4bbd-4875-dae3-1730ec256a26",
        "colab": {
          "base_uri": "https://localhost:8080/",
          "height": 84
        }
      },
      "source": [
        "print(decrypted_text[1])"
      ],
      "execution_count": 60,
      "outputs": [
        {
          "output_type": "stream",
          "text": [
            "[0. 0. 0. 0. 0. 0. 0. 0. 0. 0. 0. 0. 0. 0. 0. 0. 0. 0. 0. 0. 0. 0. 0. 0.\n",
            " 0. 0. 0. 0. 0. 0. 0. 0. 0. 0. 0. 0. 0. 0. 0. 0. 0. 0. 0. 0. 0. 0. 0. 0.\n",
            " 0. 0. 0. 0. 0. 0. 0. 0. 0. 0. 0. 0. 0. 0. 0. 0. 0. 0. 0. 0. 0. 0. 0. 0.\n",
            " 0. 0. 0. 0. 0. 0. 1. 0. 0. 0. 0. 0. 0. 0. 0. 0. 0. 0. 0.]\n"
          ],
          "name": "stdout"
        }
      ]
    },
    {
      "cell_type": "code",
      "metadata": {
        "colab_type": "code",
        "id": "hUtnWwnohYRd",
        "outputId": "adab1a74-2719-4c74-883d-c75156c3eca3",
        "colab": {
          "base_uri": "https://localhost:8080/",
          "height": 84
        }
      },
      "source": [
        "print(decrypted_int_text[1])"
      ],
      "execution_count": 61,
      "outputs": [
        {
          "output_type": "stream",
          "text": [
            "[0. 0. 0. 0. 0. 0. 0. 0. 0. 0. 0. 0. 0. 0. 0. 0. 0. 0. 0. 0. 0. 0. 0. 0.\n",
            " 0. 0. 0. 0. 0. 0. 0. 0. 0. 0. 0. 0. 0. 0. 0. 0. 0. 0. 0. 0. 0. 0. 0. 0.\n",
            " 0. 0. 0. 0. 0. 0. 0. 0. 0. 0. 0. 0. 0. 0. 0. 0. 0. 0. 0. 0. 0. 0. 0. 0.\n",
            " 0. 0. 0. 0. 0. 0. 1. 0. 0. 0. 0. 0. 0. 0. 0. 0. 0. 0. 0.]\n"
          ],
          "name": "stdout"
        }
      ]
    },
    {
      "cell_type": "code",
      "metadata": {
        "colab_type": "code",
        "id": "XFO2H-Efgtd0",
        "outputId": "531f86ca-17a8-412f-de69-b568aa064d0b",
        "colab": {
          "base_uri": "https://localhost:8080/",
          "height": 84
        }
      },
      "source": [
        "print(decrypter_Y_train[1])"
      ],
      "execution_count": 62,
      "outputs": [
        {
          "output_type": "stream",
          "text": [
            "[0. 0. 0. 0. 0. 0. 0. 0. 0. 0. 0. 0. 0. 0. 0. 0. 0. 0. 0. 0. 0. 0. 0. 0.\n",
            " 0. 0. 0. 0. 0. 0. 0. 0. 0. 0. 0. 0. 0. 0. 0. 0. 0. 0. 0. 0. 0. 0. 0. 0.\n",
            " 0. 0. 0. 0. 0. 0. 0. 0. 0. 0. 0. 0. 0. 0. 0. 0. 0. 0. 0. 0. 0. 0. 0. 0.\n",
            " 0. 0. 0. 0. 0. 0. 1. 0. 0. 0. 0. 0. 0. 0. 0. 0. 0. 0. 0.]\n"
          ],
          "name": "stdout"
        }
      ]
    },
    {
      "cell_type": "code",
      "metadata": {
        "colab_type": "code",
        "id": "DustfvvNZifM",
        "outputId": "db083eba-6ce0-4f6d-f8ab-0fad363e6e25",
        "colab": {
          "base_uri": "https://localhost:8080/",
          "height": 34
        }
      },
      "source": [
        "print(np.argmax(decrypted_text[1]))"
      ],
      "execution_count": 63,
      "outputs": [
        {
          "output_type": "stream",
          "text": [
            "78\n"
          ],
          "name": "stdout"
        }
      ]
    },
    {
      "cell_type": "code",
      "metadata": {
        "colab_type": "code",
        "id": "4XlIEAunaqp0",
        "outputId": "faa751e1-4920-4587-d089-ba44c2644586",
        "colab": {
          "base_uri": "https://localhost:8080/",
          "height": 34
        }
      },
      "source": [
        "print(np.argmax(decrypter_Y_train[1]))"
      ],
      "execution_count": 64,
      "outputs": [
        {
          "output_type": "stream",
          "text": [
            "78\n"
          ],
          "name": "stdout"
        }
      ]
    },
    {
      "cell_type": "code",
      "metadata": {
        "colab_type": "code",
        "id": "0hmG6OSvhMQ9",
        "outputId": "3bcb362d-de31-4492-8ffe-188d5813a22a",
        "colab": {
          "base_uri": "https://localhost:8080/",
          "height": 34
        }
      },
      "source": [
        "accuracy(decrypted_int_text, decrypter_Y_train)"
      ],
      "execution_count": 65,
      "outputs": [
        {
          "output_type": "stream",
          "text": [
            "Accuracy for the given batch is : 100.0  % \n"
          ],
          "name": "stdout"
        }
      ]
    },
    {
      "cell_type": "code",
      "metadata": {
        "colab_type": "code",
        "id": "fr20f-ilhj2x",
        "colab": {}
      },
      "source": [
        ""
      ],
      "execution_count": 0,
      "outputs": []
    }
  ]
}